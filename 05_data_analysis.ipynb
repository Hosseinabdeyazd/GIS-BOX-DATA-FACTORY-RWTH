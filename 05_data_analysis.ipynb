{
 "cells": [
  {
   "cell_type": "markdown",
   "metadata": {},
   "source": [
    "# Hello GeoPandas, Alaaf Aachen! - Data analysis\n"
   ]
  },
  {
   "cell_type": "code",
   "execution_count": null,
   "metadata": {},
   "outputs": [],
   "source": [
    "import geopandas as gpd\n",
    "import pandas as pd\n",
    "import numpy as np\n",
    "import matplotlib.pyplot as plt"
   ]
  },
  {
   "cell_type": "markdown",
   "metadata": {},
   "source": [
    "## Reading/ Parsing all necessary files\n",
    "Let us load a dataset containing the statistical neighbourhoods of Aachen. It is located in the **/data/aachen** directory from where this notebook is located. GeoPandas supports a wide range of GIS data formats including Shape file (usually ending on .shp)."
   ]
  },
  {
   "cell_type": "code",
   "execution_count": null,
   "metadata": {},
   "outputs": [],
   "source": [
    "bezirke = gpd.read_file(\"./data/aachen/StatistischeBezirkeAachen.shp\")"
   ]
  },
  {
   "cell_type": "markdown",
   "metadata": {},
   "source": [
    "GeoPandas now has loaded the data from the shapefile with its geometric information and the data on the attributes of the shape into a table. We can inspect the table using the **.plot()** function offered by the GeoPandas DataFrame."
   ]
  },
  {
   "cell_type": "code",
   "execution_count": null,
   "metadata": {},
   "outputs": [],
   "source": [
    "bezirke.head()"
   ]
  },
  {
   "cell_type": "code",
   "execution_count": null,
   "metadata": {},
   "outputs": [],
   "source": [
    "bezirke.plot()"
   ]
  },
  {
   "cell_type": "markdown",
   "metadata": {},
   "source": [
    "So far, the data contained in the data set is not very interesting: just the shapes of the borders, an identificator  (\"STATBEZ\") to identify the area and the name stored in the column (\"ST_NAME\")."
   ]
  },
  {
   "cell_type": "code",
   "execution_count": null,
   "metadata": {},
   "outputs": [],
   "source": [
    "statistics = pd.read_csv(\"./data/aachen/einwohnerstatistik-31.12.2020.csv\")\n",
    "statistics.head()\n",
    "statistics.plot()"
   ]
  },
  {
   "cell_type": "markdown",
   "metadata": {},
   "source": [
    "## Investigating the information for commonalities\n",
    "This is a plain CSV Table that has no geographic information attached to it. However, the two DataFrames have a feature in common: the **id** of the area. The column names differ, they are the same entity though. Let's order the tables by the respective id and see whether they match.\n"
   ]
  },
  {
   "cell_type": "code",
   "execution_count": null,
   "metadata": {},
   "outputs": [],
   "source": [
    "#Resorting the statistic DataFrame\n",
    "sorted_stats = statistics.sort_values(by='StatBezName')\n",
    "sorted_stats.head()"
   ]
  },
  {
   "cell_type": "code",
   "execution_count": null,
   "metadata": {},
   "outputs": [],
   "source": [
    "#Resorting the bezirke DataFrame\n",
    "sorted_bezirke = bezirke.sort_values(by='ST_NAME')\n",
    "sorted_bezirke.head()"
   ]
  },
  {
   "cell_type": "markdown",
   "metadata": {},
   "source": [
    "With this information we can add the information from the extended statistics DataFrame we have assigned in `statistics` to the GeoDataFrame. Here, every column of the `statistics` data set is added to the table. With tabular data, this concept is referred to as **merging** or **joining** data. \n",
    "\n",
    "See an explanation on merging GeoDataFrames here: https://geopandas.org/docs/user_guide/mergingdata.html \n",
    "\n",
    "Here, we are joining the `statistics` data frame to the `bezirke` data from the left\n",
    "\n",
    "```\n",
    "bezirke <-- statistics\n",
    "```\n",
    "\n",
    "## Renaming columns \n",
    "First however, we have to rename the column name `Bez` from the `statistics` DataFrame to match the respective name `STATBEZ` in our `bezirke` DataFrame"
   ]
  },
  {
   "cell_type": "code",
   "execution_count": null,
   "metadata": {},
   "outputs": [],
   "source": [
    "statistics = statistics.rename(columns = {'Bez' : 'STATBEZ'})\n",
    "statistics.head(20)\n",
    "\n"
   ]
  },
  {
   "cell_type": "markdown",
   "metadata": {},
   "source": [
    "## Perparing information"
   ]
  },
  {
   "cell_type": "code",
   "execution_count": null,
   "metadata": {},
   "outputs": [],
   "source": [
    "#pd.to_numeric(statistics[\"STATBEZ\"])\n",
    "import numpy as np\n",
    "statistics = statistics.replace(r'^\\s*$', np.nan, regex=True)\n",
    "index = statistics[statistics['STATBEZ'] == np.nan].index\n",
    "#statistics.drop(34, inplace=True)\n",
    "statistics.head(20)"
   ]
  },
  {
   "cell_type": "markdown",
   "metadata": {},
   "source": [
    "Next we have an example for using NumPy dtype. Here we define the column content for __STATBEZ__ as type integer64. Integer, as we want them to be hole numbers not floating point numbers and 64 defines the size of date, here 64 bytes."
   ]
  },
  {
   "cell_type": "code",
   "execution_count": null,
   "metadata": {},
   "outputs": [],
   "source": [
    "statistics[\"STATBEZ\"] = statistics[\"STATBEZ\"].fillna(0)\n",
    "statistics[\"STATBEZ\"] = statistics[\"STATBEZ\"].astype('int64')\n",
    "\n",
    "statistics[\"STATBEZ\"].tail()"
   ]
  },
  {
   "cell_type": "markdown",
   "metadata": {},
   "source": [
    "## Merging information into one DataFrame"
   ]
  },
  {
   "cell_type": "code",
   "execution_count": null,
   "metadata": {},
   "outputs": [],
   "source": [
    "# inital attempt will result in an error. This is expected, see below for explanation and solution\n",
    "bezirke_stats  = bezirke.merge(statistics, on='STATBEZ', how='left')\n",
    "# bezirke_stats = bezirke.set_index('STATBEZ').join(statistics.set_index('STATBEZ'))\n",
    "bezirke_stats.tail(3)\n",
    "bezirke_stats = gpd.GeoDataFrame(bezirke_stats)\n",
    "type(bezirke_stats)\n",
    "bezirke_stats.head(5)"
   ]
  },
  {
   "cell_type": "code",
   "execution_count": null,
   "metadata": {},
   "outputs": [],
   "source": [
    "# set to min and max of data\n",
    "vmin, vmax = 0, 133623\n",
    "\n",
    "# create figure and axes for Matplotlib\n",
    "fig, ax = plt.subplots(1, figsize=(14,6))\n",
    "# add a title and annotation\n",
    "ax.set_title('Total population of Aachen', fontdict={'fontsize': '25', 'fontweight' : '3'})\n",
    "\n",
    "ax = bezirke_stats.plot(column='Pers', cmap = 'YlGnBu', ax=ax,   \n",
    "                                legend =  \n",
    "                                  True)"
   ]
  },
  {
   "cell_type": "code",
   "execution_count": null,
   "metadata": {},
   "outputs": [],
   "source": [
    "print(bezirke_stats[1:5][\"geometry\"].area)"
   ]
  },
  {
   "cell_type": "code",
   "execution_count": null,
   "metadata": {},
   "outputs": [],
   "source": [
    "bezirke_stats['popdens'] = bezirke_stats[\"Pers\"] / bezirke_stats[\"geometry\"].area*1000"
   ]
  },
  {
   "cell_type": "code",
   "execution_count": null,
   "metadata": {},
   "outputs": [],
   "source": [
    "bezirke_stats.head()"
   ]
  },
  {
   "cell_type": "code",
   "execution_count": null,
   "metadata": {},
   "outputs": [],
   "source": [
    "# set to min and max of data\n",
    "vmin, vmax = 0, 133623\n",
    "\n",
    "# create figure and axes for Matplotlib\n",
    "fig, ax = plt.subplots(1, figsize=(14,6))\n",
    "# add a title and annotation\n",
    "ax.set_title('Population Density of Aachen in 1000 inhabitants per km^2', fontdict={'fontsize': '25', 'fontweight' : '3'})\n",
    "\n",
    "ax = bezirke_stats.plot(column='popdens', cmap = 'YlGnBu', ax=ax,   \n",
    "                                legend =  \n",
    "                                  True)"
   ]
  },
  {
   "cell_type": "code",
   "execution_count": null,
   "metadata": {},
   "outputs": [],
   "source": []
  }
 ],
 "metadata": {
  "kernelspec": {
   "display_name": "Python 3",
   "language": "python",
   "name": "python3"
  },
  "language_info": {
   "codemirror_mode": {
    "name": "ipython",
    "version": 3
   },
   "file_extension": ".py",
   "mimetype": "text/x-python",
   "name": "python",
   "nbconvert_exporter": "python",
   "pygments_lexer": "ipython3",
   "version": "3.7.8"
  },
  "toc": {
   "base_numbering": 1,
   "nav_menu": {},
   "number_sections": true,
   "sideBar": true,
   "skip_h1_title": false,
   "title_cell": "Table of Contents",
   "title_sidebar": "Contents",
   "toc_cell": false,
   "toc_position": {},
   "toc_section_display": true,
   "toc_window_display": false
  }
 },
 "nbformat": 4,
 "nbformat_minor": 5
}
