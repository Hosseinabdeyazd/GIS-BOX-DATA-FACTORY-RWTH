{
 "cells": [
  {
   "cell_type": "markdown",
   "metadata": {
    "toc": true
   },
   "source": [
    "<h1>Table of Contents<span class=\"tocSkip\"></span></h1>\n",
    "<div class=\"toc\"><ul class=\"toc-item\"><li><span><a href=\"#Working-with-spatial-features\" data-toc-modified-id=\"Working-with-spatial-features-1\"><span class=\"toc-item-num\">1&nbsp;&nbsp;</span>Working with spatial features</a></span><ul class=\"toc-item\"><li><span><a href=\"#Map-matching\" data-toc-modified-id=\"Map-matching-1.1\"><span class=\"toc-item-num\">1.1&nbsp;&nbsp;</span>Map matching</a></span></li><li><span><a href=\"#Rating-spatial-information\" data-toc-modified-id=\"Rating-spatial-information-1.2\"><span class=\"toc-item-num\">1.2&nbsp;&nbsp;</span>Rating spatial information</a></span></li><li><span><a href=\"#A-second-example-considering-areas\" data-toc-modified-id=\"A-second-example-considering-areas-1.3\"><span class=\"toc-item-num\">1.3&nbsp;&nbsp;</span>A second example considering areas</a></span><ul class=\"toc-item\"><li><span><a href=\"#Exercise\" data-toc-modified-id=\"Exercise-1.3.1\"><span class=\"toc-item-num\">1.3.1&nbsp;&nbsp;</span>Exercise</a></span></li></ul></li></ul></li></ul></div>"
   ]
  },
  {
   "cell_type": "markdown",
   "metadata": {},
   "source": [
    "# Working with spatial features\n",
    "Available data is not necessary useful, but need further modelling to be meaningful. "
   ]
  },
  {
   "cell_type": "code",
   "execution_count": null,
   "metadata": {},
   "outputs": [],
   "source": [
    "import pandas as pd\n",
    "import geopandas as gpd\n",
    "import os\n",
    "import matplotlib.pyplot as plt \n",
    "import contextily\n",
    "import osmnx as ox\n",
    "from IPython.display import Image\n",
    "\n",
    "%matplotlib inline\n",
    "ox.config(log_console=True)\n",
    "ox.__version__"
   ]
  },
  {
   "cell_type": "markdown",
   "metadata": {},
   "source": [
    "First, we need to load a file, here one, that contains points in forest. When plotting the file, the visualization does not say much."
   ]
  },
  {
   "cell_type": "code",
   "execution_count": null,
   "metadata": {},
   "outputs": [],
   "source": [
    "kn_ac = gpd.read_file(r'./data/knotenpunkte-wald_ac.geojson')\n",
    "kn_ac.head()\n",
    "kn_ac.info()"
   ]
  },
  {
   "cell_type": "code",
   "execution_count": null,
   "metadata": {},
   "outputs": [],
   "source": [
    "kn_ac.plot()"
   ]
  },
  {
   "cell_type": "code",
   "execution_count": null,
   "metadata": {},
   "outputs": [],
   "source": [
    "kn_ac = kn_ac.to_crs(\"EPSG:4326\")\n",
    "kn_ac.head()"
   ]
  },
  {
   "cell_type": "markdown",
   "metadata": {},
   "source": [
    "## Map matching\n",
    "First, we need to query all the points of interest (POI) within the area our points cover. Next we require a polygon, that covers all the node ('Knotenpunkte'). Convex Hull is the smallest polygon that covers all points in the set. Based on this polygon we then use OpenStreeMap data to search for specific information. Points of interest within a specific domain, here parking."
   ]
  },
  {
   "cell_type": "code",
   "execution_count": null,
   "metadata": {},
   "outputs": [],
   "source": [
    "kn_ch = kn_ac.unary_union.convex_hull\n",
    "kn_ch"
   ]
  },
  {
   "cell_type": "code",
   "execution_count": null,
   "metadata": {},
   "outputs": [],
   "source": [
    "%%time\n",
    "\n",
    "pois = ox.geometries_from_polygon(\n",
    "    kn_ch, tags={\"amenity\": 'parking'}\n",
    ")\n",
    "kn_ac = kn_ac.to_crs(\"EPSG:3857\")\n",
    "pois = pois.to_crs(\"EPSG:3857\")\n"
   ]
  },
  {
   "cell_type": "markdown",
   "metadata": {},
   "source": [
    "After getting our parking data from OSM, we group and count them. Furthermore, we need to add them to put them to together in a plot and underlay a Basemap. "
   ]
  },
  {
   "cell_type": "code",
   "execution_count": null,
   "metadata": {},
   "outputs": [],
   "source": [
    "pois.groupby('amenity').amenity.count()"
   ]
  },
  {
   "cell_type": "code",
   "execution_count": null,
   "metadata": {},
   "outputs": [],
   "source": [
    "f,ax = plt.subplots(1)\n",
    "kn_ac.plot(ax=ax, marker='.')\n",
    "pois.plot(ax=ax, color='r')\n",
    "contextily.add_basemap(\n",
    "    ax, \n",
    "    crs=kn_ac.crs.to_string(), \n",
    "    source=contextily.providers.Stamen.Toner\n",
    ")"
   ]
  },
  {
   "cell_type": "code",
   "execution_count": null,
   "metadata": {},
   "outputs": [],
   "source": [
    "kn_ac.crs"
   ]
  },
  {
   "cell_type": "code",
   "execution_count": null,
   "metadata": {},
   "outputs": [],
   "source": [
    "pois.crs"
   ]
  },
  {
   "cell_type": "markdown",
   "metadata": {},
   "source": [
    "## Rating spatial information\n",
    "So far the information does not say much, it just gives us information about locations. To rate the information what is more or less valuable, we need to clarify the conditions. A node ('Knotenpunkt') is high rated when there is a lot of parking within the 500 m. It is a spatial join, as we link geometries based on spatial relationships/ predicates."
   ]
  },
  {
   "cell_type": "code",
   "execution_count": null,
   "metadata": {},
   "outputs": [],
   "source": [
    "kn_albers = kn_ac.to_crs(epsg=3311)\n",
    "kn_albers.head(20)"
   ]
  },
  {
   "cell_type": "code",
   "execution_count": null,
   "metadata": {},
   "outputs": [],
   "source": [
    "pois_albers = pois.to_crs(epsg=3311)\n",
    "pois_albers.head()"
   ]
  },
  {
   "cell_type": "markdown",
   "metadata": {},
   "source": [
    "Around each Knotenpunkt node, we set a radius of 500m. Next we compute the pairs of relations between the two information."
   ]
  },
  {
   "cell_type": "code",
   "execution_count": null,
   "metadata": {},
   "outputs": [],
   "source": [
    "kn_albers['buffer_500m'] = kn_albers.buffer(500)\n",
    "kn_ac.head()"
   ]
  },
  {
   "cell_type": "code",
   "execution_count": null,
   "metadata": {},
   "outputs": [],
   "source": [
    "joined = gpd.sjoin(\n",
    "    pois_albers,\n",
    "    kn_albers.set_geometry('buffer_500m')[['id', 'buffer_500m']],\n",
    "    op=\"within\"\n",
    ").reset_index()"
   ]
  },
  {
   "cell_type": "markdown",
   "metadata": {},
   "source": [
    "Next we count how many parking areas are within the reach of 500m of each node (Knotenpunkt)."
   ]
  },
  {
   "cell_type": "code",
   "execution_count": null,
   "metadata": {},
   "outputs": [],
   "source": [
    "poi_count = joined.groupby(\"id\")\\\n",
    "                  [\"osmid\"]\\\n",
    "                  .count()\\\n",
    "                  .to_frame('poi_count')\n",
    "poi_count.head(20)\n"
   ]
  },
  {
   "cell_type": "markdown",
   "metadata": {},
   "source": [
    "Now, we add the generated information to our original DataFrame. The last step is the visualization. Depending on the poi_count number for each node (Knotenpunkt) a colour schema is defined. And to localize each point we underlay a basemap."
   ]
  },
  {
   "cell_type": "code",
   "execution_count": null,
   "metadata": {},
   "outputs": [],
   "source": [
    "kn_w_counts = kn_albers.merge(\n",
    "    poi_count, left_on='id', right_index=True\n",
    ").fillna({\"poi_count\": 0})\n",
    "kn_w_counts.head()"
   ]
  },
  {
   "cell_type": "code",
   "execution_count": null,
   "metadata": {},
   "outputs": [],
   "source": [
    "f, ax = plt.subplots(1, figsize=(9, 9))\n",
    "kn_w_counts.plot(column=\"poi_count\",\n",
    "                      scheme=\"quantiles\",\n",
    "                      alpha=0.5,\n",
    "                      legend=True,\n",
    "                      ax=ax\n",
    "                     )\n",
    "contextily.add_basemap(ax, \n",
    "                       crs=kn_albers.crs.to_string(), \n",
    "                       source=contextily.providers.Stamen.Toner\n",
    "                      )"
   ]
  },
  {
   "cell_type": "markdown",
   "metadata": {},
   "source": [
    "## A second example considering areas\n",
    "We do another example using the area 'Umweltzone' which contains the Aachen city centre."
   ]
  },
  {
   "cell_type": "code",
   "execution_count": null,
   "metadata": {},
   "outputs": [],
   "source": [
    "uz = gpd.read_file(\"./data/umweltzone.shp\")\n",
    "uz.head()\n",
    "uz.info()"
   ]
  },
  {
   "cell_type": "code",
   "execution_count": null,
   "metadata": {},
   "outputs": [],
   "source": [
    "uz.plot()"
   ]
  },
  {
   "cell_type": "code",
   "execution_count": null,
   "metadata": {},
   "outputs": [],
   "source": [
    "uz = uz.to_crs(\"EPSG:4326\")\n",
    "uz.head()"
   ]
  },
  {
   "cell_type": "code",
   "execution_count": null,
   "metadata": {},
   "outputs": [],
   "source": [
    "uz_ch = uz.unary_union.convex_hull\n",
    "uz_ch"
   ]
  },
  {
   "cell_type": "code",
   "execution_count": null,
   "metadata": {},
   "outputs": [],
   "source": [
    "%%time\n",
    "pois = ox.geometries_from_polygon(\n",
    "    uz_ch, tags={\"amenity\": 'parking'}\n",
    ")\n",
    "uz = uz.to_crs(\"EPSG:3857\")\n",
    "pois = pois.to_crs(\"EPSG:3857\")"
   ]
  },
  {
   "cell_type": "code",
   "execution_count": null,
   "metadata": {},
   "outputs": [],
   "source": [
    "pois.groupby('amenity').amenity.count()"
   ]
  },
  {
   "cell_type": "code",
   "execution_count": null,
   "metadata": {},
   "outputs": [],
   "source": [
    "f,ax = plt.subplots(1,figsize=(12, 12))\n",
    "uz.plot(ax=ax, marker='.')\n",
    "pois.plot(ax=ax, color='r')\n",
    "contextily.add_basemap(\n",
    "    ax, \n",
    "    crs=uz.crs.to_string(), \n",
    "    source=contextily.providers.Stamen.Toner\n",
    ")"
   ]
  },
  {
   "cell_type": "markdown",
   "metadata": {},
   "source": [
    "### Exercise \n",
    "Take a look at the second example. Centroid the polygon and figure out how many parking areas are within 50, 100, 150, 200 meter."
   ]
  },
  {
   "cell_type": "code",
   "execution_count": null,
   "metadata": {},
   "outputs": [],
   "source": []
  }
 ],
 "metadata": {
  "kernelspec": {
   "display_name": "Python 3",
   "language": "python",
   "name": "python3"
  },
  "language_info": {
   "codemirror_mode": {
    "name": "ipython",
    "version": 3
   },
   "file_extension": ".py",
   "mimetype": "text/x-python",
   "name": "python",
   "nbconvert_exporter": "python",
   "pygments_lexer": "ipython3",
   "version": "3.8.8"
  },
  "toc": {
   "base_numbering": 1,
   "nav_menu": {},
   "number_sections": true,
   "sideBar": true,
   "skip_h1_title": false,
   "title_cell": "Table of Contents",
   "title_sidebar": "Contents",
   "toc_cell": true,
   "toc_position": {
    "height": "668.717px",
    "left": "940px",
    "top": "171.133px",
    "width": "165px"
   },
   "toc_section_display": true,
   "toc_window_display": true
  }
 },
 "nbformat": 4,
 "nbformat_minor": 2
}
