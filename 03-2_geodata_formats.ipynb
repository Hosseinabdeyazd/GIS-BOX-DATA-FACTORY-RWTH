{
 "cells": [
  {
   "cell_type": "markdown",
   "metadata": {},
   "source": [
    "# Introduction to GeoData formats\n",
    "## Shapefile\n",
    "A Shapefile has three required files:\n",
    "* .shp - geometry\n",
    "* .dbf - attributes\n",
    "* .shx - index  \n",
    "\n",
    "and there are three additional files:\n",
    "* .prj - projection/ Coordinate system\n",
    "* .sbn/sbx - spatial index\n",
    "* .xml - metadata\n",
    "<div>\n",
    "<img src=\"./img/shapefile.jpg\" width=\"250\"/>\n",
    "</div>\n",
    "Picture of the possible data files in a Shapefile.  \n",
    "\n",
    "The shape types in a Shapefile are:\n",
    "* points\n",
    "* lines\n",
    "* polygons\n",
    "* and multiples of them\n",
    "\n",
    "Every geometric feature has a geometry and attribute information."
   ]
  },
  {
   "cell_type": "markdown",
   "metadata": {},
   "source": [
    "Shapefile is binary based, which means you can not open it by using a text editor. In Python, you can read a Shapefile by using the GeoPandas package. Once in a GeoDataFrame, you can further edit like a parsed GeoJSON. By slicing the table and extract information."
   ]
  },
  {
   "cell_type": "code",
   "execution_count": null,
   "metadata": {},
   "outputs": [],
   "source": [
    "import geopandas as gpd\n",
    "import pandas as pd\n",
    "import numpy as np\n",
    "import matplotlib.pyplot as plt"
   ]
  },
  {
   "cell_type": "code",
   "execution_count": null,
   "metadata": {},
   "outputs": [],
   "source": [
    "bezirke = gpd.read_file(\"./data/aachen/StatistischeBezirkeAachen.shp\")\n",
    "bezirke.head()"
   ]
  },
  {
   "cell_type": "markdown",
   "metadata": {},
   "source": [
    "Shapefile is used for storing Simple-Feature-Geometry, but:\n",
    "* NULL-values not saved\n",
    "* Numbers are rounded\n",
    "* Unicode strings insufficiently supported\n",
    "* Field name length also limited to 10 characters\n",
    "* Date fields without time"
   ]
  },
  {
   "cell_type": "markdown",
   "metadata": {},
   "source": [
    "## GeoJSON\n",
    "GeoJSON is, after all, a JSON file, so it can be read as one. Therefore, geo-spacialized python packages such as GeoPandas are able to read GeoJSON.  \n",
    "GeoJSON supports additionally to JSON geometry types:  \n",
    "* Point\n",
    "* LineString\n",
    "* Polygon\n",
    "* MultiPoint\n",
    "* MultiLineString\n",
    "* MultiPolygon\n",
    "* Additional properties: Feature objects  \n",
    "\n",
    "<div>\n",
    "<img src=\"./img/geojson_bsp.jpg\" width=\"500\"/>\n",
    "</div>\n",
    "As the following example shows, sometimes files are not correct done and need to be improved. When using the following points as they are right now, one end up on the ocean."
   ]
  },
  {
   "cell_type": "code",
   "execution_count": 1,
   "metadata": {
    "scrolled": true
   },
   "outputs": [
    {
     "data": {
      "text/html": [
       "<div>\n",
       "<style scoped>\n",
       "    .dataframe tbody tr th:only-of-type {\n",
       "        vertical-align: middle;\n",
       "    }\n",
       "\n",
       "    .dataframe tbody tr th {\n",
       "        vertical-align: top;\n",
       "    }\n",
       "\n",
       "    .dataframe thead th {\n",
       "        text-align: right;\n",
       "    }\n",
       "</style>\n",
       "<table border=\"1\" class=\"dataframe\">\n",
       "  <thead>\n",
       "    <tr style=\"text-align: right;\">\n",
       "      <th></th>\n",
       "      <th>id</th>\n",
       "      <th>knotennr</th>\n",
       "      <th>geometry</th>\n",
       "    </tr>\n",
       "  </thead>\n",
       "  <tbody>\n",
       "    <tr>\n",
       "      <th>0</th>\n",
       "      <td>knotenpunkte.1</td>\n",
       "      <td>4</td>\n",
       "      <td>POINT (6.07890 50.76305)</td>\n",
       "    </tr>\n",
       "    <tr>\n",
       "      <th>1</th>\n",
       "      <td>knotenpunkte.2</td>\n",
       "      <td>19</td>\n",
       "      <td>POINT (6.10303 50.75383)</td>\n",
       "    </tr>\n",
       "    <tr>\n",
       "      <th>2</th>\n",
       "      <td>knotenpunkte.3</td>\n",
       "      <td>14</td>\n",
       "      <td>POINT (6.07006 50.75377)</td>\n",
       "    </tr>\n",
       "    <tr>\n",
       "      <th>3</th>\n",
       "      <td>knotenpunkte.4</td>\n",
       "      <td>16</td>\n",
       "      <td>POINT (6.06168 50.74572)</td>\n",
       "    </tr>\n",
       "    <tr>\n",
       "      <th>4</th>\n",
       "      <td>knotenpunkte.5</td>\n",
       "      <td>15</td>\n",
       "      <td>POINT (6.06156 50.74399)</td>\n",
       "    </tr>\n",
       "  </tbody>\n",
       "</table>\n",
       "</div>"
      ],
      "text/plain": [
       "               id  knotennr                  geometry\n",
       "0  knotenpunkte.1         4  POINT (6.07890 50.76305)\n",
       "1  knotenpunkte.2        19  POINT (6.10303 50.75383)\n",
       "2  knotenpunkte.3        14  POINT (6.07006 50.75377)\n",
       "3  knotenpunkte.4        16  POINT (6.06168 50.74572)\n",
       "4  knotenpunkte.5        15  POINT (6.06156 50.74399)"
      ]
     },
     "execution_count": 1,
     "metadata": {},
     "output_type": "execute_result"
    }
   ],
   "source": [
    "import geopandas as gpd\n",
    "import matplotlib\n",
    "import matplotlib.pyplot as plt\n",
    "import contextily\n",
    "new_geoj = gpd.read_file('data/knotenpunkte-wald_ac.geojson')\n",
    "new_geoj = new_geoj.to_crs(epsg=4326)\n",
    "new_geoj.head()"
   ]
  },
  {
   "cell_type": "markdown",
   "metadata": {},
   "source": [
    "Let us have a look at a GeoJSON and a GeoDataFrame, and how the information from the GeoJSON are stored in a GeoDataFrame. But make sure to try for yourself. Open a GeoJSON file and take a look at the structure. Compare it to the table you get when reading a GeoJSON using Python Geopandas.\n",
    "\n",
    "<div>\n",
    "<img src=\"./img/geojson_dataframe.png\" width=\"1000\"/>\n",
    "</div>"
   ]
  },
  {
   "cell_type": "markdown",
   "metadata": {},
   "source": [
    "The information are now stored in a GeoDataFrame. You can move on now and slice the table to get specific information (for example, about the coordinates). To get an idea about how the slicing can be done, we slice the **knotenpunkte-wald_ac.geojson** file for their **geometry** information. The **head()** method helps, to display the sliced information."
   ]
  },
  {
   "cell_type": "code",
   "execution_count": null,
   "metadata": {},
   "outputs": [],
   "source": [
    "slic_po = new_geoj['geometry']\n",
    "slic_po.head()"
   ]
  },
  {
   "cell_type": "markdown",
   "metadata": {},
   "source": [
    "We can also do other operations on the GeoDataFrame or even the sliced GeoDataFrame. In the following code cell, we use a **for-loop** to iterate over our sliced data, printing ever single element."
   ]
  },
  {
   "cell_type": "code",
   "execution_count": null,
   "metadata": {},
   "outputs": [],
   "source": [
    "for elem in new_geoj['geometry']:\n",
    "    print (elem)"
   ]
  },
  {
   "cell_type": "markdown",
   "metadata": {},
   "source": [
    "A plot of these point data does not show much, due to the fact, that there is no relation to geometric shapes or a visualization as a map."
   ]
  },
  {
   "cell_type": "code",
   "execution_count": null,
   "metadata": {
    "scrolled": true
   },
   "outputs": [],
   "source": [
    "tab = new_geoj.plot(figsize=(6, 6))\n",
    "plt.show()"
   ]
  },
  {
   "cell_type": "markdown",
   "metadata": {},
   "source": [
    "Type is helpful, if you want to know what sort of data you are working with."
   ]
  },
  {
   "cell_type": "code",
   "execution_count": null,
   "metadata": {},
   "outputs": [],
   "source": [
    "type(new_geoj.geometry[0])"
   ]
  },
  {
   "cell_type": "markdown",
   "metadata": {},
   "source": [
    "Next, we just change the colour of the points representing a knot, depending on their number and order. That does not help us localize each point, they are *just* coloured now, but still not have a visualized reference."
   ]
  },
  {
   "cell_type": "code",
   "execution_count": null,
   "metadata": {},
   "outputs": [],
   "source": [
    "ax = new_geoj.set_geometry('geometry')\\\n",
    "                .plot('knotennr', \n",
    "                      markersize=20)"
   ]
  },
  {
   "cell_type": "code",
   "execution_count": null,
   "metadata": {},
   "outputs": [],
   "source": [
    "type(ax)"
   ]
  },
  {
   "cell_type": "markdown",
   "metadata": {},
   "source": [
    "### EPSG\n",
    "Here for the first time the EPSG comes up. **EPSG** - **E**uropean **P**etroleum **S**urvey **G**roup **G**eodesy was a working group for Oil and Gas discovering. The EPSG Code is a system of worldwide defined 4-5 membering keynumber for coordination reference systems. "
   ]
  },
  {
   "cell_type": "code",
   "execution_count": null,
   "metadata": {},
   "outputs": [],
   "source": [
    "#Change the epsg\n",
    "new_geoj= new_geoj.to_crs(epsg=3857)"
   ]
  },
  {
   "cell_type": "markdown",
   "metadata": {},
   "source": [
    "When creating plots, it is necessary to add a basemap. The geographical allocation is helpful to locate the points. We just changed the EPSG, which is important here, because *contextily* uses web base provider for their maps and each of them could have a different EPSG required.  "
   ]
  },
  {
   "cell_type": "code",
   "execution_count": null,
   "metadata": {},
   "outputs": [],
   "source": [
    "ax = new_geoj.plot(\n",
    "    column='id', \n",
    "    legend=True, \n",
    "    edgecolor='none', \n",
    "    figsize=(12, 12)\n",
    ")\n",
    "#Add a basemap for a better location of information\n",
    "contextily.add_basemap(\n",
    "    ax,\n",
    "    crs=new_geoj.crs.to_string(), \n",
    "    source=contextily.providers.CartoDB.Positron\n",
    ")"
   ]
  },
  {
   "cell_type": "markdown",
   "metadata": {},
   "source": [
    "## GeoPackage\n",
    "The following picture shows the mandatory and optional tables of a GeoPackage. They can be split in two categories:\n",
    "* Metadata tables\n",
    "* User defined data tables \n",
    "\n",
    "There are two mandatory metadata tables (the purple coloured ones in the picture):\n",
    "\n",
    "* contents\n",
    "* spatial ref sys  \n",
    "\n",
    "<div>\n",
    "<img src=\"./img/geopackage-overview.png\" width=\"750\"/>\n",
    "</div> \n",
    "Picture of the possible tables of GeoPackage (from https://www.geopackage.org/spec120/).  \n",
    "\n",
    "GeoPackage is binary based, which means you can not open it using a text editor. To work with special data such as GeoPackages we need geo-specialised python packages such as GeoPandas. First we could analyse the data, by checking the Indexes, Shape, and we can plot the table here. The 'aachen_network' file contains a node network and an edge network, make sure to set the layer you want correctly, by default it is 'node'."
   ]
  },
  {
   "cell_type": "code",
   "execution_count": null,
   "metadata": {},
   "outputs": [],
   "source": [
    "import geopandas as gpd\n",
    "import contextily\n",
    "#Loading the GeoPackage file, specifing the layer\n",
    "file_gb = gpd.read_file(\"./data/aachen_network.gpkg\", layer=\"nodes\")\n",
    "file_gb.columns"
   ]
  },
  {
   "cell_type": "markdown",
   "metadata": {},
   "source": [
    "To get information about the GeoDataFrames shape, use the **.shape** method. The output is a tuple containing the number of rows and columns. First, number represents the rows, the second number represents the columns."
   ]
  },
  {
   "cell_type": "code",
   "execution_count": null,
   "metadata": {},
   "outputs": [],
   "source": [
    "file_gb.shape"
   ]
  },
  {
   "cell_type": "markdown",
   "metadata": {},
   "source": [
    "To check if the two values are correct, we display the GeoDataFrame. The eight headline names: *Osmid, y, x, stree_count, lon, lat, highway, geometry* represent the eight columns. Printing all the rows, means printing over 2755 lines. Make sure to remember, the counting in Python starts with 0. "
   ]
  },
  {
   "cell_type": "code",
   "execution_count": null,
   "metadata": {},
   "outputs": [],
   "source": [
    "file_gb.head(2760)"
   ]
  },
  {
   "cell_type": "markdown",
   "metadata": {},
   "source": [
    "Let us plot the geoinformation using the .plot() method. The result does not really show a visualized geolocation for humans easy to read and identify. But it geolocates the points in a 2D graph."
   ]
  },
  {
   "cell_type": "code",
   "execution_count": null,
   "metadata": {
    "scrolled": true
   },
   "outputs": [],
   "source": [
    "file_gb.plot(markersize=0.1)"
   ]
  },
  {
   "cell_type": "code",
   "execution_count": null,
   "metadata": {},
   "outputs": [],
   "source": [
    "#Changing epsg and print it \n",
    "file_gb= file_gb.to_crs(epsg=3857)\n",
    "file_gb.head()"
   ]
  },
  {
   "cell_type": "code",
   "execution_count": null,
   "metadata": {},
   "outputs": [],
   "source": [
    "ax = file_gb.plot(figsize=(10, 10), alpha=0.5, edgecolor='k')\n",
    "contextily.add_basemap(\n",
    "    ax,\n",
    "    crs=file_gb.crs.to_string(), \n",
    "    source=contextily.providers.CartoDB.Positron\n",
    ")"
   ]
  },
  {
   "cell_type": "code",
   "execution_count": null,
   "metadata": {},
   "outputs": [],
   "source": []
  },
  {
   "cell_type": "code",
   "execution_count": null,
   "metadata": {},
   "outputs": [],
   "source": []
  }
 ],
 "metadata": {
  "kernelspec": {
   "display_name": "Python 3 (ipykernel)",
   "language": "python",
   "name": "python3"
  },
  "language_info": {
   "codemirror_mode": {
    "name": "ipython",
    "version": 3
   },
   "file_extension": ".py",
   "mimetype": "text/x-python",
   "name": "python",
   "nbconvert_exporter": "python",
   "pygments_lexer": "ipython3",
   "version": "3.9.7"
  },
  "toc": {
   "base_numbering": 1,
   "nav_menu": {},
   "number_sections": true,
   "sideBar": true,
   "skip_h1_title": false,
   "title_cell": "Table of Contents",
   "title_sidebar": "Contents",
   "toc_cell": true,
   "toc_position": {
    "height": "668.717px",
    "left": "940px",
    "top": "171.133px",
    "width": "165px"
   },
   "toc_section_display": true,
   "toc_window_display": false
  }
 },
 "nbformat": 4,
 "nbformat_minor": 4
}
