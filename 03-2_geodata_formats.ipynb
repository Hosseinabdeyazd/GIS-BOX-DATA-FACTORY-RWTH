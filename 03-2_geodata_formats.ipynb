{
 "cells": [
  {
   "cell_type": "markdown",
   "metadata": {
    "toc": true
   },
   "source": [
    "<h1>Table of Contents<span class=\"tocSkip\"></span></h1>\n",
    "<div class=\"toc\"><ul class=\"toc-item\"><li><span><a href=\"#Introduction-to-GeoData-formats:\" data-toc-modified-id=\"Introduction-to-GeoData-formats:-1\"><span class=\"toc-item-num\">1&nbsp;&nbsp;</span>Introduction to GeoData formats:</a></span><ul class=\"toc-item\"><li><span><a href=\"#Shapefile\" data-toc-modified-id=\"Shapefile-1.1\"><span class=\"toc-item-num\">1.1&nbsp;&nbsp;</span>Shapefile</a></span></li><li><span><a href=\"#GeoJSON\" data-toc-modified-id=\"GeoJSON-1.2\"><span class=\"toc-item-num\">1.2&nbsp;&nbsp;</span>GeoJSON</a></span><ul class=\"toc-item\"><li><span><a href=\"#EPSG\" data-toc-modified-id=\"EPSG-1.2.1\"><span class=\"toc-item-num\">1.2.1&nbsp;&nbsp;</span>EPSG</a></span></li></ul></li><li><span><a href=\"#GeoPackage\" data-toc-modified-id=\"GeoPackage-1.3\"><span class=\"toc-item-num\">1.3&nbsp;&nbsp;</span>GeoPackage</a></span></li></ul></li></ul></div>"
   ]
  },
  {
   "cell_type": "markdown",
   "metadata": {},
   "source": [
    "# Introduction to GeoData formats:\n",
    "## Shapefile\n",
    "A Shapefile has three required files:\n",
    "* .shp - geometry\n",
    "* .dbf - attributes\n",
    "* .shx - index  \n",
    "\n",
    "and there are three additional files:\n",
    "* .prj - projection/ Coordinate system\n",
    "* .sbn/sbx - spatial index\n",
    "* .xml - metadata\n",
    "![shapefile](./img/shapefile.jpg)\n",
    "Picture of the possible data files in a Shapefile.  \n",
    "\n",
    "The shape types in a Shapefile are:\n",
    "* points\n",
    "* lines\n",
    "* polygons\n",
    "* and multiples of them\n",
    "\n",
    "Every geometric feature has a geometry and attribute information."
   ]
  },
  {
   "cell_type": "markdown",
   "metadata": {},
   "source": [
    "Shapefile is binary based, which means you can not open it by using a text editor. In Python, you can read a Shapefile by using the GeoPandas package. Once in a GeoDataFrame, you can further edit like a parsed GeoJSON. By slicing the table and extract information."
   ]
  },
  {
   "cell_type": "code",
   "execution_count": null,
   "metadata": {},
   "outputs": [],
   "source": [
    "import geopandas as gpd\n",
    "import pandas as pd\n",
    "import numpy as np\n",
    "import matplotlib.pyplot as plt"
   ]
  },
  {
   "cell_type": "code",
   "execution_count": null,
   "metadata": {},
   "outputs": [],
   "source": [
    "bezirke = gpd.read_file(\"./data/aachen/StatistischeBezirkeAachen.shp\")\n",
    "bezirke.head()"
   ]
  },
  {
   "cell_type": "markdown",
   "metadata": {},
   "source": [
    "## GeoJSON\n",
    "GeoJSON is, after all, a JSON file, so it can be read as one. Therefore, geo-spacialized python packages such as GeoPandas are able to read GeoJSON.  \n",
    "GeoJSON supports additionally to JSON geometry types:  \n",
    "* Point\n",
    "* LineString\n",
    "* Polygon\n",
    "* MultiPoint\n",
    "* MultiLineSTring\n",
    "* MultiPolygon\n",
    "* Additional properties: Feature objects  \n",
    "\n",
    "![GeoJSON-FeatureCollection](./img/geojson_bsp.jpg) \n",
    "As the following example shows, sometimes files are not correct done and need to be improved. When using the following points as they are right now, one end up on the ocean."
   ]
  },
  {
   "cell_type": "code",
   "execution_count": null,
   "metadata": {
    "scrolled": true
   },
   "outputs": [],
   "source": [
    "import geopandas as gpd\n",
    "import matplotlib\n",
    "import matplotlib.pyplot as plt\n",
    "import contextily\n",
    "new_geoj = gpd.read_file('./data/knotenpunkte-wald_ac.geojson')\n",
    "new_geoj = new_geoj.to_crs(epsg=4326)\n",
    "new_geoj.head()"
   ]
  },
  {
   "cell_type": "markdown",
   "metadata": {},
   "source": [
    "Let us have a look at a GeoJSON and a GeoDataFrame, and how the information from the GeoJSON are stored in a GeoDataFrame. But make sure to try for yourself. Open a GeoJSON file and take a look at the structure. Compare it to the table you get when reading a GeoJSON using Python Geopandas.\n",
    "\n",
    "![GeoJSON-DataFrame](./img/geojson_dataframe.png) "
   ]
  },
  {
   "cell_type": "markdown",
   "metadata": {},
   "source": [
    "The information are now stored in a GeoDataFrame. You can move on now and slice the table to get specific information (for example, about the coordinates). To get an idea about how the slicing can be done, we slice the **knotenpunkte-wald_ac.geojson** file for their **geometry** information. The **head()** method helps, to display the sliced information."
   ]
  },
  {
   "cell_type": "code",
   "execution_count": null,
   "metadata": {},
   "outputs": [],
   "source": [
    "slic_po = new_geoj['geometry']\n",
    "slic_po.head()"
   ]
  },
  {
   "cell_type": "markdown",
   "metadata": {},
   "source": [
    "We can also do other operations on the GeoDataFrame or even the sliced GeoDataFrame. In the following code cell, we use a **for-loop** to iterate over our sliced data, printing ever single element."
   ]
  },
  {
   "cell_type": "code",
   "execution_count": null,
   "metadata": {},
   "outputs": [],
   "source": [
    "for elem in new_geoj['geometry']:\n",
    "    print (elem)"
   ]
  },
  {
   "cell_type": "markdown",
   "metadata": {},
   "source": [
    "A plot of these point data does not show much, due to the fact, that there is no relation to geometric shapes or a visualization as a map."
   ]
  },
  {
   "cell_type": "code",
   "execution_count": null,
   "metadata": {
    "scrolled": true
   },
   "outputs": [],
   "source": [
    "tab = new_geoj.plot(figsize=(6, 6))\n",
    "plt.show()"
   ]
  },
  {
   "cell_type": "markdown",
   "metadata": {},
   "source": [
    "Type is helpful, if you want to know what sort of data you are working with."
   ]
  },
  {
   "cell_type": "code",
   "execution_count": null,
   "metadata": {},
   "outputs": [],
   "source": [
    "type(new_geoj.geometry[0])"
   ]
  },
  {
   "cell_type": "markdown",
   "metadata": {},
   "source": [
    "Next, we just change the colour of the points representing a knot, depending on their number and order. That does not help us localize each point, they are *just* coloured now, but still not have a visualized reference."
   ]
  },
  {
   "cell_type": "code",
   "execution_count": null,
   "metadata": {},
   "outputs": [],
   "source": [
    "ax = new_geoj.set_geometry('geometry')\\\n",
    "                .plot('knotennr', \n",
    "                      markersize=20)"
   ]
  },
  {
   "cell_type": "code",
   "execution_count": null,
   "metadata": {},
   "outputs": [],
   "source": [
    "type(ax)"
   ]
  },
  {
   "cell_type": "markdown",
   "metadata": {},
   "source": [
    "### EPSG\n",
    "Here for the first time the EPSG comes up. EPSG - **E**uropean **P**etroleum **S**urvey **G**roup **G**eodesy was a working group for Oil- and Gasdiscovering. The EPSG Code is a system of worldwide defined 4-5 membering keynumber for coordination reference systems. "
   ]
  },
  {
   "cell_type": "code",
   "execution_count": null,
   "metadata": {},
   "outputs": [],
   "source": [
    "#Change the epsg\n",
    "new_geoj= new_geoj.to_crs(epsg=3857)"
   ]
  },
  {
   "cell_type": "markdown",
   "metadata": {},
   "source": [
    "When creating plots, it is necessary to add a basemap. The geographical allocation is helpful to locate the points. We just changed the EPSG, which is important here, because *contextily* uses web base provider for their maps and each of them could have a different EPSG required.  "
   ]
  },
  {
   "cell_type": "code",
   "execution_count": null,
   "metadata": {},
   "outputs": [],
   "source": [
    "ax = new_geoj.plot(\n",
    "    column='id', \n",
    "    legend=True, \n",
    "    edgecolor='none', \n",
    "    figsize=(12, 12)\n",
    ")\n",
    "#Add a basemap for a better location of information\n",
    "contextily.add_basemap(\n",
    "    ax,\n",
    "    crs=new_geoj.crs.to_string(), \n",
    "    source=contextily.providers.Stamen.Toner\n",
    ")"
   ]
  },
  {
   "cell_type": "markdown",
   "metadata": {},
   "source": [
    "## GeoPackage\n",
    "\n",
    "The following picture shows the mandatory and optional tables of a GeoPackage. They can be split in two categories:\n",
    "* Metadata tables\n",
    "* User defined data tables \n",
    "\n",
    "There are two mandatory metadata tables (the purple coloured ones in the picture):\n",
    "\n",
    "* contents\n",
    "* spatial ref sys  \n",
    "\n",
    "![geopackage_table](./img/geopackage-overview.png)\n",
    "Picture of the possible tables of GeoPackage.  \n",
    "\n",
    "GeoPackage is binary based, which means you can not open it using a text editor. To work with special data such as GeoPackages we need geo-specialised python packages such as GeoPandas. First we could analyse the data, by checking the Indexes, Shape, and we can plot the table here. The 'aachen_network' file contains a node network and an edge network, make sure to set the layer you want correctly, by default it is 'node'."
   ]
  },
  {
   "cell_type": "code",
   "execution_count": null,
   "metadata": {},
   "outputs": [],
   "source": [
    "import geopandas as gpd\n",
    "import contextily\n",
    "#Loading the GeoPackage file, specifing the layer\n",
    "file_gb = gpd.read_file(\"./data/aachen_network.gpkg\", layer=\"nodes\")\n",
    "file_gb.columns"
   ]
  },
  {
   "cell_type": "markdown",
   "metadata": {},
   "source": [
    "To get information about the GeoDataFrames shape, use the **.shape** method. The output is a tuple containing the number of rows and columns. First, number represents the rows, the second number represents the columns."
   ]
  },
  {
   "cell_type": "code",
   "execution_count": null,
   "metadata": {},
   "outputs": [],
   "source": [
    "file_gb.shape"
   ]
  },
  {
   "cell_type": "markdown",
   "metadata": {},
   "source": [
    "To check if the two values are correct, we display the GeoDataFrame. The eight headline names: Osmid, y, x, stree_count, lon, lat, highway, geometry represent the eight columns. Printing all the rows, means printing over 2755 lines. Make sure to remember, the counting in Python starts with 0. "
   ]
  },
  {
   "cell_type": "code",
   "execution_count": null,
   "metadata": {},
   "outputs": [],
   "source": [
    "file_gb.head(2760)"
   ]
  },
  {
   "cell_type": "markdown",
   "metadata": {},
   "source": [
    "Let us plot the geoinformation using the .plot() method. The result does not really show a visualized geolocation for humans easy to read and identify. But it geolocates the points in a 2D graph."
   ]
  },
  {
   "cell_type": "code",
   "execution_count": null,
   "metadata": {
    "scrolled": true
   },
   "outputs": [],
   "source": [
    "file_gb.plot(markersize=0.1)"
   ]
  },
  {
   "cell_type": "code",
   "execution_count": null,
   "metadata": {},
   "outputs": [],
   "source": [
    "#Changing epsg and print it \n",
    "file_gb= file_gb.to_crs(epsg=3857)\n",
    "file_gb.head()"
   ]
  },
  {
   "cell_type": "code",
   "execution_count": null,
   "metadata": {},
   "outputs": [],
   "source": [
    "ax = file_gb.plot(figsize=(10, 10), alpha=0.5, edgecolor='k')\n",
    "contextily.add_basemap(\n",
    "    ax,\n",
    "    crs=file_gb.crs.to_string(), \n",
    "    source=contextily.providers.Stamen.Toner\n",
    ")"
   ]
  },
  {
   "cell_type": "code",
   "execution_count": null,
   "metadata": {},
   "outputs": [],
   "source": []
  }
 ],
 "metadata": {
  "kernelspec": {
   "display_name": "Python 3",
   "language": "python",
   "name": "python3"
  },
  "language_info": {
   "codemirror_mode": {
    "name": "ipython",
    "version": 3
   },
   "file_extension": ".py",
   "mimetype": "text/x-python",
   "name": "python",
   "nbconvert_exporter": "python",
   "pygments_lexer": "ipython3",
   "version": "3.7.8"
  },
  "toc": {
   "base_numbering": 1,
   "nav_menu": {},
   "number_sections": true,
   "sideBar": true,
   "skip_h1_title": false,
   "title_cell": "Table of Contents",
   "title_sidebar": "Contents",
   "toc_cell": true,
   "toc_position": {
    "height": "668.717px",
    "left": "940px",
    "top": "171.133px",
    "width": "165px"
   },
   "toc_section_display": true,
   "toc_window_display": false
  }
 },
 "nbformat": 4,
 "nbformat_minor": 4
}
