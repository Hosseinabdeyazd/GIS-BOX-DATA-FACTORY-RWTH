{
 "cells": [
  {
   "cell_type": "markdown",
   "metadata": {},
   "source": [
    "# Design of map plot\n",
    "If we plot maps, we can actually decide quite a lot in how they should look like. But first, we have to import all necessary packages."
   ]
  },
  {
   "cell_type": "code",
   "execution_count": null,
   "metadata": {},
   "outputs": [],
   "source": [
    "import osmnx as ox\n",
    "from IPython.display import Image\n",
    "import matplotlib.pyplot as plt\n",
    "import numpy as np\n",
    "import contextily\n",
    "from IPython.display import Image\n",
    "\n",
    "%matplotlib inline\n",
    "ox.config(log_console=True)\n",
    "ox.__version__"
   ]
  },
  {
   "cell_type": "markdown",
   "metadata": {},
   "source": [
    "## Change colour of OSMnx plots\n",
    "Well, let us start, with what we already know. OSMnx offers some possibilities to change colours by using **bgcolor** and **Edge_color**. So we can simply change the colour of our plot."
   ]
  },
  {
   "cell_type": "code",
   "execution_count": null,
   "metadata": {},
   "outputs": [],
   "source": [
    "#Setting values for parameters\n",
    "dpi=72\n",
    "size=600\n",
    "place = \"Aachen, Germany\"\n",
    "fp = f\"./aachen_col.png\"\n",
    "#Querying OSM data using a city name\n",
    "fig, ax = ox.plot_figure_ground(\n",
    "    address=place,\n",
    "    network_type=\"walk\",\n",
    "    filepath=fp,\n",
    "    dpi=dpi,\n",
    "    bgcolor = \"white\",\n",
    "    edge_color = \"lightblue\",\n",
    "    save=True,\n",
    "    show=False,\n",
    "    close=True,\n",
    ")\n",
    "Image(fp, height=size, width=size)"
   ]
  },
  {
   "cell_type": "code",
   "execution_count": null,
   "metadata": {},
   "outputs": [],
   "source": [
    "#Defining required tags for quering OSM\n",
    "tags={\"building\":True}\n",
    "point = (50.775593, 6.082478)\n",
    "size=500\n",
    "dist = 1000\n",
    "#OSMnx method geometries_from_point queryies OSM data using a point\n",
    "gdf = ox.geometries_from_point(point, tags, dist=dist)\n",
    "gdf_proj = ox.project_gdf(gdf)"
   ]
  },
  {
   "cell_type": "code",
   "execution_count": null,
   "metadata": {},
   "outputs": [],
   "source": [
    "#Quering OSM by using the defined point\n",
    "bbox = ox.utils_geo.bbox_from_point(point=point, dist=dist, project_utm=True)\n",
    "fp = f\"./aachen_col_plan.png\"\n",
    "#Figure ground plan change colour\n",
    "fig, ax = ox.plot_footprints(\n",
    "    gdf_proj,\n",
    "    bbox=bbox,\n",
    "    bgcolor=\"white\",\n",
    "    color=\"lightblue\",\n",
    "    filepath=fp,\n",
    "    dpi=300,\n",
    "    save=True,\n",
    "    show=False,\n",
    "    close=True,\n",
    ")\n",
    "Image(fp, height=size, width=size)"
   ]
  },
  {
   "cell_type": "markdown",
   "metadata": {},
   "source": [
    "## Query graph and colour them\n",
    "Let us query OSM for information around the centre point of Aachen. But we can go ahead, as the **.plot_graph** method offers a possibility of changing edge, and node colours, as well as node sizes."
   ]
  },
  {
   "cell_type": "code",
   "execution_count": null,
   "metadata": {},
   "outputs": [],
   "source": [
    "point = (50.933594, 6.961899)\n",
    "size=500\n",
    "dist = 1000\n",
    "tags={\"building\":True}\n",
    "#OSMnx method geometries_from_point queryies OSM data using a point\n",
    "gdf = ox.graph_from_point(point, dist=dist, network_type='all')\n",
    "type(gdf)"
   ]
  },
  {
   "cell_type": "markdown",
   "metadata": {},
   "source": [
    "We set colours for the edges and our background, and we just plot the graph. Try to change the node size from 10 to 1, you will see, they visually disappear. You can further change the background colour."
   ]
  },
  {
   "cell_type": "code",
   "execution_count": null,
   "metadata": {},
   "outputs": [],
   "source": [
    "backgr = \"#061529\"\n",
    "edges = \"#ffffff\"\n",
    "fig, ax = ox.plot_graph(gdf, bgcolor=backgr, node_color=edges, node_size=10, edge_color=edges)"
   ]
  },
  {
   "cell_type": "markdown",
   "metadata": {},
   "source": [
    "But we can even go a little further by unpacking what is in *edge* and separately save it to variables."
   ]
  },
  {
   "cell_type": "code",
   "execution_count": null,
   "metadata": {},
   "outputs": [],
   "source": [
    "u_new = []\n",
    "v_new = []\n",
    "key_new = []\n",
    "data_new = []\n",
    "for u, v, keys, weight in gdf.edges(keys=True, data=True):\n",
    "    u_new.append(u)\n",
    "    v_new.append(v)\n",
    "    key_new.append(keys)\n",
    "    data_new.append(weight)"
   ]
  },
  {
   "cell_type": "markdown",
   "metadata": {},
   "source": [
    "Let us assign a colour in dependency of how big a street is."
   ]
  },
  {
   "cell_type": "code",
   "execution_count": null,
   "metadata": {
    "code_folding": []
   },
   "outputs": [],
   "source": [
    "roadColors = []\n",
    "roadWidths = []\n",
    "\n",
    "#Seperating streets by length\n",
    "for item in data_new:\n",
    "    if \"length\" in item.keys():\n",
    "        if item[\"length\"] <= 100:\n",
    "            linewidth = 1.0\n",
    "            color = \"#a6a6a6\" \n",
    "            \n",
    "        elif item[\"length\"] > 100 and item[\"length\"] <= 200:\n",
    "            linewidth = 1.5\n",
    "            color = \"#676767\"\n",
    "            \n",
    "        elif item[\"length\"] > 200 and item[\"length\"] <= 400:\n",
    "            linewidth = 2.0\n",
    "            color = \"#454545\"\n",
    "            \n",
    "        elif item[\"length\"] > 400 and item[\"length\"] <= 800:\n",
    "            color = \"#bdbdbd\"\n",
    "            linewidth = 2.5\n",
    "        else:\n",
    "            color = \"#d5d5d5\"\n",
    "            linewidth = 3.0\n",
    "\n",
    "        if \"primary\" in item[\"highway\"]:\n",
    "            linewidth = 3.5\n",
    "            color = \"#ffff\"\n",
    "    else:\n",
    "        color = \"#a6a6a6\"\n",
    "        linewidth = 1.0\n",
    "            \n",
    "    roadColors.append(color)\n",
    "    roadWidths.append(linewidth)"
   ]
  },
  {
   "cell_type": "code",
   "execution_count": null,
   "metadata": {
    "scrolled": true
   },
   "outputs": [],
   "source": [
    "fig, ax = ox.plot_graph(gdf, bgcolor=backgr, node_color=edges, node_size=0, edge_color=roadColors, \n",
    "                        edge_linewidth=roadWidths, edge_alpha=1)"
   ]
  },
  {
   "cell_type": "markdown",
   "metadata": {},
   "source": [
    "## Query geometries and colour them\n",
    "Now, we are ready to query geometries from OSM, here buildings around a specific point in Aachen."
   ]
  },
  {
   "cell_type": "code",
   "execution_count": null,
   "metadata": {},
   "outputs": [],
   "source": [
    "area = ox.geocode_to_gdf(\"Aachen, Germany\")\n",
    "gdf_new = ox.geometries_from_point(point, tags, dist=dist)\n",
    "type(gdf_new)"
   ]
  },
  {
   "cell_type": "code",
   "execution_count": null,
   "metadata": {},
   "outputs": [],
   "source": [
    "gdf_new"
   ]
  },
  {
   "cell_type": "markdown",
   "metadata": {},
   "source": [
    "The following two code cells are all about changing some colouring. You probably already recognized, that the colour definition in given in *hexadecimal*."
   ]
  },
  {
   "cell_type": "code",
   "execution_count": null,
   "metadata": {},
   "outputs": [],
   "source": [
    "fix, ax = plt.subplots(figsize=(15,15))\n",
    "gdf_new.plot(ax=ax, edgecolor='#1B215F', linewidth=1.5, facecolor=\"#ffffff\")\n",
    "plt.show()"
   ]
  },
  {
   "cell_type": "code",
   "execution_count": null,
   "metadata": {},
   "outputs": [],
   "source": [
    "fix, ax = plt.subplots(figsize=(15,15))\n",
    "gdf_new.plot(ax=ax, edgecolor='#1B215F', linewidth=1.5, facecolor=\"#FF0083\")\n",
    "plt.show()"
   ]
  },
  {
   "cell_type": "markdown",
   "metadata": {},
   "source": [
    "## Adding graph and geometries in one plot\n",
    "Next, we add the edges, which we get using the **.graph_from_point** method further up. We already coloured them in different grey shades. So, next we add them to our coloured plot."
   ]
  },
  {
   "cell_type": "code",
   "execution_count": null,
   "metadata": {},
   "outputs": [],
   "source": [
    "nodes, edges = ox.graph_to_gdfs(gdf)"
   ]
  },
  {
   "cell_type": "code",
   "execution_count": null,
   "metadata": {},
   "outputs": [],
   "source": [
    "fix, ax = plt.subplots(figsize=(15,15))\n",
    "edges.plot(ax=ax, linewidth=roadWidths, edgecolor=roadColors)\n",
    "gdf_new.plot(ax=ax, edgecolor='#000000', linewidth=0.5, facecolor=\"#5A94CE\")\n",
    "plt.show()"
   ]
  },
  {
   "cell_type": "markdown",
   "metadata": {},
   "source": [
    "# Using Python package ipyleaflet creating interactive maps\n",
    "Ipyleaflet is an interactive widgets' library, based on ipywidgets. Everything in ipyleaflet is interactive, attributes can be updated dynamically."
   ]
  },
  {
   "cell_type": "code",
   "execution_count": null,
   "metadata": {},
   "outputs": [],
   "source": [
    "from ipyleaflet import Map, GeoData, basemaps, LayersControl\n",
    "from ipyleaflet import Marker, Icon, Map\n",
    "from ipyleaflet import Map, Marker, Popup\n",
    "from ipywidgets import HTML\n",
    "import osmnx as ox\n",
    "from IPython.display import Image\n",
    "\n",
    "%matplotlib inline\n",
    "ox.config(log_console=True)\n",
    "ox.__version__"
   ]
  },
  {
   "cell_type": "markdown",
   "metadata": {},
   "source": [
    "Let us create our first interactive plane map. Therefore, we need a centre point, a zoom level. You could actually add a specific [basemap](https://ipyleaflet.readthedocs.io/en/latest/api_reference/basemaps.html)."
   ]
  },
  {
   "cell_type": "code",
   "execution_count": null,
   "metadata": {},
   "outputs": [],
   "source": [
    "center = (50.775593, 6.082478)\n",
    "map_ac = Map(center=center, zoom=15)\n",
    "map_ac"
   ]
  },
  {
   "cell_type": "code",
   "execution_count": null,
   "metadata": {},
   "outputs": [],
   "source": [
    "#change zoom level and another basemap\n",
    "map_ac_new = Map(center=center, zoom = 3, basemap= basemaps.Esri.WorldTopoMap)\n",
    "map_ac_new"
   ]
  },
  {
   "cell_type": "markdown",
   "metadata": {},
   "source": [
    "Aachen is still the centre point, but due to zoom level, one can not see it any more.\n",
    "## Creating icons \n",
    "We can do more than just create a map with a centre. So let us set some interactive icons. The following icon is the official leaflet icon in red. Let us make sure it becomes part of the map. \n",
    "![leaf](./img/leaf-red.png)"
   ]
  },
  {
   "cell_type": "code",
   "execution_count": null,
   "metadata": {},
   "outputs": [],
   "source": [
    "center = (50.775593, 6.082478)\n",
    "ac_m_ic = Map(center=center, zoom=10)\n",
    "icon = Icon(icon_url='https://leafletjs.com/examples/custom-icons/leaf-red.png', icon_size=[38, 95], icon_anchor=[22,94])\n",
    "mark = Marker(location=center, icon=icon, rotation_angle=90, rotation_origin='22px 94px')\n",
    "ac_m_ic.add_layer(mark);\n",
    "ac_m_ic"
   ]
  },
  {
   "cell_type": "markdown",
   "metadata": {},
   "source": [
    "That was an easy one, because it is the official example for dynamic icons on maps. So, let us use our own icon. Anyway, it is interactive, so try to grab the tree and move it around.  \n",
    "<div>\n",
    "<img src=\"./img/baum.png\" width=\"100\"/>\n",
    "</div>"
   ]
  },
  {
   "cell_type": "code",
   "execution_count": null,
   "metadata": {},
   "outputs": [],
   "source": [
    "center = (50.775593, 6.082478)\n",
    "ac_1m = Map(center=center, zoom=14)\n",
    "icon = Icon(icon_url='../../files/img/baum.png', icon_size=[70, 70], icon_anchor=[22,94])\n",
    "mark = Marker(location=center, icon=icon)\n",
    "ac_1m.add_layer(mark);\n",
    "ac_1m"
   ]
  },
  {
   "cell_type": "markdown",
   "metadata": {},
   "source": [
    "## Setting Marker for location\n",
    "Probably everyone knows the location icon. In Google Maps it is usually red, here we use a blue one."
   ]
  },
  {
   "cell_type": "code",
   "execution_count": null,
   "metadata": {},
   "outputs": [],
   "source": [
    "center = (50.775593, 6.082478)\n",
    "ac_c = Map(center=center, zoom=15)\n",
    "marker = Marker(location=center, draggable=False)\n",
    "ac_c.add_layer(marker);\n",
    "ac_c"
   ]
  },
  {
   "cell_type": "code",
   "execution_count": null,
   "metadata": {},
   "outputs": [],
   "source": [
    "message = HTML()\n",
    "message.value = \"A message for you!\"\n",
    "popup = Popup(\n",
    "    location=center,\n",
    "    close_button=False,\n",
    "    auto_close=False,\n",
    "    close_on_escape_key=False\n",
    ")\n",
    "ac_c.add_layer(popup)\n",
    "marker.popup = message\n",
    "ac_c"
   ]
  },
  {
   "cell_type": "markdown",
   "metadata": {},
   "source": [
    "We just marked the centre point of Aachen. But there are maybe even more places to be marked in one map. Easy, first, we need to get the coordinates of our *other places*, in this example let us use the *Reiff Museum Aachen* and *Aachen Hauptbahnhof (central station)*. We query their coordinates using OSMnx and add them in a list. Next, we set a marker for every element in that list."
   ]
  },
  {
   "cell_type": "code",
   "execution_count": null,
   "metadata": {},
   "outputs": [],
   "source": [
    "reiff = ox.geocode(\"reiff museum aachen\")\n",
    "hbf = ox.geocode(\"Aachen Hauptbahnhof\")\n",
    "l = [center, reiff, hbf]"
   ]
  },
  {
   "cell_type": "code",
   "execution_count": null,
   "metadata": {},
   "outputs": [],
   "source": [
    "ac_c = Map(center=center, zoom=14)\n",
    "for elem in l:\n",
    "    marker = Marker(location=elem, draggable=False)\n",
    "    ac_c.add_layer(marker);\n",
    "\n",
    "ac_c"
   ]
  },
  {
   "cell_type": "markdown",
   "metadata": {},
   "source": [
    "## GeoDataFrame in ipyleaflet\n",
    "Well, we can not just add icons to an interactive map, but also DataFrames and GeoDataFrames. Let us use the *Reiff museum*, we already have its coordinates, that will be our centre point. Next we need a GeoDataFrame (or a DataFrame, but in this example it is a GeoDataFrame). To get one we go ahead and query OSM (using OSMnx) for geometries around the Reiff museum which are declared to be buildings within a distance of 100. Finally, we add the geometries to our map as a new layer."
   ]
  },
  {
   "cell_type": "code",
   "execution_count": null,
   "metadata": {},
   "outputs": [],
   "source": [
    "#Get geometries quering OSM\n",
    "rdf = ox.geometries_from_point(reiff, tags={\"building\":True},dist=100)"
   ]
  },
  {
   "cell_type": "code",
   "execution_count": null,
   "metadata": {},
   "outputs": [],
   "source": [
    "#Set up map, careful with the zoom level!\n",
    "m = Map(center=reiff, zoom = 16)"
   ]
  },
  {
   "cell_type": "code",
   "execution_count": null,
   "metadata": {},
   "outputs": [],
   "source": [
    "#Adding the GeoDataFrame to the map\n",
    "geo_data = GeoData(geo_dataframe= rdf, style={'color': 'black', 'fillColor': '#3c758c', 'opacity':0.05, 'weight':1.9, 'dashArray':'2', 'fillOpacity':0.6})\n",
    "m.add_layer(geo_data)\n",
    "m"
   ]
  },
  {
   "cell_type": "code",
   "execution_count": null,
   "metadata": {},
   "outputs": [],
   "source": []
  },
  {
   "cell_type": "code",
   "execution_count": null,
   "metadata": {},
   "outputs": [],
   "source": []
  }
 ],
 "metadata": {
  "kernelspec": {
   "display_name": "Python 3",
   "language": "python",
   "name": "python3"
  },
  "language_info": {
   "codemirror_mode": {
    "name": "ipython",
    "version": 3
   },
   "file_extension": ".py",
   "mimetype": "text/x-python",
   "name": "python",
   "nbconvert_exporter": "python",
   "pygments_lexer": "ipython3",
   "version": "3.7.8"
  },
  "toc": {
   "base_numbering": 1,
   "nav_menu": {},
   "number_sections": true,
   "sideBar": true,
   "skip_h1_title": false,
   "title_cell": "Table of Contents",
   "title_sidebar": "Contents",
   "toc_cell": false,
   "toc_position": {},
   "toc_section_display": true,
   "toc_window_display": false
  }
 },
 "nbformat": 4,
 "nbformat_minor": 4
}
