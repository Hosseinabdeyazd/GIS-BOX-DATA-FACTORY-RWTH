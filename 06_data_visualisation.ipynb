{
 "cells": [
  {
   "cell_type": "markdown",
   "metadata": {},
   "source": [
    "# Data visualization \n",
    "Visualizing data is something really important to do, since a chart or plot provides a lot of information which can become knowledge the moment we put data in a relationship. Thus, in this notebook we focus on visualization using charts and plot but also maps.\n",
    "\n",
    "All diagrams/ plots/ charts we present here are created using Python library *matplotlib*. It is a powerful Python library and worth take a look at the official *matplotlib* documentation.\n",
    "\n",
    "Our data example **Recyclinghöfe.json** is not fitting for the purpose of representing diagrams, plots, and charts. Not because it would not work, but because the amount of data is not representative to gain or represent statistic data. Therefore, we use again the **einwohnerstatistik-31.12.2020.csv** file."
   ]
  },
  {
   "cell_type": "markdown",
   "metadata": {},
   "source": [
    "## Diagram/ plot/ chart\n",
    "Diagrams/ plots/ charts are used to visualize data. They are mostly used for one- or two-dimensional data but can also represent multidimensional data. In this course, we focus one- and two-dimensional data. \n",
    "In comaprison to maps, most do not represent any geolocated data, but focus on statistic data. \n",
    "\n",
    "**Important**: Not every form of diagrammatic representation is suitable for every data type. Therefore, finding a suitable representation for your data is essential for visualizing the information you want to outline."
   ]
  },
  {
   "cell_type": "markdown",
   "metadata": {},
   "source": [
    "The following Python libraries are important for the diagram/ plot/ chart section, therefore we import them at the very beginning and only once, so make sure to always run these first three code cells. The example we use is einwohnerstatistik-31.12.2020.csv. Yes - not the newest one I admit, but for what we want to show you perfectly fine.\n",
    "\n",
    "So let us get started by importing the essential Python libraries, read the required data file and clean it up, by dropping the last line, which only include the total amount of every column (we do not need this)."
   ]
  },
  {
   "cell_type": "code",
   "execution_count": null,
   "metadata": {},
   "outputs": [],
   "source": [
    "import matplotlib.pyplot as plt\n",
    "import numpy as np\n",
    "from matplotlib import colors\n",
    "from matplotlib.ticker import PercentFormatter\n",
    "import pandas as pd"
   ]
  },
  {
   "cell_type": "code",
   "execution_count": null,
   "metadata": {},
   "outputs": [],
   "source": [
    "statistics = pd.read_csv(\"./data/aachen/einwohnerstatistik-31.12.2020.csv\")\n",
    "statistics.head(50)"
   ]
  },
  {
   "cell_type": "code",
   "execution_count": null,
   "metadata": {},
   "outputs": [],
   "source": [
    "statistics.drop(34, inplace=True)"
   ]
  },
  {
   "cell_type": "markdown",
   "metadata": {},
   "source": [
    "### Histogram charts\n",
    "These charts are mainly used for numeric values. The frequency distribution of an attribute is visualized by using bars of different heights.\n",
    "\n",
    "In comparison to bar and column chart, a histogram groups information within a range. The value range of an attribute *X* is divided into disjoint neighbouring sub-ranges, called classes or buckets. In most cases, these classes have the same width. But this is kind of abstract, let us check an example to see how it works:\n",
    "\n",
    "We take your previous read example einwohnerstatistik-31.12.2020.csv, what we know safely stored in a DataFrame (much easier to handle using Python pandas library). Well, what we are interested about is the Person column (*Pers*). We want to get all the numbers of inhabitants per district and put them in predefined classes (or buckets) called bins. Thus, we iterate over the column *Pers* and add all elements to a list called *num*. So we have our bins (manually defined) and our data we want to sort into these bins - We have everything we need to go on.\n",
    "In a next and final step, we create the histogram using the Python *matplotlib* library."
   ]
  },
  {
   "cell_type": "code",
   "execution_count": null,
   "metadata": {},
   "outputs": [],
   "source": [
    "pers = statistics['Pers']\n",
    "num = []\n",
    "for elem in pers:\n",
    "    num.append(elem)\n",
    "print(num)"
   ]
  },
  {
   "cell_type": "code",
   "execution_count": null,
   "metadata": {},
   "outputs": [],
   "source": [
    "bins = [1000, 2000, 3000, 4000, 5000, 6000, 7000, 8000, 9000, 10000, 11000, 12000, 13000, 14000, 15000, 16000, 17000, 18000]\n",
    "plt.hist(num, bins=bins, color='black', edgecolor='white')\n",
    "#plt.savefig('hist_example.png')\n",
    "plt.title('Number of inhabitiants')"
   ]
  },
  {
   "cell_type": "markdown",
   "metadata": {},
   "source": [
    "### Bar and column charts \n",
    "Well, you may ask yourself: Are not a bar and a column chart the same as a histogram - They look pretty similar. **NO, they are not equal!**. While a histogram groups data and put it into buckets, and a bar or a column chart put two pieces of information in relation. It is about visualizing the frequency distribution of an attribute using bars of different heights. To clear things up, we take our example einwohnerstatistik-31.12.2020.csv, the Python *matplotlib* library and create a bar chart."
   ]
  },
  {
   "cell_type": "markdown",
   "metadata": {},
   "source": [
    "The bar chart shows how many inhabitant lives in each district of Aachen.\n",
    "\n",
    "How did we do this, well first we extracted the two columns of interest *StatBezName* and *Pers*. Next we put them all in the bar method, creating our chart. Everything that follows is just for adding information and improving the chart, such as labelling the axis, setting a title (all in all making it look nicer)."
   ]
  },
  {
   "cell_type": "code",
   "execution_count": null,
   "metadata": {},
   "outputs": [],
   "source": [
    "fig, ax = plt.subplots(figsize=(20, 5))\n",
    "\n",
    "dist = statistics['StatBezName']\n",
    "counts = statistics['Pers']\n",
    "\n",
    "ax.bar(dist, counts, color='black')\n",
    "\n",
    "ax.set_ylabel('Inhabitants')\n",
    "ax.set_xlabel('Aachen districts')\n",
    "ax.set_title('Inhabitants grouped by city districts')\n",
    "plt.xticks(rotation='vertical')\n",
    "#plt.savefig('bar_example.png')\n",
    "plt.show()"
   ]
  },
  {
   "cell_type": "markdown",
   "metadata": {},
   "source": [
    "### Pie charts\n",
    "These charts are interesting when it comes to present what proportion or share of your data has a particular value or influence. Pie charts are well known and easy to read. But let us take a look at an example anyway.\n",
    "\n",
    "What we want to represent is the share of Men and Women for the Aachen district *Markt* - Pretty simple! \n",
    "\n",
    "So what do we need? First the labels *Women* and *Men*, we do this manually. Next the numbers from our data resource einwohnerstatistik-31.12.2020.csv. After having this information, we create a plot and using the Python *matplotlib* library to create a *pie*. This function gets all required attributes (we even specify the colours) and well that is basically it. "
   ]
  },
  {
   "cell_type": "code",
   "execution_count": null,
   "metadata": {},
   "outputs": [],
   "source": [
    "labels = ['Women', 'Men']\n",
    "sizes = [statistics['W'].iloc[0], statistics['M'].iloc[0]]\n",
    "\n",
    "fig1, ax1 = plt.subplots()\n",
    "ax1.pie(sizes, labels=labels, startangle=90, colors=['olivedrab', 'rosybrown'])\n",
    "ax1.axis('equal')\n",
    "ax1.set_title('Proportion of women and men in Aachen\\'s Markt district')\n",
    "#plt.savefig('pie_example.png')\n",
    "plt.show()"
   ]
  },
  {
   "cell_type": "markdown",
   "metadata": {},
   "source": [
    "### Scatterplots\n",
    "Well, you have already seen a scattered plot when we talked about data analysis. Scattered plot display values for typically two variables for a data set, however they can also be used for multidimensional diagrams, but this is not part of this course.\n",
    "\n",
    "Let us get back to the previous example, we already used in the Jupyter Notebook **05_data_analysis.ipynb**. One slightly changes, instead of using the original **AVV_Haltestellen.csv** file we saved the file with the necessary change to the coordinates (because we are lazy and don't want to do it again).\n",
    "\n",
    "So first we import the necessary (additional) Python libraries and read the new data file **avv_stops.csv**. Next we create a subplot and set up all necessary information as for example x and y (longitude and latitude) value. To make it look nicely, we add colours. Using the *matplotlib* class scatter, we create a scatter plot for all these bus stops in Aachen (including their geolocation)."
   ]
  },
  {
   "cell_type": "code",
   "execution_count": null,
   "metadata": {},
   "outputs": [],
   "source": [
    "import geopandas\n",
    "import pysal\n",
    "import seaborn\n",
    "import contextily\n",
    "import os\n",
    "avv_halt = pd.read_csv(r\"./avv_stops.csv\", sep=',')\n",
    "avv_halt.head()"
   ]
  },
  {
   "cell_type": "code",
   "execution_count": null,
   "metadata": {},
   "outputs": [],
   "source": [
    "fig, ax = plt.subplots(figsize=(15, 15))\n",
    "np.random.seed(19680801)\n",
    "N = 2943\n",
    "x = avv_halt['longitude']\n",
    "y = avv_halt['latitude']\n",
    "colors = np.random.rand(N)\n",
    "area = 100 # 0 to 15 point radii\n",
    "\n",
    "plt.scatter(x, y, s=area, c=colors, alpha=0.5)\n",
    "ax.set_title('Aachen bus stops')\n",
    "#plt.savefig('scatter_example.png')\n",
    "plt.show()"
   ]
  },
  {
   "cell_type": "markdown",
   "metadata": {},
   "source": [
    "### Box plots\n",
    "In comparison to the other plots you have just seen, the box plot is slightly different. It represents a data set using its statistical data representation. It is a method to visualize locality, spread, and skewness of groups of numerical data through their quantiles.\n",
    "\n",
    "The elements of a box plot diagram are:\n",
    "* Minimum\n",
    "* Maximum\n",
    "* Median\n",
    "* First quartile\n",
    "* Third quartile\n",
    "\n",
    "Let us take a look at an example again and let us move back to the einwohnerstatistik-31.12.2020.csv example. First we define some stile aspects, that we actually do not need since we have no flier properties. Next we create the subplot, followed by the title. Finally, we create the box plot based on the *Pers* column (Amount of inhabitant per district).\n",
    "\n",
    "The red line you see in the plot represents the median, the black rectangle is the range from First to Third quartile and the link line the dashes on both side represent minimum and maximum."
   ]
  },
  {
   "cell_type": "code",
   "execution_count": null,
   "metadata": {},
   "outputs": [],
   "source": [
    "red_square = dict(markerfacecolor='r', marker='o')\n",
    "fig5, ax5 = plt.subplots()\n",
    "ax5.set_title('Number of inhabitant')\n",
    "bplot = ax5.boxplot(statistics['Pers'], vert=False, patch_artist=True, flierprops=red_square)\n",
    "plt.setp(bplot[\"boxes\"], facecolor='black')\n",
    "plt.savefig('boxplot_example.png')"
   ]
  },
  {
   "cell_type": "markdown",
   "metadata": {},
   "source": [
    "# Maps"
   ]
  },
  {
   "cell_type": "markdown",
   "metadata": {},
   "source": [
    "## Reference maps\n",
    "This first sort of maps is structured to locate and identify important real-world features. All of these features are given equal visual prominence. Well, a reference map can create using different Python libraries, one example is the Python library *Ipyleaflet* - which provides for interactive maps. We will look a little deeper into interactive maps later in this notebook.\n",
    "\n",
    "Plot can also be maps, when they represent geolocated data, as for example a scatter plot can do. So there is not necessarily a sharp dividing edge."
   ]
  },
  {
   "cell_type": "code",
   "execution_count": null,
   "metadata": {},
   "outputs": [],
   "source": [
    "from ipyleaflet import Map, GeoData, basemaps, LayersControl\n",
    "from ipyleaflet import Marker, Icon, Map\n",
    "from ipyleaflet import Map, Marker, Popup\n",
    "from ipywidgets import HTML\n",
    "import osmnx as ox\n",
    "from IPython.display import Image\n",
    "\n",
    "%matplotlib inline\n",
    "ox.config(log_console=True)\n",
    "ox.__version__"
   ]
  },
  {
   "cell_type": "code",
   "execution_count": null,
   "metadata": {},
   "outputs": [],
   "source": [
    "center = (50.775593, 6.082478)\n",
    "map_ac = Map(center=center, zoom=15)\n",
    "map_ac"
   ]
  },
  {
   "cell_type": "markdown",
   "metadata": {},
   "source": [
    "## Charts\n",
    "Charts are a special type of reference maps, since they are meant to aid navigation and allow the reader to determine their position. It also helps to plot courses and routes. You find them for example along hiking routes."
   ]
  },
  {
   "cell_type": "markdown",
   "metadata": {},
   "source": [
    "## Thematic maps\n",
    "This sort of map is used to emphasize particular features and events. There is a list of typical thematic maps (represented in the *Kresse and Danko: Springer handbook - Geographic Information*) which include:\n",
    "* Isopleth\n",
    "* Choropleth\n",
    "* Dot density\n",
    "* Graduated symbol\n",
    "* Proportional symbol\n",
    "* Cartograms\n",
    "* Mental maps\n",
    "\n",
    "You have already seen quite a lot of thematic maps. One for example was created in the Jupyter Notebook **04_data_preparation.ipynb**, when combining the Aachen districts and the number of inhabitants. Another one for example the created heat map in Jupyter Notebook **05_data_analysis.ipynb**."
   ]
  },
  {
   "cell_type": "code",
   "execution_count": null,
   "metadata": {},
   "outputs": [],
   "source": [
    "#Setting values for parameters\n",
    "dpi=72\n",
    "size=600\n",
    "place = \"Aachen, Germany\"\n",
    "fp = f\"./aachen_col.png\"\n",
    "#Querying OSM data using a city name\n",
    "fig, ax = ox.plot_figure_ground(\n",
    "    address=place,\n",
    "    network_type=\"walk\",\n",
    "    filepath=fp,\n",
    "    dpi=dpi,\n",
    "    bgcolor = \"white\",\n",
    "    edge_color = \"black\",\n",
    "    save=True,\n",
    "    show=False,\n",
    "    close=True,\n",
    ")\n",
    "Image(fp, height=size, width=size)"
   ]
  },
  {
   "cell_type": "code",
   "execution_count": null,
   "metadata": {},
   "outputs": [],
   "source": [
    "#Defining required tags for quering OSM\n",
    "tags={\"building\":True}\n",
    "point = (50.775593, 6.082478)\n",
    "size=500\n",
    "dist = 1000\n",
    "#OSMnx method geometries_from_point queryies OSM data using a point\n",
    "gdf = ox.geometries_from_point(point, tags, dist=dist)\n",
    "gdf_proj = ox.project_gdf(gdf)"
   ]
  },
  {
   "cell_type": "code",
   "execution_count": null,
   "metadata": {},
   "outputs": [],
   "source": [
    "#Quering OSM by using the defined point\n",
    "bbox = ox.utils_geo.bbox_from_point(point=point, dist=dist, project_utm=True)\n",
    "fp = f\"./aachen_col_plan.png\"\n",
    "#Figure ground plan change colour\n",
    "fig, ax = ox.plot_footprints(\n",
    "    gdf_proj,\n",
    "    bbox=bbox,\n",
    "    bgcolor=\"white\",\n",
    "    color=\"black\",\n",
    "    filepath=fp,\n",
    "    dpi=300,\n",
    "    save=True,\n",
    "    show=False,\n",
    "    close=True,\n",
    ")\n",
    "Image(fp, height=size, width=size)"
   ]
  },
  {
   "cell_type": "markdown",
   "metadata": {},
   "source": [
    "## Interactive maps - Using Python package ipyleaflet\n",
    "*Ipyleaflet* is an interactive widgets' library, based on *ipywidgets*. Everything in *ipyleaflet* is interactive, attributes can be updated dynamically."
   ]
  },
  {
   "cell_type": "markdown",
   "metadata": {},
   "source": [
    "Let us create our first interactive plane map. Therefore, we need a centre point, a zoom level. You could actually add a specific [basemap](https://ipyleaflet.readthedocs.io/en/latest/api_reference/basemaps.html)."
   ]
  },
  {
   "cell_type": "code",
   "execution_count": null,
   "metadata": {},
   "outputs": [],
   "source": [
    "#change zoom level and another basemap\n",
    "map_ac_new = Map(center=center, zoom = 3, basemap= basemaps.Esri.WorldTopoMap)\n",
    "map_ac_new"
   ]
  },
  {
   "cell_type": "markdown",
   "metadata": {},
   "source": [
    "Aachen is still the centre point, but due to zoom level, one can not see it any more.\n",
    "### Creating icons \n",
    "We can do more than just create a map with a centre. So let us set some interactive icons. The following icon is the official leaflet icon in red. Let us make sure it becomes part of the map. \n",
    "\n",
    "![leaf](./img/leaf-red.png)\n",
    "\n",
    "Well, it works and if you grab the leaf you can move it around as well, but be careful, this sort of visualization my not be precise enough, as you can hardly figure out what it is actually pointing at. But it looks nice anyway."
   ]
  },
  {
   "cell_type": "code",
   "execution_count": null,
   "metadata": {},
   "outputs": [],
   "source": [
    "center = (50.775593, 6.082478)\n",
    "ac_m_ic = Map(center=center, zoom=10)\n",
    "icon = Icon(icon_url='https://leafletjs.com/examples/custom-icons/leaf-red.png', icon_size=[38, 95], icon_anchor=[22,94])\n",
    "mark = Marker(location=center, icon=icon, rotation_angle=90, rotation_origin='22px 94px')\n",
    "ac_m_ic.add_layer(mark);\n",
    "ac_m_ic"
   ]
  },
  {
   "cell_type": "markdown",
   "metadata": {},
   "source": [
    "That was an easy one, because it is the official example for dynamic icons on maps. So, let us use our own icon. Anyway, it is interactive, so try to grab the tree and move it around.  \n",
    "<div>\n",
    "<img src=\"./img/baum.png\" width=\"100\"/>\n",
    "</div>  \n",
    "\n",
    "Well, we have to upload it first, as the parameter *icon_url* works much easier in *JupyterHub* using a URL. But using *just* Jupyter Notebooks on your computer giving a path such as *../files/img/baum.png* serves as well. You may already have a nice website where you can *just* upload a picture and use the URL, in case you do not you could use this one (caution, it is in German): https://abload.de/"
   ]
  },
  {
   "cell_type": "code",
   "execution_count": null,
   "metadata": {},
   "outputs": [],
   "source": [
    "center = (50.775593, 6.082478)\n",
    "ac_1m = Map(center=center, zoom=14)\n",
    "icon = Icon(icon_url='https://git.rwth-aachen.de/noemi.kremer/gisbox-notebooks/-/raw/master/img/baum.png', icon_size=[70, 70], icon_anchor=[22,94])\n",
    "mark = Marker(location=center, icon=icon)\n",
    "ac_1m.add_layer(mark);\n",
    "ac_1m"
   ]
  },
  {
   "cell_type": "markdown",
   "metadata": {},
   "source": [
    "### Setting Marker for location\n",
    "Probably everyone knows the location icon. In Google Maps it is usually red, here we use a blue one."
   ]
  },
  {
   "cell_type": "code",
   "execution_count": null,
   "metadata": {},
   "outputs": [],
   "source": [
    "center = (50.775593, 6.082478)\n",
    "ac_c = Map(center=center, zoom=15)\n",
    "marker = Marker(location=center, draggable=False)\n",
    "ac_c.add_layer(marker);\n",
    "ac_c"
   ]
  },
  {
   "cell_type": "code",
   "execution_count": null,
   "metadata": {},
   "outputs": [],
   "source": [
    "message = HTML()\n",
    "message.value = \"A message for you!\"\n",
    "popup = Popup(\n",
    "    location=center,\n",
    "    close_button=False,\n",
    "    auto_close=False,\n",
    "    close_on_escape_key=False\n",
    ")\n",
    "ac_c.add_layer(popup)\n",
    "marker.popup = message\n",
    "ac_c"
   ]
  },
  {
   "cell_type": "markdown",
   "metadata": {},
   "source": [
    "We just marked the centre point of Aachen. But there are maybe even more places to be marked in one map. Easy, first, we need to get the coordinates of our *other places*, in this example let us use the *Reiff Museum Aachen* and *Aachen Hauptbahnhof (central station)*. We query their coordinates using *OSMnx* and add them in a list. Next, we set a marker for every element in that list."
   ]
  },
  {
   "cell_type": "code",
   "execution_count": null,
   "metadata": {},
   "outputs": [],
   "source": [
    "reiff = ox.geocode(\"reiff museum aachen\")\n",
    "hbf = ox.geocode(\"Aachen Hauptbahnhof\")\n",
    "l = [center, reiff, hbf]"
   ]
  },
  {
   "cell_type": "code",
   "execution_count": null,
   "metadata": {},
   "outputs": [],
   "source": [
    "ac_c = Map(center=center, zoom=14)\n",
    "for elem in l:\n",
    "    marker = Marker(location=elem, draggable=False)\n",
    "    ac_c.add_layer(marker);\n",
    "\n",
    "ac_c"
   ]
  },
  {
   "cell_type": "code",
   "execution_count": null,
   "metadata": {},
   "outputs": [],
   "source": [
    "ac_c.save('my_map_new.html', title='My Map new')"
   ]
  },
  {
   "cell_type": "markdown",
   "metadata": {},
   "source": [
    "### GeoDataFrame in ipyleaflet\n",
    "Well, we can not just add icons to an interactive map, but also DataFrames and GeoDataFrames. Let us use the *Reiff museum*, we already have its coordinates, that will be our centre point. Next we need a GeoDataFrame (or a DataFrame, but in this example it is a GeoDataFrame). To get one we go ahead and query OSM (using *OSMnx*) for geometries around the Reiff museum which are declared to be buildings within a distance of 100. Finally, we add the geometries to our map as a new layer."
   ]
  },
  {
   "cell_type": "code",
   "execution_count": null,
   "metadata": {},
   "outputs": [],
   "source": [
    "#Get geometries quering OSM\n",
    "rdf = ox.geometries_from_point(reiff, tags={\"building\":True},dist=100)"
   ]
  },
  {
   "cell_type": "code",
   "execution_count": null,
   "metadata": {},
   "outputs": [],
   "source": [
    "#Set up map, careful with the zoom level!\n",
    "m = Map(center=reiff, zoom = 16)"
   ]
  },
  {
   "cell_type": "code",
   "execution_count": null,
   "metadata": {},
   "outputs": [],
   "source": [
    "#Adding the GeoDataFrame to the map\n",
    "geo_data = GeoData(geo_dataframe= rdf, style={'color': 'black', 'fillColor': '#3c758c', 'opacity':0.05, 'weight':1.9, 'dashArray':'2', 'fillOpacity':0.6})\n",
    "m.add_layer(geo_data)\n",
    "m"
   ]
  },
  {
   "cell_type": "code",
   "execution_count": null,
   "metadata": {},
   "outputs": [],
   "source": [
    "m.save('my_map.html', title='My Map')"
   ]
  },
  {
   "cell_type": "code",
   "execution_count": null,
   "metadata": {},
   "outputs": [],
   "source": [
    "from ipyleaflet import Map, Marker, Popup \n",
    "from ipywidgets import HTML \n",
    "import pandas as pd\n",
    "\n",
    "# Read the CSV file\n",
    "file = pd.read_csv(\"filejn.csv\", sep=',')\n",
    "\n",
    "# Create a map\n",
    "center = (51.217368, 6.781653)\n",
    "m = Map(center=center, zoom=11)\n",
    "display(m)"
   ]
  },
  {
   "cell_type": "code",
   "execution_count": null,
   "metadata": {},
   "outputs": [],
   "source": [
    "for index, row in file.iterrows():\n",
    "    # Get the latitude, longitude, and energy source level values\n",
    "    source, lon, lat = row['energy_source_level_2'], row['lon'], row['lat']\n",
    "\n",
    "    # Create an HTML widget with the desired message\n",
    "    message = HTML('Energy Source Level: {}'.format(source))\n",
    "\n",
    "    # Create a Popup object with the HTML widget as the child\n",
    "    popup = Popup(child=message, location=(lat, lon), close_button=False, auto_close=False, close_on_escape_key=False)\n",
    "\n",
    "    # Create a marker for the point\n",
    "    marker = Marker(location=(lat, lon), draggable=False)\n",
    "\n",
    "    # Set the Popup object as the popup property of the marker\n",
    "    marker.popup = popup\n",
    "\n",
    "    # Add the marker to the map\n",
    "    m.add_layer(marker)\n",
    "\n",
    "    \n",
    "# Display the map\n",
    "display(m)\n"
   ]
  },
  {
   "cell_type": "code",
   "execution_count": null,
   "metadata": {},
   "outputs": [],
   "source": []
  }
 ],
 "metadata": {
  "kernelspec": {
   "display_name": "Python 3 (ipykernel)",
   "language": "python",
   "name": "python3"
  },
  "language_info": {
   "codemirror_mode": {
    "name": "ipython",
    "version": 3
   },
   "file_extension": ".py",
   "mimetype": "text/x-python",
   "name": "python",
   "nbconvert_exporter": "python",
   "pygments_lexer": "ipython3",
   "version": "3.9.7"
  },
  "toc": {
   "base_numbering": 1,
   "nav_menu": {},
   "number_sections": true,
   "sideBar": true,
   "skip_h1_title": false,
   "title_cell": "Table of Contents",
   "title_sidebar": "Contents",
   "toc_cell": false,
   "toc_position": {},
   "toc_section_display": true,
   "toc_window_display": false
  }
 },
 "nbformat": 4,
 "nbformat_minor": 4
}
