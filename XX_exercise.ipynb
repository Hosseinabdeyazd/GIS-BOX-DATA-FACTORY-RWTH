{
 "cells": [
  {
   "cell_type": "markdown",
   "metadata": {},
   "source": [
    "# Exercise SoSe 2022\n",
    "We want you to illustrate data. There will be a Q and A session for each part. We recommend taking part in this Q and A sessions and be prepared.  \n",
    "* You need to query OSM data\n",
    "* A new piece of information should be obtained by combining data or data sets\n",
    "* Results must be visualized\n",
    "* Describe what you do (code)\n",
    "\n",
    "**You are not allowed to use data already used in our Jupyter Notebooks!** Take a look at the resource chapter in Moodle, there you many links, that can help.  \n",
    "\n",
    "Remember, this is an exam admission task. We expect short, precise implementations. Sections/distances should be chosen so that your computer does not need too long computing times.  \n",
    "\n",
    "Useful links:\n",
    "* The actual Map [Open Street Map](https://www.openstreetmap.org/search?query=Aachen#map=12/50.7597/6.0964&layers=D)\n",
    "* Open Street Map tag information for querying [Wind](https://wiki.openstreetmap.org/wiki/Tag:generator:source%3Dwind), [Water](https://wiki.openstreetmap.org/wiki/Tag:plant:source%3Dhydro), [Solar](https://wiki.openstreetmap.org/wiki/Tag:generator:source=solar?uselang=en), [Geothermal](https://wiki.openstreetmap.org/wiki/Tag:plant:source%3Dgeothermal), [Biomass](https://wiki.openstreetmap.org/wiki/DE:Tag:generator:source%3Dbiomass)\n",
    "\n",
    "\n",
    "\n",
    "## First part\n",
    "* Choose a city from the rheinisch mining area. \n",
    "* Figure out the coordinates for its (city) centre. \n",
    "* Create a Figure Ground Plan by using OSM (size is up to you). \n",
    "* Add the Figure Ground Plan to an interactive map using Ipyleaflet.\n",
    " \n",
    "___\n",
    "Q and A session set for 28.04.2022 9-10am."
   ]
  },
  {
   "cell_type": "code",
   "execution_count": null,
   "metadata": {},
   "outputs": [],
   "source": [
    "#Space for your code and text, add as many cells as you need!"
   ]
  },
  {
   "cell_type": "markdown",
   "metadata": {},
   "source": [
    "## Second part \n",
    "* For the chosen city in part one, go ahead and choose data about renewable energies in its enviroment. \n",
    "* Set marker(s) and message(s) (using ipyleaflet) for the collected data in your interactive map as well.\n",
    "___\n",
    "Q and A session set for 02.06.2022 9-10am. "
   ]
  },
  {
   "cell_type": "code",
   "execution_count": null,
   "metadata": {},
   "outputs": [],
   "source": [
    "#Space for your code and text, add as many cells as you need!"
   ]
  },
  {
   "cell_type": "markdown",
   "metadata": {},
   "source": [
    "## Third part\n",
    "* Store the data retrieved from OSM on the topic of renewable energies in one of the data formats GeoJSON, GeoPackage, CSV. The file should be sensibly structured and usable.\n",
    "\n",
    "___\n",
    "Q and A session set for 30.06.2022 9-10am."
   ]
  },
  {
   "cell_type": "code",
   "execution_count": null,
   "metadata": {},
   "outputs": [],
   "source": [
    "#Space for your code and text, add as many cells as you need!"
   ]
  },
  {
   "cell_type": "markdown",
   "metadata": {},
   "source": [
    "## Submission\n",
    "**FINAL Submission 17.07.2022 for your Jupyter Notebook**  \n",
    "Required for exam admission.\n",
    "Please submit:  \n",
    "* **THIS** juypter notebook file filled with your code\n",
    "* All used source/ created/ data files \n",
    "\n",
    "Submit as **ZIP** file, named like: **surname_firstname_student-id_course_year** in **RWTHMoodle**."
   ]
  },
  {
   "cell_type": "code",
   "execution_count": null,
   "metadata": {},
   "outputs": [],
   "source": []
  }
 ],
 "metadata": {
  "kernelspec": {
   "display_name": "Python 3 (ipykernel)",
   "language": "python",
   "name": "python3"
  },
  "language_info": {
   "codemirror_mode": {
    "name": "ipython",
    "version": 3
   },
   "file_extension": ".py",
   "mimetype": "text/x-python",
   "name": "python",
   "nbconvert_exporter": "python",
   "pygments_lexer": "ipython3",
   "version": "3.9.7"
  },
  "toc": {
   "base_numbering": 1,
   "nav_menu": {},
   "number_sections": true,
   "sideBar": true,
   "skip_h1_title": false,
   "title_cell": "Table of Contents",
   "title_sidebar": "Contents",
   "toc_cell": false,
   "toc_position": {},
   "toc_section_display": true,
   "toc_window_display": false
  }
 },
 "nbformat": 4,
 "nbformat_minor": 4
}
