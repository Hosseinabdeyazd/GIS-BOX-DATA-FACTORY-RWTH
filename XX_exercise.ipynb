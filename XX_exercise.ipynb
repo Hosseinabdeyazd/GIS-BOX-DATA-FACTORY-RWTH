{
 "cells": [
  {
   "cell_type": "markdown",
   "metadata": {},
   "source": [
    "# Exercise WiSe 2021/22\n",
    "We want you to illustrate data, you got from a datafile and completed using OSM data. There will be a Q and A session for each part. We recommend taking part in this Q and A sessions and be prepared. Also, you should submit every part, even if there are going to be mayor changes in the final submission.  \n",
    "* You need a dataset\n",
    "* You need to query OSM data\n",
    "* A new piece of information should be obtained by combining data or data sets\n",
    "* Results must be visualized  \n",
    "\n",
    "**You are not allowed to use data already used in our Jupyter Notebooks!** Take a look at the resource chapter in Moodle, there you may links, that can help.\n",
    "\n",
    "\n",
    "## First part\n",
    "First, find data about a certain situation in a city in NRW. An example would be *hospitals in Düsseldorf* or *museums in Aachen*.\n",
    "Load your data here using Python and checkout what you have got (print or plot dataset). Describe, why you especially use this dataset.\n",
    "Prepare your data! You may just need one or two columns and there can be empty spaces, which need to be taken care of.\n",
    "Some helpful questions:\n",
    "* What does your data contain, what do you want to do?\n",
    "* How is it structured, as CSV, JSON, ect.?\n",
    "* Prepare your data, do you need to make any changes or adjustments, why? \n",
    "\n",
    "You do not feel comfortable, well have a look at the examples from last semester below, they took nice datasets, and additionally queried OSM data.\n",
    "___\n",
    "Q and A session set for 04.11.2021  "
   ]
  },
  {
   "cell_type": "code",
   "execution_count": null,
   "metadata": {},
   "outputs": [],
   "source": [
    "#Space for your code and text, add as many cells as you need!"
   ]
  },
  {
   "cell_type": "markdown",
   "metadata": {},
   "source": [
    "## Second part \n",
    "Next, use Python to extract from your data sets the information you want to use (for example museum names in Aachen). \n",
    "Now that you have got names or addresses or even (already) coordinates, go ahead and query OSM for (if missing) coordinates and additional data. Make sure to print your own first plot at the end.  \n",
    "For example, query OSM for:\n",
    "* Points\n",
    "* Geometries\n",
    "* ...\n",
    "___\n",
    "Q and A session set for 02.12.2021  "
   ]
  },
  {
   "cell_type": "code",
   "execution_count": null,
   "metadata": {},
   "outputs": [],
   "source": [
    "#Space for your code and text, add as many cells as you need!"
   ]
  },
  {
   "cell_type": "markdown",
   "metadata": {},
   "source": [
    "## Third part\n",
    "Now it is time for the final step, creating a beautiful plot map. You have got all your data, but you need to visualize them. What we want you to do:\n",
    "* Create an interactive map using ipyleaflet\n",
    "* Take the polygons and add them to your map\n",
    "* Colour the polygons nicely\n",
    "* Set icons on the three most specific situations/ places\n",
    "\n",
    "No clue, well take a look at the picture below, that is an example.\n",
    "___\n",
    "Q and A session set for 11.01.2022  "
   ]
  },
  {
   "cell_type": "code",
   "execution_count": null,
   "metadata": {},
   "outputs": [],
   "source": [
    "#Space for your code and text, add as many cells as you need!"
   ]
  },
  {
   "cell_type": "markdown",
   "metadata": {},
   "source": [
    "## Submission\n",
    "**FINAL Submission 21.01.2022 for your Jupyter Notebook**  \n",
    "Required for exam admission.\n",
    "Please submit:  \n",
    "* **THIS** juypter notebook file\n",
    "* all used source/ data files \n",
    "\n",
    "Submit as **ZIP** file, named like: **surname_firstname_id_course_year** in RWTHMoodle"
   ]
  },
  {
   "cell_type": "code",
   "execution_count": null,
   "metadata": {},
   "outputs": [],
   "source": []
  }
 ],
 "metadata": {
  "kernelspec": {
   "display_name": "Python 3 (ipykernel)",
   "language": "python",
   "name": "python3"
  },
  "language_info": {
   "codemirror_mode": {
    "name": "ipython",
    "version": 3
   },
   "file_extension": ".py",
   "mimetype": "text/x-python",
   "name": "python",
   "nbconvert_exporter": "python",
   "pygments_lexer": "ipython3",
   "version": "3.8.8"
  },
  "toc": {
   "base_numbering": 1,
   "nav_menu": {},
   "number_sections": true,
   "sideBar": true,
   "skip_h1_title": false,
   "title_cell": "Table of Contents",
   "title_sidebar": "Contents",
   "toc_cell": false,
   "toc_position": {},
   "toc_section_display": true,
   "toc_window_display": false
  }
 },
 "nbformat": 4,
 "nbformat_minor": 4
}
