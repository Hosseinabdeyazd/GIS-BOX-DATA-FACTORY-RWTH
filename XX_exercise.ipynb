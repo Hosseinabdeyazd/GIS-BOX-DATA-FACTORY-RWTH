{
 "cells": [
  {
   "cell_type": "markdown",
   "metadata": {},
   "source": [
    "# Exercise WiSe 2022/23\n",
    "## General information\n",
    "In this submission, we want you to present data. You can work alone or in teams of two. There will be a Q and A session for each part. We recommend taking part in this Q and A sessions and be prepared.  \n",
    "**You are not allowed to use data already used in our Jupyter Notebooks!**  \n",
    "\n",
    "What you should do:It is about the presentation and visualization of data on the topic of sustainable energy.  \n",
    "Where does the data come from? On the one hand, you can consult the data portals of various large cities. We recommend you to have a look at the Resources tab, where we have collected some general links and sources.  \n",
    "Didn't find what you were looking for? Another possibility is OSM. Retrieve data from OSM (Notebooks 06-08) and process them. \n",
    "Useful links OSM:\n",
    "* The actual Map [Open Street Map](https://www.openstreetmap.org/search?query=Aachen#map=12/50.7597/6.0964&layers=D)\n",
    "* Open Street Map tag information for querying [Wind](https://wiki.openstreetmap.org/wiki/Tag:generator:source%3Dwind), [Water](https://wiki.openstreetmap.org/wiki/Tag:plant:source%3Dhydro), [Solar](https://wiki.openstreetmap.org/wiki/Tag:generator:source=solar?uselang=en), [Geothermal](https://wiki.openstreetmap.org/wiki/Tag:plant:source%3Dgeothermal), [Biomass](https://wiki.openstreetmap.org/wiki/DE:Tag:generator:source%3Dbiomass)\n",
    "\n",
    "Remember, this is an exam admission task. We expect short, precise implementations. Sections/distances should be chosen so that your computer does not need to long computing times. **Keep it simple!** "
   ]
  },
  {
   "cell_type": "markdown",
   "metadata": {},
   "source": [
    "## How to proceed:\n",
    "* Select a city in the Rhenisch Mining Area\n",
    "* Search for data on sustainable energy in and around the selected city\n",
    "* Visualize the data in an interactive map with the library Python Ipyleaflet"
   ]
  },
  {
   "cell_type": "markdown",
   "metadata": {},
   "source": [
    "## Submission\n",
    "**FINAL Submission 17.07.2022 for your Jupyter Notebook**  \n",
    "The submission can be done alone or in teamwork (2 persons). In the case of teamwork, both persons must be named in the Jupyter Notebook with their name and matriculation number.\n",
    "Required for exam admission.\n",
    "Please submit:  \n",
    "* **THIS** juypter notebook file filled with your code\n",
    "* All used source/ created/ data files  \n",
    "\n",
    "Submit as **ZIP** file, named like: **surname_firstname_student-id_course_year** in **RWTHMoodle**.\n",
    "\n",
    "In the case of teamwork, please name them as follows:  \n",
    "\n",
    "Submit as **ZIP** file, named like: **surname1_surname2_course_year** in **RWTHMoodle**."
   ]
  },
  {
   "cell_type": "code",
   "execution_count": null,
   "metadata": {},
   "outputs": [],
   "source": [
    "#Space for your code and text, add as many cells as you need!"
   ]
  }
 ],
 "metadata": {
  "kernelspec": {
   "display_name": "Python 3 (ipykernel)",
   "language": "python",
   "name": "python3"
  },
  "language_info": {
   "codemirror_mode": {
    "name": "ipython",
    "version": 3
   },
   "file_extension": ".py",
   "mimetype": "text/x-python",
   "name": "python",
   "nbconvert_exporter": "python",
   "pygments_lexer": "ipython3",
   "version": "3.9.12"
  },
  "toc": {
   "base_numbering": 1,
   "nav_menu": {},
   "number_sections": true,
   "sideBar": true,
   "skip_h1_title": false,
   "title_cell": "Table of Contents",
   "title_sidebar": "Contents",
   "toc_cell": false,
   "toc_position": {},
   "toc_section_display": true,
   "toc_window_display": false
  }
 },
 "nbformat": 4,
 "nbformat_minor": 4
}
