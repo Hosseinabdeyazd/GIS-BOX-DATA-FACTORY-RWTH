{
 "cells": [
  {
   "cell_type": "markdown",
   "metadata": {
    "toc": true
   },
   "source": [
    "<h1>Table of Contents<span class=\"tocSkip\"></span></h1>\n",
    "<div class=\"toc\"><ul class=\"toc-item\"><li><span><a href=\"#Point-Pattern-Analysis\" data-toc-modified-id=\"Point-Pattern-Analysis-1\"><span class=\"toc-item-num\">1&nbsp;&nbsp;</span>Point Pattern Analysis</a></span><ul class=\"toc-item\"><li><span><a href=\"#Point-pattern-file-import\" data-toc-modified-id=\"Point-pattern-file-import-1.1\"><span class=\"toc-item-num\">1.1&nbsp;&nbsp;</span>Point pattern file import</a></span></li><li><span><a href=\"#Preparing-Information\" data-toc-modified-id=\"Preparing-Information-1.2\"><span class=\"toc-item-num\">1.2&nbsp;&nbsp;</span>Preparing Information</a></span></li><li><span><a href=\"#Plotting-dependencies-in-graph\" data-toc-modified-id=\"Plotting-dependencies-in-graph-1.3\"><span class=\"toc-item-num\">1.3&nbsp;&nbsp;</span>Plotting dependencies in graph</a></span></li><li><span><a href=\"#Hex-binning\" data-toc-modified-id=\"Hex-binning-1.4\"><span class=\"toc-item-num\">1.4&nbsp;&nbsp;</span>Hex-binning</a></span></li><li><span><a href=\"#Kernel-density-estimation-(KDE)\" data-toc-modified-id=\"Kernel-density-estimation-(KDE)-1.5\"><span class=\"toc-item-num\">1.5&nbsp;&nbsp;</span>Kernel density estimation (KDE)</a></span></li><li><span><a href=\"#Algorithm\" data-toc-modified-id=\"Algorithm-1.6\"><span class=\"toc-item-num\">1.6&nbsp;&nbsp;</span>Algorithm</a></span><ul class=\"toc-item\"><li><span><a href=\"#Exercise\" data-toc-modified-id=\"Exercise-1.6.1\"><span class=\"toc-item-num\">1.6.1&nbsp;&nbsp;</span>Exercise</a></span></li></ul></li></ul></li></ul></div>"
   ]
  },
  {
   "cell_type": "markdown",
   "metadata": {},
   "source": [
    "# Point Pattern Analysis\n",
    "A point pattern can be seen as a collection of events, which take place in several locations. Analysing this spatial arrangements of points in a usually 2-dimensional space is called *point pattern analysis*. Therefore, the *space* is a predefined study region.  \n",
    "A set of points, let us call them $X$, with $X = {x \\in D}. D$ is therefore the study region and a subset of the $R^n$ (n-dimensional Euclidean space).  \n",
    "But before being too theoretical, let us work this out by using an example:\n",
    "## Point pattern file import\n",
    "There are a lot of bus stops in Aachen, the AVV provides information of their bus system. First, we need to load the CSV file. As the table show, one gets little information, imported for us are the coordinates. Having a look at the README file provided by the AVV, one knows why the coordinates look like this, they are multiplied by 1000000. Before using them, we need to divide all coordinate content by 1000000."
   ]
  },
  {
   "cell_type": "code",
   "execution_count": null,
   "metadata": {
    "scrolled": true
   },
   "outputs": [],
   "source": [
    "import numpy\n",
    "import pandas as pd\n",
    "import geopandas\n",
    "import pysal\n",
    "import seaborn\n",
    "import contextily\n",
    "import os\n",
    "import matplotlib.pyplot as plt \n",
    "avv_halt = pd.read_csv(r\"./data/AVV_Haltestellen.csv\", sep=',')\n",
    "avv_halt.head()"
   ]
  },
  {
   "cell_type": "markdown",
   "metadata": {},
   "source": [
    "## Preparing Information\n",
    "Let us get all existing elements and divide the first column \"WGS84_RW_X_1000000\" than we do the second one. To make it easier, one could implement a function instead, to keep it clean and simple."
   ]
  },
  {
   "cell_type": "code",
   "execution_count": null,
   "metadata": {},
   "outputs": [],
   "source": [
    "#First changing data from the first column\n",
    "ort = avv_halt['WGS84_RW_X_1000000'] \n",
    "old = []\n",
    "new = []\n",
    "for elem in ort:\n",
    "    old.append(elem)\n",
    "    elem = elem / 1000000\n",
    "    new.append(elem)"
   ]
  },
  {
   "cell_type": "code",
   "execution_count": null,
   "metadata": {},
   "outputs": [],
   "source": [
    "avv_halt['WGS84_RW_X_1000000'].replace(old, new, inplace = True)\n",
    "avv_halt.head()"
   ]
  },
  {
   "cell_type": "code",
   "execution_count": null,
   "metadata": {},
   "outputs": [],
   "source": [
    "#Second changing data from the second column\n",
    "ort2 = avv_halt['WGS84_HW_X_1000000'] \n",
    "old2 = []\n",
    "new2 = []\n",
    "for elem2 in ort2:\n",
    "    old2.append(elem2)\n",
    "    elem2 = elem2 / 1000000\n",
    "    new2.append(elem2)"
   ]
  },
  {
   "cell_type": "code",
   "execution_count": null,
   "metadata": {},
   "outputs": [],
   "source": [
    "avv_halt['WGS84_HW_X_1000000'].replace(old2, new2, inplace = True)\n",
    "avv_halt.head()"
   ]
  },
  {
   "cell_type": "markdown",
   "metadata": {},
   "source": [
    "As the existing column name is a little long, we change it to longitude and latitude, as they are not just shorter but also more intuitive."
   ]
  },
  {
   "cell_type": "code",
   "execution_count": null,
   "metadata": {},
   "outputs": [],
   "source": [
    "avv_halt = avv_halt.rename(columns = {'WGS84_HW_X_1000000' : 'latitude'})\n",
    "avv_halt = avv_halt.rename(columns = {'WGS84_RW_X_1000000' : 'longitude'})\n",
    "avv_halt.head()"
   ]
  },
  {
   "cell_type": "markdown",
   "metadata": {},
   "source": [
    "## Plotting dependencies in graph\n",
    "We use Seaborn here to plot our points in a dependent graph. As you may see, the points are ordered and the point dataset get a dimension. One can see point concentration in different areas."
   ]
  },
  {
   "cell_type": "code",
   "execution_count": null,
   "metadata": {},
   "outputs": [],
   "source": [
    "seaborn.jointplot(x='longitude', y='latitude', data=avv_halt, s=0.5);"
   ]
  },
  {
   "cell_type": "markdown",
   "metadata": {},
   "source": [
    "Next, we use the library contextily, because one can use the **add_basemap()** method to add a base map to provide a context. "
   ]
  },
  {
   "cell_type": "code",
   "execution_count": null,
   "metadata": {},
   "outputs": [],
   "source": [
    "joint_axes = seaborn.jointplot(\n",
    "    x='longitude', y='latitude', data=avv_halt, s=0.5\n",
    ")\n",
    "#Adding a basemap for better visualization\n",
    "contextily.add_basemap(\n",
    "    joint_axes.ax_joint,\n",
    "    crs=\"EPSG:4326\",\n",
    "    source=contextily.providers.CartoDB.PositronNoLabels\n",
    ");"
   ]
  },
  {
   "cell_type": "markdown",
   "metadata": {},
   "source": [
    "## Hex-binning\n",
    "Binning is a technique for data aggregation, used for grouping a data of a dataset. Therefore, the dataset of *n* values will be converted into less than *n* discrete groups. We just consider 2 dimensional (x, y coordinates) datasets. The technique is simple: a plane (x, y) is uniformly tiled in polygons, which can be squares, rectangles or hexagons.\n",
    "Which means: Hex-binning is a specific way for creating choropleth maps. The main advantage of hexagons in comparison with rectangles is, that they are more similar to circles than squares, therefore the data aggregation around a bin centre is more efficient, when similar values provoke a lot of over plotting.\n",
    "\n",
    "Let us take a look at an example:  \n",
    "\n",
    "When many bus stops (points) are concentrated in some area, it can become hard to explore the patterns' nature. To simplify and improve the visibility, one generate a regular grid (hexagonal). Depending on how many points fall in one grid cell, the colour is chosen. "
   ]
  },
  {
   "cell_type": "code",
   "execution_count": null,
   "metadata": {
    "scrolled": true
   },
   "outputs": [],
   "source": [
    "f, ax = plt.subplots(1, figsize=(12, 9))\n",
    "#Generating the hexbin plot\n",
    "hb = ax.hexbin(\n",
    "    avv_halt['longitude'],\n",
    "    avv_halt['latitude'], \n",
    "    gridsize=50, \n",
    "    linewidths=0,\n",
    "    alpha=0.5, \n",
    "    cmap='viridis_r'\n",
    ")\n",
    "#Adding a basemap\n",
    "contextily.add_basemap(\n",
    "    ax, \n",
    "    crs=\"EPSG:4326\",\n",
    "    source=contextily.providers.CartoDB.Positron\n",
    ")\n",
    "plt.colorbar(hb)\n",
    "ax.set_axis_off()"
   ]
  },
  {
   "cell_type": "markdown",
   "metadata": {},
   "source": [
    "## Kernel density estimation (KDE)\n",
    "The grids are the spatial equivalent of a histogram. An alternative is the Kernel Density Estimation (an empirical approximation of the probability density function). Instead of a grid of squares of hexagons, the *kde* uses a grid of points is placed over the area of interest, on which it placed kernel functions that count points around them with different weight based on the distance. Furthermore, the counts are aggregated to generate a (global) surface with probabilist. The most common kernel function is the Gaussian one. Here, a normal distribution to weight points in applied. The result is a continuous surface. The following function creates a Gaussian kernel. "
   ]
  },
  {
   "cell_type": "code",
   "execution_count": null,
   "metadata": {},
   "outputs": [],
   "source": [
    "f, ax = plt.subplots(1, figsize=(9, 9))\n",
    "#Generating the kde plot\n",
    "seaborn.kdeplot(\n",
    "    x = avv_halt['longitude'],\n",
    "    y = avv_halt['latitude'], \n",
    "    n_levels=50, \n",
    "    shade=True,\n",
    "    alpha=0.55, \n",
    "    cmap='viridis_r'\n",
    ")\n",
    "#Adding a basemap\n",
    "contextily.add_basemap(\n",
    "    ax,\n",
    "    crs=\"EPSG:4326\",\n",
    "    source=contextily.providers.CartoDB.Positron,\n",
    "    \n",
    ")\n",
    "ax.set_axis_off()"
   ]
  },
  {
   "cell_type": "markdown",
   "metadata": {},
   "source": [
    "## Algorithm\n",
    "An algorithm is a unique set of rules for solving a problem. It does not necessarily have to be code in programming languages, an algorithm can also be written in natural language or, for example, pseudocode. There are a few important properties that make up an algorithm, including determinism, finiteness, and effectiveness. For example, a calculation formula such as the Pythagorean theorem is an algorithm.\n",
    "![algorithm](./img/algorithm.png)"
   ]
  },
  {
   "cell_type": "markdown",
   "metadata": {},
   "source": [
    "### Exercise\n",
    "Look at the point analysis again carefully and note which steps are taken here and why. Describe what happens whereby adding notes '#' in the code. If you are working with code, it is important that you understand the steps. Change the code and see what happens. Load the file 'nodes-forest_ac.geojson' and use the same algorithm but use different layout information."
   ]
  },
  {
   "cell_type": "code",
   "execution_count": null,
   "metadata": {},
   "outputs": [],
   "source": []
  }
 ],
 "metadata": {
  "kernelspec": {
   "display_name": "Python 3",
   "language": "python",
   "name": "python3"
  },
  "language_info": {
   "codemirror_mode": {
    "name": "ipython",
    "version": 3
   },
   "file_extension": ".py",
   "mimetype": "text/x-python",
   "name": "python",
   "nbconvert_exporter": "python",
   "pygments_lexer": "ipython3",
   "version": "3.7.8"
  },
  "toc": {
   "base_numbering": 1,
   "nav_menu": {},
   "number_sections": true,
   "sideBar": true,
   "skip_h1_title": false,
   "title_cell": "Table of Contents",
   "title_sidebar": "Contents",
   "toc_cell": true,
   "toc_position": {
    "height": "668.717px",
    "left": "940px",
    "top": "171.133px",
    "width": "165px"
   },
   "toc_section_display": true,
   "toc_window_display": true
  }
 },
 "nbformat": 4,
 "nbformat_minor": 4
}
