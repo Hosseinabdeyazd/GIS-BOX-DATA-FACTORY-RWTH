{
 "cells": [
  {
   "cell_type": "markdown",
   "metadata": {
    "toc": true
   },
   "source": [
    "<h1>Table of Contents<span class=\"tocSkip\"></span></h1>\n",
    "<div class=\"toc\"><ul class=\"toc-item\"><li><span><a href=\"#Point-Pattern-Analysis\" data-toc-modified-id=\"Point-Pattern-Analysis-1\"><span class=\"toc-item-num\">1&nbsp;&nbsp;</span>Point Pattern Analysis</a></span><ul class=\"toc-item\"><li><span><a href=\"#Point-pattern-file-import\" data-toc-modified-id=\"Point-pattern-file-import-1.1\"><span class=\"toc-item-num\">1.1&nbsp;&nbsp;</span>Point pattern file import</a></span></li><li><span><a href=\"#Preparing-Information\" data-toc-modified-id=\"Preparing-Information-1.2\"><span class=\"toc-item-num\">1.2&nbsp;&nbsp;</span>Preparing Information</a></span></li><li><span><a href=\"#Plotting-dependencies-in-graph\" data-toc-modified-id=\"Plotting-dependencies-in-graph-1.3\"><span class=\"toc-item-num\">1.3&nbsp;&nbsp;</span>Plotting dependencies in graph</a></span></li><li><span><a href=\"#Hex-binning\" data-toc-modified-id=\"Hex-binning-1.4\"><span class=\"toc-item-num\">1.4&nbsp;&nbsp;</span>Hex-binning</a></span></li><li><span><a href=\"#Kernel-density-estimation-(KDE)\" data-toc-modified-id=\"Kernel-density-estimation-(KDE)-1.5\"><span class=\"toc-item-num\">1.5&nbsp;&nbsp;</span>Kernel density estimation (KDE)</a></span></li></ul></li></ul></div>"
   ]
  },
  {
   "cell_type": "markdown",
   "metadata": {},
   "source": [
    "# Point Pattern Analysis"
   ]
  },
  {
   "cell_type": "markdown",
   "metadata": {},
   "source": [
    "## Point pattern file import\n",
    "There are a lot of bus stops in Aachen, the AVV provides information of their bus system. First we need to load the CSV file. As the table show, one get little information, imported for us are the coordinates. Having a look at the README file provided by the AVV, one know why the coordinates look like this, they are multiplied by 1000000. Before using them we need to divide all coordinate content by 1000000."
   ]
  },
  {
   "cell_type": "code",
   "execution_count": 1,
   "metadata": {
    "scrolled": true
   },
   "outputs": [
    {
     "data": {
      "text/html": [
       "<div>\n",
       "<style scoped>\n",
       "    .dataframe tbody tr th:only-of-type {\n",
       "        vertical-align: middle;\n",
       "    }\n",
       "\n",
       "    .dataframe tbody tr th {\n",
       "        vertical-align: top;\n",
       "    }\n",
       "\n",
       "    .dataframe thead th {\n",
       "        text-align: right;\n",
       "    }\n",
       "</style>\n",
       "<table border=\"1\" class=\"dataframe\">\n",
       "  <thead>\n",
       "    <tr style=\"text-align: right;\">\n",
       "      <th></th>\n",
       "      <th>HSTNUMSYS</th>\n",
       "      <th>HSTNUM</th>\n",
       "      <th>HSTNAME</th>\n",
       "      <th>AGS</th>\n",
       "      <th>KOMMUNE</th>\n",
       "      <th>ORTSTEIL</th>\n",
       "      <th>WGS84_RW_X_1000000</th>\n",
       "      <th>WGS84_HW_X_1000000</th>\n",
       "      <th>GLOBAL_ID</th>\n",
       "    </tr>\n",
       "  </thead>\n",
       "  <tbody>\n",
       "    <tr>\n",
       "      <th>0</th>\n",
       "      <td>AVV</td>\n",
       "      <td>1001</td>\n",
       "      <td>Aachen, Bushof</td>\n",
       "      <td>5334002</td>\n",
       "      <td>Aachen</td>\n",
       "      <td>Aachen</td>\n",
       "      <td>6089768.0</td>\n",
       "      <td>50776453.0</td>\n",
       "      <td>de:05334:1001</td>\n",
       "    </tr>\n",
       "    <tr>\n",
       "      <th>1</th>\n",
       "      <td>AVV</td>\n",
       "      <td>1002</td>\n",
       "      <td>Aachen, Kaiser-Friedrich-Park</td>\n",
       "      <td>5334002</td>\n",
       "      <td>Aachen</td>\n",
       "      <td>Aachen</td>\n",
       "      <td>6075421.0</td>\n",
       "      <td>50759141.0</td>\n",
       "      <td>de:05334:1002</td>\n",
       "    </tr>\n",
       "    <tr>\n",
       "      <th>2</th>\n",
       "      <td>AVV</td>\n",
       "      <td>1003</td>\n",
       "      <td>Aachen, Ehrenmal / Lousberg</td>\n",
       "      <td>5334002</td>\n",
       "      <td>Aachen</td>\n",
       "      <td>Aachen</td>\n",
       "      <td>6083328.0</td>\n",
       "      <td>50782274.0</td>\n",
       "      <td>de:05334:1003</td>\n",
       "    </tr>\n",
       "    <tr>\n",
       "      <th>3</th>\n",
       "      <td>AVV</td>\n",
       "      <td>1004</td>\n",
       "      <td>Aachen, STAWAG</td>\n",
       "      <td>5334002</td>\n",
       "      <td>Aachen</td>\n",
       "      <td>Aachen</td>\n",
       "      <td>6100047.0</td>\n",
       "      <td>50783114.0</td>\n",
       "      <td>de:05334:1004</td>\n",
       "    </tr>\n",
       "    <tr>\n",
       "      <th>4</th>\n",
       "      <td>AVV</td>\n",
       "      <td>1005</td>\n",
       "      <td>Aachen, Misereor</td>\n",
       "      <td>5334002</td>\n",
       "      <td>Aachen</td>\n",
       "      <td>Aachen</td>\n",
       "      <td>6083912.0</td>\n",
       "      <td>50768538.0</td>\n",
       "      <td>de:05334:1005</td>\n",
       "    </tr>\n",
       "  </tbody>\n",
       "</table>\n",
       "</div>"
      ],
      "text/plain": [
       "  HSTNUMSYS  HSTNUM                        HSTNAME      AGS KOMMUNE ORTSTEIL  \\\n",
       "0       AVV    1001                 Aachen, Bushof  5334002  Aachen   Aachen   \n",
       "1       AVV    1002  Aachen, Kaiser-Friedrich-Park  5334002  Aachen   Aachen   \n",
       "2       AVV    1003    Aachen, Ehrenmal / Lousberg  5334002  Aachen   Aachen   \n",
       "3       AVV    1004                 Aachen, STAWAG  5334002  Aachen   Aachen   \n",
       "4       AVV    1005               Aachen, Misereor  5334002  Aachen   Aachen   \n",
       "\n",
       "   WGS84_RW_X_1000000  WGS84_HW_X_1000000      GLOBAL_ID  \n",
       "0           6089768.0          50776453.0  de:05334:1001  \n",
       "1           6075421.0          50759141.0  de:05334:1002  \n",
       "2           6083328.0          50782274.0  de:05334:1003  \n",
       "3           6100047.0          50783114.0  de:05334:1004  \n",
       "4           6083912.0          50768538.0  de:05334:1005  "
      ]
     },
     "execution_count": 1,
     "metadata": {},
     "output_type": "execute_result"
    }
   ],
   "source": [
    "import numpy\n",
    "import pandas as pd\n",
    "import geopandas\n",
    "import pysal\n",
    "import seaborn\n",
    "import contextily\n",
    "import os\n",
    "import matplotlib.pyplot as plt \n",
    "avv_halt = pd.read_csv(r\"./data/AVV_Haltestellen.csv\", sep=',', engine='python')\n",
    "avv_halt.head()"
   ]
  },
  {
   "cell_type": "markdown",
   "metadata": {},
   "source": [
    "## Preparing Information\n",
    "Let us get all existing elements and divide the first column \"WGS84_RW_X_1000000\" than we do the second one. To make it easier, one could implement a function instead, to keep it clean and simple."
   ]
  },
  {
   "cell_type": "code",
   "execution_count": null,
   "metadata": {},
   "outputs": [],
   "source": [
    "ort = avv_halt['WGS84_RW_X_1000000'] \n",
    "old = []\n",
    "new = []\n",
    "for elem in ort:\n",
    "    old.append(elem)\n",
    "    elem = elem / 1000000\n",
    "    new.append(elem)"
   ]
  },
  {
   "cell_type": "code",
   "execution_count": null,
   "metadata": {},
   "outputs": [],
   "source": [
    "avv_halt['WGS84_RW_X_1000000'].replace(old, new, inplace = True)\n",
    "avv_halt.head()"
   ]
  },
  {
   "cell_type": "code",
   "execution_count": null,
   "metadata": {},
   "outputs": [],
   "source": [
    "ort2 = avv_halt['WGS84_HW_X_1000000'] \n",
    "old2 = []\n",
    "new2 = []\n",
    "for elem2 in ort2:\n",
    "    old2.append(elem2)\n",
    "    elem2 = elem2 / 1000000\n",
    "    new2.append(elem2)"
   ]
  },
  {
   "cell_type": "code",
   "execution_count": null,
   "metadata": {},
   "outputs": [],
   "source": [
    "avv_halt['WGS84_HW_X_1000000'].replace(old2, new2, inplace = True)\n",
    "avv_halt.head()"
   ]
  },
  {
   "cell_type": "markdown",
   "metadata": {},
   "source": [
    "As the existing column name is a little long we change it to longitude and latitude, as they are not just shorter but also more intuitive."
   ]
  },
  {
   "cell_type": "code",
   "execution_count": null,
   "metadata": {},
   "outputs": [],
   "source": [
    "avv_halt = avv_halt.rename(columns = {'WGS84_HW_X_1000000' : 'latitude'})\n",
    "avv_halt = avv_halt.rename(columns = {'WGS84_RW_X_1000000' : 'longitude'})\n",
    "avv_halt.head()"
   ]
  },
  {
   "cell_type": "markdown",
   "metadata": {},
   "source": [
    "## Plotting dependencies in graph\n",
    "We use seaborn here to plot our points in a dependent graph. As one may see the points are ordered and the point dataset get a dimension. One can see point concentration in different areas."
   ]
  },
  {
   "cell_type": "code",
   "execution_count": null,
   "metadata": {},
   "outputs": [],
   "source": [
    "seaborn.jointplot(x='longitude', y='latitude', data=avv_halt, s=0.5);"
   ]
  },
  {
   "cell_type": "markdown",
   "metadata": {},
   "source": [
    "Next, we use the library contextily, because one can use the **add_basemap()** method to add a base map to provide a context. "
   ]
  },
  {
   "cell_type": "code",
   "execution_count": null,
   "metadata": {},
   "outputs": [],
   "source": [
    "# Generate scatter plot\n",
    "joint_axes = seaborn.jointplot(\n",
    "    x='longitude', y='latitude', data=avv_halt, s=0.5\n",
    ")\n",
    "contextily.add_basemap(\n",
    "    joint_axes.ax_joint,\n",
    "    crs=\"EPSG:4326\",\n",
    "    source=contextily.providers.CartoDB.PositronNoLabels\n",
    ");"
   ]
  },
  {
   "cell_type": "markdown",
   "metadata": {},
   "source": [
    "## Hex-binning\n",
    "When many bus stops (points) are concentrated in some area it can become hard to explore the patterns' nature. To simplify and improve the visibility one generate a regular grid (hexagonal). Depending on how many points fall in one grid cell, the colour is chosen. "
   ]
  },
  {
   "cell_type": "code",
   "execution_count": null,
   "metadata": {},
   "outputs": [],
   "source": [
    "# Set up figure and axis\n",
    "f, ax = plt.subplots(1, figsize=(12, 9))\n",
    "# Generate and add hexbin with 50 hexagons in each \n",
    "# dimension, no borderlines, half transparency,\n",
    "hb = ax.hexbin(\n",
    "    avv_halt['longitude'],\n",
    "    avv_halt['latitude'], \n",
    "    gridsize=50, \n",
    "    linewidths=0,\n",
    "    alpha=0.5, \n",
    "    cmap='viridis_r'\n",
    ")\n",
    "# Add basemap\n",
    "contextily.add_basemap(\n",
    "    ax, \n",
    "    crs=\"EPSG:4326\",\n",
    "    source=contextily.providers.CartoDB.Positron\n",
    ")\n",
    "# Add colorbar\n",
    "plt.colorbar(hb)\n",
    "# Remove axes\n",
    "ax.set_axis_off()"
   ]
  },
  {
   "cell_type": "markdown",
   "metadata": {},
   "source": [
    "## Kernel density estimation (KDE)\n",
    "The grids are the spatial equivalent of a histogram. An alternative is the kernel density estimation (an empirical approximation of the probability density function). The most common kernel function is the Gaussian one. Here, a normal distribution to weight points in applied. The result is a continuous surface. The following function creates a Gaussian kernel. "
   ]
  },
  {
   "cell_type": "code",
   "execution_count": null,
   "metadata": {},
   "outputs": [],
   "source": [
    "# Set up figure and axis\n",
    "f, ax = plt.subplots(1, figsize=(9, 9))\n",
    "# Generate and add KDE with a shading of 50 gradients \n",
    "# coloured contours, 75% of transparency,\n",
    "seaborn.kdeplot(\n",
    "    x = avv_halt['longitude'],\n",
    "    y = avv_halt['latitude'], \n",
    "    n_levels=50, \n",
    "    shade=True,\n",
    "    alpha=0.55, \n",
    "    cmap='viridis_r'\n",
    ")\n",
    "# Add basemap\n",
    "contextily.add_basemap(\n",
    "    ax,\n",
    "    crs=\"EPSG:4326\",\n",
    "    source=contextily.providers.CartoDB.Positron,\n",
    "    \n",
    ")\n",
    "# Remove axes\n",
    "ax.set_axis_off()"
   ]
  },
  {
   "cell_type": "code",
   "execution_count": null,
   "metadata": {},
   "outputs": [],
   "source": []
  },
  {
   "cell_type": "code",
   "execution_count": null,
   "metadata": {},
   "outputs": [],
   "source": []
  }
 ],
 "metadata": {
  "kernelspec": {
   "display_name": "Python 3",
   "language": "python",
   "name": "python3"
  },
  "language_info": {
   "codemirror_mode": {
    "name": "ipython",
    "version": 3
   },
   "file_extension": ".py",
   "mimetype": "text/x-python",
   "name": "python",
   "nbconvert_exporter": "python",
   "pygments_lexer": "ipython3",
   "version": "3.8.8"
  },
  "toc": {
   "base_numbering": 1,
   "nav_menu": {},
   "number_sections": true,
   "sideBar": true,
   "skip_h1_title": false,
   "title_cell": "Table of Contents",
   "title_sidebar": "Contents",
   "toc_cell": true,
   "toc_position": {
    "height": "668.717px",
    "left": "940px",
    "top": "171.133px",
    "width": "165px"
   },
   "toc_section_display": true,
   "toc_window_display": true
  }
 },
 "nbformat": 4,
 "nbformat_minor": 2
}
