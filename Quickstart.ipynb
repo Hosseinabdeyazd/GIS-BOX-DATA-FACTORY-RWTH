{
 "cells": [
  {
   "cell_type": "markdown",
   "metadata": {},
   "source": [
    "![RWTH Logo](https://www.rwth-aachen.de/global/show_picture.asp?id=aaaaaaaaaaagazb)\n",
    "\n",
    "# Jupyter Example Profile Quickstart\n",
    "\n",
    "Welcome to JupyterLab!\n",
    "\n",
    "* Execute a single cell: <span class=\"fa-play fa\"></span>\n",
    "* Execute all cells: Menu: Run <span class=\"fa-chevron-right fa\"></span> Run All Cells\n",
    "* To reboot kernel: <span class=\"fa-refresh fa\"></span>\n",
    "\n",
    "Find more in the reference (menu: Help <span class=\"fa-chevron-right fa\"></span> Jupyter Reference)."
   ]
  },
  {
   "cell_type": "markdown",
   "metadata": {},
   "source": [
    "## Markdown\n",
    "\n",
    "You can specify the cell type which is either _Code_ or _Markdown_. \n",
    "\n",
    "### Lists\n",
    "\n",
    "* Like\n",
    "* this\n",
    "  1. We can even nest them like\n",
    "  2. this!\n",
    "* Isn't that wonderfull?\n",
    "  \n",
    "### Images \n",
    "\n",
    "![Newtons cradle](https://upload.wikimedia.org/wikipedia/commons/thumb/d/d3/Newtons_cradle_animation_book_2.gif/200px-Newtons_cradle_animation_book_2.gif)\n",
    "\n",
    "### LaTeX equations\n",
    "\n",
    "$$\\mathrm{e}^{\\mathrm{j} x} = \\cos(x)+\\mathrm{j}\\sin(x)$$\n",
    "\n",
    "### Code\n",
    "\n",
    "``` python\n",
    "print(\"Hello world!\")\n",
    "```\n",
    "\n",
    "### Further reading\n",
    "Read more in the reference (menu: Help <span class=\"fa-chevron-right fa\"></span> Markdown Reference)."
   ]
  },
  {
   "cell_type": "markdown",
   "metadata": {},
   "source": [
    "## Python"
   ]
  },
  {
   "cell_type": "code",
   "execution_count": null,
   "metadata": {},
   "outputs": [],
   "source": [
    "print(\"Hello world!\")"
   ]
  },
  {
   "cell_type": "markdown",
   "metadata": {},
   "source": [
    "## numpy\n",
    "\n",
    "Execute the cell below to see the contents of variable `a`"
   ]
  },
  {
   "cell_type": "code",
   "execution_count": null,
   "metadata": {},
   "outputs": [],
   "source": [
    "import numpy as np\n",
    "\n",
    "a = np.array([0, 1, -5])\n",
    "a"
   ]
  },
  {
   "cell_type": "markdown",
   "metadata": {},
   "source": [
    "## Plots with matplotlib\n",
    "\n",
    "Nice matplotlib [tutorial](https://matplotlib.org/tutorials/introductory/usage.html#sphx-glr-tutorials-introductory-usage-py)"
   ]
  },
  {
   "cell_type": "code",
   "execution_count": null,
   "metadata": {},
   "outputs": [],
   "source": [
    "%matplotlib widget\n",
    "import matplotlib.pyplot as plt\n",
    "from rwth_colors_matplotlib import *\n",
    "\n",
    "fs = 44100;\n",
    "(t, deltat) = np.linspace(-10, 10, 20*fs, retstep=True) # t axis in seconds\n",
    "\n",
    "fig,ax = plt.subplots(); ax.grid();\n",
    "ax.plot(t, np.sin(2*np.pi*t), 'rwth:blue')\n",
    "ax.set_xlabel(r'$t$'); ax.set_ylabel(r'$s(t) = \\sin(2 \\pi t)$'); "
   ]
  },
  {
   "cell_type": "code",
   "execution_count": null,
   "metadata": {},
   "outputs": [],
   "source": [
    "from scipy import misc\n",
    "f = misc.face()\n",
    "\n",
    "fig,ax = plt.subplots();\n",
    "ax.imshow(f);"
   ]
  },
  {
   "cell_type": "markdown",
   "metadata": {},
   "source": [
    "## Interactive Widgets\n",
    "\n",
    "Jupyter Widgets. You can find a detailled widget list [here](https://ipywidgets.readthedocs.io/en/latest/examples/Widget%20List.html).\n",
    "This requires to install [Jupyter Matplotlib](https://github.com/matplotlib/jupyter-matplotlib) which is called with the `%matplotlib widget` magic.\n",
    "\n",
    "Uses Python [decorators](https://docs.python.org/3/glossary.html#term-decorator)."
   ]
  },
  {
   "cell_type": "code",
   "execution_count": null,
   "metadata": {},
   "outputs": [],
   "source": [
    "import ipywidgets as widgets\n",
    "\n",
    "# Create figure\n",
    "fig0, ax0 = plt.subplots(); \n",
    "\n",
    "# Create update function and decorate them with widgets\n",
    "@widgets.interact(F = widgets.FloatSlider(min=0.1, max=10, step=0.1, value=0, description='$F$:'))\n",
    "def update_plot(F): \n",
    "    # Generate signal with given F\n",
    "    s = np.sin(2*np.pi*F*t)\n",
    "          \n",
    "    # Plot\n",
    "    if not ax0.lines: # decorate axes with labels etc. (which is only needed once)\n",
    "        ax0.plot(t, s, 'rwth:blue'); \n",
    "        ax0.set_xlabel(r'$t$'); ax.set_ylabel(r'$s(t)=\\sin(2 \\pi F t)$')\n",
    "    else: # update only lines and leave everything else as is (gives huge speed-up)\n",
    "        ax0.lines[0].set_ydata(s)"
   ]
  },
  {
   "cell_type": "markdown",
   "metadata": {},
   "source": [
    "## Audio"
   ]
  },
  {
   "cell_type": "code",
   "execution_count": null,
   "metadata": {},
   "outputs": [],
   "source": [
    "from IPython.display import Audio, Latex\n",
    "\n",
    "def audio_play(s, fs, txt=\"\", autoplay=False):\n",
    "    if txt: display(Latex(txt))\n",
    "    display(Audio(s, rate=fs, autoplay=autoplay))\n",
    "\n",
    "# Create sin\n",
    "s = np.sin(2*np.pi*440*t)\n",
    "\n",
    "# Play back\n",
    "audio_play(s, fs, r'$s(t)$')"
   ]
  },
  {
   "cell_type": "code",
   "execution_count": 2,
   "metadata": {},
   "outputs": [
    {
     "name": "stdout",
     "output_type": "stream",
     "text": [
      "\n",
      "Please wait a moment while I gather a list of all available modules...\n",
      "\n"
     ]
    },
    {
     "name": "stderr",
     "output_type": "stream",
     "text": [
      "/opt/conda/lib/python3.7/site-packages/IPython/kernel/__init__.py:13: ShimWarning: The `IPython.kernel` package has been deprecated since IPython 4.0.You should import from ipykernel or jupyter_client instead.\n",
      "  \"You should import from ipykernel or jupyter_client instead.\", ShimWarning)\n"
     ]
    },
    {
     "name": "stdout",
     "output_type": "stream",
     "text": [
      "IPython             attr                ipywidgets          reprlib\n",
      "OpenSSL             audioop             itertools           requests\n",
      "__future__          autoreload          jedi                resource\n",
      "_abc                backcall            jinja2              rlcompleter\n",
      "_ast                backports           json                rmagic\n",
      "_asyncio            base64              json5               ruamel_yaml\n",
      "_bisect             bdb                 jsonschema          runpy\n",
      "_blake2             binascii            jupyter             rwth_nb\n",
      "_bootlocale         binhex              jupyter_client      sched\n",
      "_bz2                bisect              jupyter_core        secrets\n",
      "_cffi_backend       bleach              jupyter_telemetry   select\n",
      "_codecs             blinker             jupyterhub          selectors\n",
      "_codecs_cn          brotli              jupyterlab          send2trash\n",
      "_codecs_hk          builtins            jupyterlab_git      setuptools\n",
      "_codecs_iso2022     bz2                 jupyterlab_iframe   shelve\n",
      "_codecs_jp          cProfile            jupyterlab_latex    shlex\n",
      "_codecs_kr          calendar            jupyterlab_pygments shutil\n",
      "_codecs_tw          certifi             jupyterlab_server   signal\n",
      "_collections        certipy             jwt                 site\n",
      "_collections_abc    cffi                keyword             six\n",
      "_compat_pickle      cgi                 kiwisolver          smmap\n",
      "_compression        cgitb               lib2to3             smtpd\n",
      "_contextvars        chardet             linecache           smtplib\n",
      "_crypt              chunk               locale              sndhdr\n",
      "_csv                cmath               logging             socket\n",
      "_ctypes             cmd                 lzma                socketserver\n",
      "_ctypes_test        code                macpath             socks\n",
      "_curses             codecs              mailbox             sockshandler\n",
      "_curses_panel       codeop              mailcap             spwd\n",
      "_datetime           collections         mako                sqlalchemy\n",
      "_decimal            colorama            markupsafe          sqlite3\n",
      "_distutils_hack     colorsys            marshal             sre_compile\n",
      "_dummy_thread       compileall          math                sre_constants\n",
      "_elementtree        concurrent          matplotlib          sre_parse\n",
      "_functools          conda               mimetypes           ssl\n",
      "_hashlib            conda_env           mistune             stat\n",
      "_heapq              conda_package_handling mmap                statistics\n",
      "_imp                configparser        modulefinder        storemagic\n",
      "_io                 contextlib          multiprocessing     string\n",
      "_json               contextvars         nbclient            stringprep\n",
      "_locale             copy                nbconvert           struct\n",
      "_lsprof             copyreg             nbdime              subprocess\n",
      "_lzma               crypt               nbformat            sunau\n",
      "_markupbase         cryptography        nbgitpuller         symbol\n",
      "_md5                csv                 nest_asyncio        sympyprinting\n",
      "_multibytecodec     ctypes              netrc               symtable\n",
      "_multiprocessing    curl                nis                 sys\n",
      "_opcode             curses              nntplib             sysconfig\n",
      "_operator           cycler              notebook            syslog\n",
      "_osx_support        cythonmagic         ntpath              tabnanny\n",
      "_pickle             dataclasses         nturl2path          tarfile\n",
      "_posixsubprocess    datetime            numbers             telnetlib\n",
      "_py_abc             dateutil            numpy               tempfile\n",
      "_pydecimal          dbm                 oauthlib            terminado\n",
      "_pyio               decimal             opcode              termios\n",
      "_pyrsistent_version decorator           operator            test\n",
      "_queue              defusedxml          optparse            test_data\n",
      "_random             difflib             os                  test_pycosat\n",
      "_ruamel_yaml        dis                 ossaudiodev         testpath\n",
      "_sha1               distutils           packaging           tests\n",
      "_sha256             doctest             pamela              textwrap\n",
      "_sha3               dummy_threading     pandas              this\n",
      "_sha512             easy_install        pandocfilters       threading\n",
      "_signal             editor              parser              time\n",
      "_sitebuiltins       email               parso               timeit\n",
      "_socket             encodings           pathlib             tkinter\n",
      "_sqlite3            ensurepip           pdb                 token\n",
      "_sre                entrypoints         pexpect             tokenize\n",
      "_ssl                enum                pickle              tornado\n",
      "_stat               errno               pickleshare         tqdm\n",
      "_string             faulthandler        pickletools         trace\n",
      "_strptime           fcntl               pip                 traceback\n",
      "_struct             filecmp             pipes               tracemalloc\n",
      "_symtable           fileinput           pkg_resources       traitlets\n",
      "_sysconfigdata_aarch64_conda_cos7_linux_gnu fnmatch             pkgutil             tty\n",
      "_sysconfigdata_aarch64_conda_linux_gnu formatter           platform            turtle\n",
      "_sysconfigdata_i686_conda_cos6_linux_gnu fractions           plistlib            turtledemo\n",
      "_sysconfigdata_i686_conda_linux_gnu ftplib              poplib              types\n",
      "_sysconfigdata_m_linux_x86_64-linux-gnu functools           posix               typing\n",
      "_sysconfigdata_powerpc64le_conda_cos7_linux_gnu gc                  posixpath           ujson\n",
      "_sysconfigdata_powerpc64le_conda_linux_gnu genericpath         pprint              unicodedata\n",
      "_sysconfigdata_x86_64_apple_darwin13_4_0 getopt              profile             unittest\n",
      "_sysconfigdata_x86_64_conda_cos6_linux_gnu getpass             prometheus_client   urllib\n",
      "_sysconfigdata_x86_64_conda_linux_gnu gettext             prompt_toolkit      urllib3\n",
      "_testbuffer         git                 pstats              uu\n",
      "_testcapi           gitdb               pty                 uuid\n",
      "_testimportmultiple glob                ptyprocess          venv\n",
      "_testmultiphase     grp                 pvectorc            warnings\n",
      "_thread             gzip                pwd                 wave\n",
      "_threading_local    hashlib             py_compile          wcwidth\n",
      "_tkinter            heapq               pyclbr              weakref\n",
      "_tracemalloc        hmac                pycosat             webbrowser\n",
      "_warnings           html                pycparser           webencodings\n",
      "_weakref            http                pycurl              wheel\n",
      "_weakrefset         idlelib             pydoc               widgetsnbextension\n",
      "_xxtestfuzz         idna                pydoc_data          wsgiref\n",
      "abc                 imaplib             pyexpat             xdrlib\n",
      "aifc                imghdr              pygments            xml\n",
      "alembic             imp                 pylab               xmlrpc\n",
      "antigravity         importlib           pyparsing           xxlimited\n",
      "argparse            importlib_metadata  pyrsistent          xxsubtype\n",
      "array               inspect             pythonjsonlogger    zipapp\n",
      "ast                 io                  pytz                zipfile\n",
      "async_generator     ipaddress           queue               zipimport\n",
      "asynchat            ipykernel           quopri              zipp\n",
      "asyncio             ipykernel_launcher  random              zlib\n",
      "asyncore            ipympl              re                  zmq\n",
      "atexit              ipython_genutils    readline            \n",
      "\n",
      "Enter any module name to get more help.  Or, type \"modules spam\" to search\n",
      "for modules whose name or summary contain the string \"spam\".\n",
      "\n"
     ]
    },
    {
     "name": "stderr",
     "output_type": "stream",
     "text": [
      "/opt/conda/lib/python3.7/pkgutil.py:107: VisibleDeprecationWarning: zmq.eventloop.minitornado is deprecated in pyzmq 14.0 and will be removed.\n",
      "    Install tornado itself to use zmq with the tornado IOLoop.\n",
      "    \n",
      "  yield from walk_packages(path, info.name+'.', onerror)\n"
     ]
    }
   ],
   "source": [
    "help(\"modules\")"
   ]
  },
  {
   "cell_type": "markdown",
   "metadata": {},
   "source": [
    "## RWTH Colors"
   ]
  },
  {
   "cell_type": "code",
   "execution_count": null,
   "metadata": {},
   "outputs": [],
   "source": [
    "from rwth_colors_matplotlib import *\n",
    "\n",
    "# adapted from https://matplotlib.org/2.0.0/examples/color/named_colors.html\n",
    "colors = rwth_colors;\n",
    "ncols = 5; nrows = len(colors.keys()) // ncols + 1;\n",
    "    \n",
    "fig, ax = plt.subplots()\n",
    "X, Y = fig.get_dpi() * fig.get_size_inches() # Get height and width\n",
    "w = X / ncols; h = Y / (nrows + 1)\n",
    "\n",
    "for i, name in enumerate(colors.keys()):\n",
    "    col = i % ncols\n",
    "    row = i // ncols\n",
    "    y = Y - (row * h) - h\n",
    "    \n",
    "    xi_line = w * (col + 0.05); xf_line = w * (col + 0.25); xi_text = w * (col + 0.3)\n",
    "    ax.text(xi_text, y, name, fontsize=10, horizontalalignment='left', verticalalignment='center')\n",
    "    ax.hlines(y + h * 0.1, xi_line, xf_line, color=colors[name], linewidth=(h * 0.6))\n",
    "    \n",
    "ax.set_xlim(0, X); ax.set_ylim(0, Y); ax.set_axis_off();\n",
    "fig.subplots_adjust(left=0, right=1, top=1, bottom=0, hspace=0, wspace=0)"
   ]
  },
  {
   "cell_type": "markdown",
   "metadata": {},
   "source": [
    "## Magic\n"
   ]
  },
  {
   "cell_type": "code",
   "execution_count": null,
   "metadata": {},
   "outputs": [],
   "source": [
    "%%svg\n",
    "\n",
    "<svg width='300px' height='300px'>\n",
    "\n",
    "<title>Small SVG example</title>\n",
    "\n",
    "<circle cx='120' cy='150' r='60' style='fill: gold;'>\n",
    " <animate attributeName='r' from='2' to='80' begin='0' \n",
    " dur='3' repeatCount='indefinite' /></circle>\n",
    "\n",
    "<polyline points='120 30, 25 150, 290 150' \n",
    " stroke-width='4' stroke='brown' style='fill: none;' />\n",
    "\n",
    "<polygon points='210 100, 210 200, 270 150' \n",
    " style='fill: lawngreen;' /> \n",
    "   \n",
    "<text x='60' y='250' fill='blue'>Hello, World!</text>\n",
    "\n",
    "</svg>"
   ]
  }
 ],
 "metadata": {
  "kernelspec": {
   "display_name": "Python 3",
   "language": "python",
   "name": "python3"
  },
  "language_info": {
   "codemirror_mode": {
    "name": "ipython",
    "version": 3
   },
   "file_extension": ".py",
   "mimetype": "text/x-python",
   "name": "python",
   "nbconvert_exporter": "python",
   "pygments_lexer": "ipython3",
   "version": "3.8.8"
  },
  "toc": {
   "base_numbering": 1,
   "nav_menu": {},
   "number_sections": true,
   "sideBar": true,
   "skip_h1_title": false,
   "title_cell": "Table of Contents",
   "title_sidebar": "Contents",
   "toc_cell": false,
   "toc_position": {},
   "toc_section_display": true,
   "toc_window_display": false
  }
 },
 "nbformat": 4,
 "nbformat_minor": 4
}
