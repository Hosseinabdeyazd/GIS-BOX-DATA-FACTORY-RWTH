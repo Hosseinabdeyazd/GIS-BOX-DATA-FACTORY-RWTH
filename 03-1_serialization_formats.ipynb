{
 "cells": [
  {
   "cell_type": "markdown",
   "metadata": {},
   "source": [
    "# Introduction to Serialization formats \n",
    "## JSON\n",
    "Let's talk about JSON - **J**ava**S**cript **O**bject **N**otation. It is a data-interchange format written in plain test. Furthermore, it is used to store and send data between computers (machine and human-readable) and therefore language independent.  \n",
    "The JSON format is similar to the code for creating JavaScript objects. Therefore, a JSON data can easily be converted into JavaScript objects by using a JavaScript program. But we are going to talk about JSON and Python."
   ]
  },
  {
   "cell_type": "markdown",
   "metadata": {},
   "source": [
    "There are a few packages in Python for working with JSON files, let us have a look at two of them.  \n",
    "\n",
    "1. One package is called [json](https://docs.python.org/3/library/json.html) \n",
    "2. Then there is [pandas](https://pandas.pydata.org/), you will see pandas can read a lot of formats, as it is a package specialized for data analysis. \n",
    "\n",
    "### JSON and package JSON \n",
    "The following code shows how to read a JSON file (to a dictionary) using Python package **JSON**:"
   ]
  },
  {
   "cell_type": "code",
   "execution_count": null,
   "metadata": {},
   "outputs": [],
   "source": [
    "#import JSON using the JSON package\n",
    "import json\n",
    "with open(r'./data/markante_bauw.json') as jsonFile:\n",
    "    jsonObject = json.load(jsonFile)\n",
    "    \n",
    "print(jsonObject)"
   ]
  },
  {
   "cell_type": "markdown",
   "metadata": {},
   "source": [
    "In the first code cell, we have loaded the JSON file with the python package JSON. In the following, we access specific information in this file. In this case, it is the *id*. Using the ID we get the first element which is *grillplaetze.1*."
   ]
  },
  {
   "cell_type": "code",
   "execution_count": null,
   "metadata": {},
   "outputs": [],
   "source": [
    "features = jsonObject['result']\n",
    "ids = jsonObject['result']['records']\n",
    "print(ids)"
   ]
  },
  {
   "cell_type": "markdown",
   "metadata": {},
   "source": [
    "You can convert Python to JSON. Python objects are converted into JSON as the following table shows:"
   ]
  },
  {
   "cell_type": "markdown",
   "metadata": {},
   "source": [
    "|Python    |JSON    |\n",
    "|:---      |    ---:|\n",
    "|dict      |Object  |\n",
    "|list      |Array   |\n",
    "|tuple     |Array   |\n",
    "|str       |String  |\n",
    "|int       |Number  |\n",
    "|float     |Number  |\n",
    "|True      |true    |\n",
    "|False     |false   |\n",
    "|None      |null    |"
   ]
  },
  {
   "cell_type": "code",
   "execution_count": null,
   "metadata": {},
   "outputs": [],
   "source": [
    "print(json.dumps({\"city\":\"Aachen\", \"Uni\":\"RWTHAachen\"}))\n",
    "print(json.dumps(True))\n",
    "print(json.dumps(42))"
   ]
  },
  {
   "cell_type": "code",
   "execution_count": null,
   "metadata": {},
   "outputs": [],
   "source": [
    "test = {\n",
    "    \"city\":\"Aachen\",\n",
    "    \"Uni\":\"RWTHAachen\"\n",
    "}\n",
    "new = json.dumps(test)\n",
    "print(new)"
   ]
  },
  {
   "cell_type": "markdown",
   "metadata": {},
   "source": [
    "### JSON and package pandas\n",
    "Another possibility to read a JSON file is offered by python **GeoPandas**. Here, the read information is transferred into a DataFrame. We print the first 10 rows of the DataFrame to the screen. The following code shows how to read a JSON file (to a DataFrame) using Python package **pandas**:"
   ]
  },
  {
   "cell_type": "code",
   "execution_count": null,
   "metadata": {},
   "outputs": [],
   "source": [
    "#import JSON using Pandas\n",
    "import pandas as pd\n",
    "#loading the file prepared in data\n",
    "grillpl = pd.read_json(r'./data/markante_bauw.json')\n",
    "grillpl.head(10)"
   ]
  },
  {
   "cell_type": "markdown",
   "metadata": {},
   "source": [
    "Let us take a look, how a JSON file open in a text editor looks in comparison to a DataFrame in pandas.  \n",
    "<div>\n",
    "<img src=\"./img/json_fig.png\" width=\"1000\"/>\n",
    "</div>"
   ]
  },
  {
   "cell_type": "markdown",
   "metadata": {},
   "source": [
    "When loading a JSON file, it is important to check the file itself. There is a connection between the files structure and the DataFrame. To get an idea of the connection, we provided a JSON file opened in a text editor and opened using Python Pandas.  \n",
    "One thing you will see, when turning to the geodata formats, is the difference between loading the files. For a normal JSON Pandas is absolute fine, but to meet the requirements of a GeoJSON, you will need GeoPandas. "
   ]
  },
  {
   "cell_type": "markdown",
   "metadata": {},
   "source": [
    "### Exercise\n",
    "Now it is your turn. Take the JSON file called \"markante_bauw.json\". Load the file and extract the building height and number of floors. After extracting the data, use the **mathplotlip** library and visualize your data in dependence as a graph. "
   ]
  },
  {
   "cell_type": "markdown",
   "metadata": {},
   "source": [
    "## CSV\n",
    "The CSV format (comma separated values) describes a text file for the exchange of structured data. As the name already says, the information is separated by a specific separator, mostly **;**. \n",
    "\n",
    "How to work with CSV in Python, well there are lots of possibilities: \n",
    "\n",
    "1. The already integrated [csv](https://docs.python.org/3/library/csv.html) module \n",
    "2. Another package you can use to read CSV files is [numpy](https://numpy.org/doc/stable/user/how-to-io.html?highlight=csv)\n",
    "3. The one we use here is [pandas](https://pandas.pydata.org/pandas-docs/stable/reference/api/pandas.read_csv.html)  \n",
    "\n",
    "So you see, we are not really bounded to a specific library, well at least not as long as we are using basic operations. SO let's have a look how to actually load a CSV file. If you load the file you, have got lots of options to add. To get an overview, have a look in the documentation. Run the following code to see what happens.\n",
    "\n",
    "### CSV and package CSV\n",
    "First, let us have a look, how to load a CSV file by using the Python package **csv**:"
   ]
  },
  {
   "cell_type": "code",
   "execution_count": null,
   "metadata": {},
   "outputs": [],
   "source": [
    "import csv"
   ]
  },
  {
   "cell_type": "code",
   "execution_count": null,
   "metadata": {},
   "outputs": [],
   "source": [
    "with open (r\"./data/bauwerksliste_aachen.csv\") as csv_file:\n",
    "    csv_reader = csv.reader(csv_file, delimiter=';')\n",
    "    for elem in csv_reader: \n",
    "        print(elem)"
   ]
  },
  {
   "cell_type": "markdown",
   "metadata": {},
   "source": [
    "### CSV and package pandas\n",
    "It is a little easier to load/ parse a CSV file by using Python package **pandas**. You just need one line of code and the Pandas method **.read_csv()**:"
   ]
  },
  {
   "cell_type": "code",
   "execution_count": null,
   "metadata": {},
   "outputs": [],
   "source": [
    "import pandas as pd\n",
    "import os\n",
    "import matplotlib.pyplot as plt \n",
    "bauwerk_ac = pd.read_csv(r\"./data/bauwerksliste_aachen.csv\", sep=';', engine='python')\n",
    "display(bauwerk_ac)"
   ]
  },
  {
   "cell_type": "markdown",
   "metadata": {},
   "source": [
    "Let us take a look, how a CSV file open in a text editor looks in comparison to a DataFrame in pandas.  \n",
    "<div>\n",
    "<img src=\"./img/csv_dataframe_show.png\" width=\"1250\"/>\n",
    "</div>"
   ]
  },
  {
   "cell_type": "markdown",
   "metadata": {},
   "source": [
    "In the following code cell, we access a specific group of rows and columns by label(s). Pythons pandas provide a method **.loc[ ]** to work with DataFrames. You could change the label from *Ort* to another headline."
   ]
  },
  {
   "cell_type": "code",
   "execution_count": null,
   "metadata": {},
   "outputs": [],
   "source": [
    "ort = bauwerk_ac.loc[:, 'Ort']\n",
    "bauwerksart = bauwerk_ac.loc[:, 'Bauwersart']\n",
    "print(bauwerksart)"
   ]
  },
  {
   "cell_type": "markdown",
   "metadata": {},
   "source": [
    "One piece of information can also be selected on the basis of another, e.g. buildings are selected on the basis of their associated location. Take a look at the following code cell, you could change the place from *Vetschau* to *Aachen* and see how the output will change."
   ]
  },
  {
   "cell_type": "code",
   "execution_count": null,
   "metadata": {},
   "outputs": [],
   "source": [
    "col = ['Ort', 'Bauwersart']\n",
    "new = bauwerk_ac[col]\n",
    "new_tab = new[new[\"Ort\"] == \"Aachen\"]\n",
    "print(new_tab)"
   ]
  },
  {
   "cell_type": "markdown",
   "metadata": {},
   "source": [
    "The code above not just load a CSV file, but does some slicing as well. If you change the print output to **Ort** you will get the output for the **Ort** column.  "
   ]
  },
  {
   "cell_type": "code",
   "execution_count": null,
   "metadata": {},
   "outputs": [],
   "source": [
    "ort = bauwerk_ac.loc[:, 'Ort']\n",
    "myset = set(ort)\n",
    "x = {}\n",
    "for elem in myset:\n",
    "    for i in ort:\n",
    "        if elem == i:\n",
    "            x[elem] = x.get(elem, 0)+1\n",
    "\n",
    "fig1, ax1 = plt.subplots()\n",
    "ax1.pie(x.values(), labels=x.keys(), autopct='%1.1f%%', startangle=90)\n",
    "ax1.axis('equal')\n",
    "plt.show()"
   ]
  },
  {
   "cell_type": "markdown",
   "metadata": {},
   "source": [
    "### Exercise\n",
    "1. Exercise \n",
    "The code above reads a CSV file and filters how often a place is called. This information is visualized in a diagram. The diagram can hardly be read, check out Matplotlip and try to visualize the output in different ways.\n",
    " \n",
    "2. Exercise \n",
    "Take the CSV file **bauwerksliste_aachen.csv** slice the file and extract information about building year just for buildings with \"Ort\" = Aachen."
   ]
  },
  {
   "cell_type": "markdown",
   "metadata": {},
   "source": [
    "## XML\n",
    "XML the Extensible Markup Language encodes documents in a format that is readable for human and machine. At least in theory, but you are welcome to try, and read an XML file containing above 10000 lines, there are much more interesting things to read. Anyway, XML files are a little harder to work with as they are based on the parent-child principle and contain **namespace**. \n",
    "\n",
    "As for the other two, there are a few XML modules in Python as well.  \n",
    "\n",
    "1. There is an integrated package called [xml](https://docs.python.org/3/library/xml.html)  \n",
    "2. The [ElementTree](https://docs.python.org/3/library/xml.etree.elementtree.html) package   \n",
    "3. **lxml** \"toolkit is a Pythonic binding for the C libraries libxml2 and libxslt\" and is actually compatible but superior to the ElementTree API. \n",
    "\n",
    "Well, let's move on and have a look at an XML in Python using *ElementTree*:"
   ]
  },
  {
   "cell_type": "code",
   "execution_count": null,
   "metadata": {},
   "outputs": [],
   "source": [
    "import xml.etree.ElementTree as ET"
   ]
  },
  {
   "cell_type": "code",
   "execution_count": null,
   "metadata": {},
   "outputs": [],
   "source": [
    "tree = ET.parse(\"./data/markante_bauw_wuppert.xml\")\n",
    "html = tree.getroot()\n",
    "html"
   ]
  },
  {
   "cell_type": "markdown",
   "metadata": {},
   "source": [
    "You just saw the output, and it hardly says anything about the information. Well, you need to understand the XML file and how it is set up. What you get when asking for the root element is exactly that, the very first element, every other element is indented and therefore a child element. Let us have a look at the actual XML file. Check, if you can find the output from above with the following part of the XML file, can you find it?"
   ]
  },
  {
   "cell_type": "raw",
   "metadata": {},
   "source": [
    "<?xml version=\"1.0\" encoding=\"UTF-8\"?>\n",
    "<csw:GetRecordsResponse xmlns:csw=\"http://www.opengis.net/cat/csw/2.0.2\" xmlns:xsi=\"http://www.w3.org/2001/XMLSchema-instance\" xsi:schemaLocation=\"http://www.opengis.net/cat/csw/2.0.2 http://schemas.opengis.net/csw/2.0.2/CSW-discovery.xsd\">\n",
    "  <csw:SearchStatus timestamp=\"2021-03-30T10:57:29\"/>\n",
    "  <csw:SearchResults numberOfRecordsMatched=\"1\" numberOfRecordsReturned=\"1\" elementSet=\"full\" nextRecord=\"0\">\n",
    "    <gmd:MD_Metadata xmlns:gmd=\"http://www.isotc211.org/2005/gmd\" xmlns:geonet=\"http://www.fao.org/geonetwork\" xsi:schemaLocation=\"http://www.isotc211.org/2005/gmd http://schemas.opengis.net/iso/19139/20060504/gmd/gmd.xsd http://www.isotc211.org/2005/gmx http://schemas.opengis.net/iso/19139/20060504/gmx/gmx.xsd http://www.isotc211.org/2005/srv http://schemas.opengis.net/iso/19139/20060504/srv/srv.xsd\">\n",
    "      <gmd:fileIdentifier>\n",
    "        <gco:CharacterString xmlns:gco=\"http://www.isotc211.org/2005/gco\">fa505762-4d34-4c73-a1c4-a99b93f98516</gco:CharacterString>\n",
    "      </gmd:fileIdentifier>\n",
    "      <gmd:language>\n",
    "        <LanguageCode xmlns=\"http://www.isotc211.org/2005/gmd\" codeList=\"http://www.loc.gov/standards/iso639-2/\" codeListValue=\"ger\"/>\n",
    "      </gmd:language>\n",
    "      <gmd:characterSet>\n",
    "        <MD_CharacterSetCode xmlns=\"http://www.isotc211.org/2005/gmd\" codeList=\"https://standards.iso.org/iso/19139/resources/gmxCodelists.xml#MD_CharacterSetCode\" codeListValue=\"utf8\"/>\n",
    "      </gmd:characterSet>\n",
    "      <gmd:hierarchyLevel>\n",
    "        <MD_ScopeCode xmlns=\"http://www.isotc211.org/2005/gmd\" codeList=\"https://standards.iso.org/iso/19139/resources/gmxCodelists.xml#MD_ScopeCode\" codeListValue=\"dataset\"/>\n",
    "      </gmd:hierarchyLevel>\n",
    "      <gmd:hierarchyLevelName>\n",
    "        <gco:CharacterString xmlns:gco=\"http://www.isotc211.org/2005/gco\">stadt_wuppertal</gco:CharacterString>\n",
    "      </gmd:hierarchyLevelName>\n",
    "      <gmd:contact>\n",
    "        <gmd:CI_ResponsibleParty>\n",
    "          <gmd:individualName>\n",
    "            <gco:CharacterString xmlns:gco=\"http://www.isotc211.org/2005/gco\">Tanja Verstege</gco:CharacterString>\n",
    "          </gmd:individualName>\n",
    "          <gmd:organisationName>\n",
    "            <gco:CharacterString xmlns:gco=\"http://www.isotc211.org/2005/gco\">Stadt Wuppertal</gco:CharacterString>\n",
    "          </gmd:organisationName>\n",
    "          <gmd:positionName>\n",
    "            <gco:CharacterString xmlns:gco=\"http://www.isotc211.org/2005/gco\">Ressort 102 Vermessung, Katasteramt und Geodaten</gco:CharacterString>\n",
    "          </gmd:positionName>\n",
    "          <gmd:contactInfo>\n",
    "            <gmd:CI_Contact>\n",
    "              <gmd:phone>\n",
    "                <gmd:CI_Telephone>\n",
    "                  <gmd:voice>\n",
    "                    <gco:CharacterString xmlns:gco=\"http://www.isotc211.org/2005/gco\">+49-202-563-7287</gco:CharacterString>\n",
    "                  </gmd:voice>\n",
    "                  <gmd:facsimile>\n",
    "                    <gco:CharacterString xmlns:gco=\"http://www.isotc211.org/2005/gco\">+49-202-563-8044</gco:CharacterString>\n",
    "                  </gmd:facsimile>\n",
    "                </gmd:CI_Telephone>\n",
    "              </gmd:phone>"
   ]
  },
  {
   "cell_type": "markdown",
   "metadata": {},
   "source": [
    "Let us use some methods to get specific information. What you see in the curly braces is the namespace, the word afterwards is the first tag's name, compare with the example part above."
   ]
  },
  {
   "cell_type": "code",
   "execution_count": null,
   "metadata": {},
   "outputs": [],
   "source": [
    "html.tag"
   ]
  },
  {
   "cell_type": "code",
   "execution_count": null,
   "metadata": {},
   "outputs": [],
   "source": [
    "for elem in html:\n",
    "    print(elem.tag, elem.attrib)"
   ]
  },
  {
   "cell_type": "markdown",
   "metadata": {},
   "source": [
    "If you want to get some specific value out of that XML file, and you do not want to dog through the child elements, use the *.findall* method and the right tag names. That can be tricky, so the best thing to do is, take the XML file and open it using a good text editor (Visual Studio Code or Notebad++) and read it. Yes, an XML file is meant to be read by humans, so if you are board, feel free to try. Usually nobody wants to read a few thousand lines of XML, but you need to get an idea about how it is structured to use it in Python.  \n",
    "What we do next is we extract a specific coordinate value."
   ]
  },
  {
   "cell_type": "code",
   "execution_count": null,
   "metadata": {},
   "outputs": [],
   "source": [
    "#Namespace\n",
    "ns = {\"gmd\": \"http://www.isotc211.org/2005/gmd\", \"gco\": \"http://www.isotc211.org/2005/gco\", \"csw\" : \"http://www.opengis.net/cat/csw/2.0.2\"}\n",
    "#Getting value of bounding box\n",
    "for child in html.findall(\".//gmd:EX_GeographicBoundingBox\", namespaces = ns):\n",
    "    point = child.find('./gmd:westBoundLongitude/gco:Decimal', namespaces = ns).text\n",
    "    print(point)"
   ]
  },
  {
   "cell_type": "markdown",
   "metadata": {},
   "source": [
    "### Exercise\n",
    "1. Exercise \n",
    "Try to get a list of the buildings mentioned in this XML file by using ElementTree. It is possible, that you will have to open the XML and read through it. \n",
    "2. Exercise  \n",
    "Try to write an XML file yourself. We already had a file with museums in Düsseldorf, let's create one for Aachen. Search the museums and add for each of them a little summary of their focus.  \n",
    "\n",
    "# Resaving files\n",
    "A loaded and parsed file does not necessarily have to stay in it initial format. The DataFrame or GeoDataFrame format allows resaving the data in a different format. Let us take a look at an example."
   ]
  },
  {
   "cell_type": "code",
   "execution_count": null,
   "metadata": {},
   "outputs": [],
   "source": [
    "import geopandas as gpd\n",
    "example_shape = gpd.read_file(\"./data/aachen/StatistischeBezirkeAachen.shp\")\n",
    "example_shape.head()"
   ]
  },
  {
   "cell_type": "code",
   "execution_count": null,
   "metadata": {},
   "outputs": [],
   "source": [
    "example_shape.to_csv('example_csv.csv')"
   ]
  },
  {
   "cell_type": "code",
   "execution_count": null,
   "metadata": {},
   "outputs": [],
   "source": [
    "import pandas as pd\n",
    "bauwerk_ac = pd.read_csv(r\"./data/bauwerksliste_aachen.csv\", sep=';', engine='python')\n",
    "display(bauwerk_ac)"
   ]
  },
  {
   "cell_type": "code",
   "execution_count": null,
   "metadata": {},
   "outputs": [],
   "source": [
    "bauwerk_ac.to_json('example_json.json')"
   ]
  }
 ],
 "metadata": {
  "kernelspec": {
   "display_name": "Python 3 (ipykernel)",
   "language": "python",
   "name": "python3"
  },
  "language_info": {
   "codemirror_mode": {
    "name": "ipython",
    "version": 3
   },
   "file_extension": ".py",
   "mimetype": "text/x-python",
   "name": "python",
   "nbconvert_exporter": "python",
   "pygments_lexer": "ipython3",
   "version": "3.9.7"
  },
  "toc": {
   "base_numbering": 1,
   "nav_menu": {},
   "number_sections": true,
   "sideBar": true,
   "skip_h1_title": false,
   "title_cell": "Table of Contents",
   "title_sidebar": "Contents",
   "toc_cell": true,
   "toc_position": {
    "height": "668.717px",
    "left": "940px",
    "top": "171.133px",
    "width": "165px"
   },
   "toc_section_display": true,
   "toc_window_display": true
  }
 },
 "nbformat": 4,
 "nbformat_minor": 4
}
