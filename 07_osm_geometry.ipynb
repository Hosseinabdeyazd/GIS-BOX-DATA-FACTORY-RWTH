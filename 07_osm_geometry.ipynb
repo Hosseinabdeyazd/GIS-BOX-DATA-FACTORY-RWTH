{
 "cells": [
  {
   "cell_type": "markdown",
   "metadata": {},
   "source": [
    "# Open Street Map - *Geometry*\n",
    "Geometry is an important aspect for OSM data, because this is actually something you can get here by using different query strategies.\n",
    "There are 3D OSM geometries, however in this course we only focus on 0D, 1D and 2D geometries, which should be enough content.\n",
    "\n",
    "So let us go through them - what is what:\n",
    "- 0-D geometry is a point (represented by a 3-D coordinate (x, y, z))\n",
    "- 1-D geometries are curves or lines (Having a start and an end coordinate)\n",
    "- 2-D geometries (typically called *regions*, *polygons* or *surfaces*) are continuos connected 2-D point sets, delimited by curves (that is why you have to provide the first point of a polygon in GeoJSON again at the end)\n",
    "- 3-D geometries are spatial objects such as buildings, they are not flat any more. Mathematically they are described by rigid bodies (a bounded, regular and semi-analytical subset of $R^3$). There are different schemas to represent solids, however the most common one used in GIS is boundary representation.\n",
    "\n",
    "Even though I also mentioned 3-D geometries (for the sake of completeness) we are only looking into points, lines, and polygons. When we use *OSMnx* methods and functions for querying OSM data, take a look at the methods and functions naming, you will see the name already reveals what sort of data we are querying.\n",
    "\n",
    "Using this geometry data we can create nice maps as for example a street network or a figure ground plan.\n",
    "\n",
    "Before we get started, we need to import the necessary libraries."
   ]
  },
  {
   "cell_type": "code",
   "execution_count": null,
   "metadata": {
    "colab": {
     "base_uri": "https://localhost:8080/",
     "height": 36
    },
    "id": "2m-iCjdYLuei",
    "outputId": "b344ac5e-94de-4725-c2a3-e9cbfda32f7c"
   },
   "outputs": [],
   "source": [
    "import osmnx as ox\n",
    "from IPython.display import Image\n",
    "\n",
    "%matplotlib inline\n",
    "ox.config(log_console=True)\n",
    "ox.__version__"
   ]
  },
  {
   "cell_type": "markdown",
   "metadata": {},
   "source": [
    "## Plot Aachen street network type\n",
    "OpenStreetMap's data are useful to study urban form, networks, resilience, and accessibility. [Street network](https://geoffboeing.com/2017/04/urban-form-analysis-openstreetmap/) data especially when holding these cities at the same scale providing spatial objectivity in comparing urban forms. Comparing the following city networks (all cities a part of the rheinisch mining area) show essential differences and outline their uniqueness. \n",
    "\n",
    "![Street_Network](./img/streetNetwork.png)  \n",
    "\n",
    "For the first plot we need to define the dpi, the size (make sure it is not too big, or it may take some time to be plotted) and of course a place. These are essential inputs for the plot_figure_ground method. But the map is not just visualized as the output here, but also saved as **aachen.png**. If parameters are unclear or unknown, have a look at the documentation, every parameter is described there."
   ]
  },
  {
   "cell_type": "code",
   "execution_count": null,
   "metadata": {
    "id": "JYb5580bMJWf",
    "scrolled": true
   },
   "outputs": [],
   "source": [
    "#Setting values for parameters\n",
    "dpi=72\n",
    "#By default this is in meters\n",
    "size=600\n",
    "place = \"Aachen, Germany\"\n",
    "fp = f\"./aachen.png\"\n",
    "#Querying OSM data using a city name\n",
    "fig, ax = ox.plot_figure_ground(\n",
    "    address=place,\n",
    "    network_type=\"walk\",\n",
    "    filepath=fp,\n",
    "    dpi=dpi,\n",
    "    save=True,\n",
    "    show=False,\n",
    "    close=True,\n",
    ")\n",
    "Image(fp, height=size, width=size)"
   ]
  },
  {
   "cell_type": "markdown",
   "metadata": {},
   "source": [
    "## Let us create a figure ground plan\n",
    "Next step, creating a figure ground plan of Aachen. Therefore, we first have to set a centre point, a distance, and a tag. The function creates a GeoDataFrame of OSM with a distance to N, S, W, E. The short form *gdf* stands for GeoDataFrame."
   ]
  },
  {
   "cell_type": "code",
   "execution_count": null,
   "metadata": {
    "id": "-bi4SAedbfYd"
   },
   "outputs": [],
   "source": [
    "#Defining required tags for quering OSM\n",
    "tags={\"building\":True}\n",
    "point = (50.775593, 6.082478)\n",
    "size = 500\n",
    "dist = 1000\n",
    "#OSMnx method geometries_from_point queryies OSM data using a point\n",
    "gdf = ox.geometries_from_point(point, tags, dist=dist)\n",
    "gdf_proj = ox.project_gdf(gdf)"
   ]
  },
  {
   "cell_type": "code",
   "execution_count": null,
   "metadata": {
    "colab": {
     "base_uri": "https://localhost:8080/",
     "height": 568
    },
    "id": "ZjEKTAqs9a56",
    "outputId": "be4bbfaf-bad6-44f0-e8eb-dbba0f5024d1"
   },
   "outputs": [],
   "source": [
    "gdf.head()"
   ]
  },
  {
   "cell_type": "markdown",
   "metadata": {},
   "source": [
    "The output shows, that in the column geometry polygons show up. The function plot_footprints takes these polygons to create the footprints of the buildings. The figure-ground diagrams are essential when representing the relationship between the build and unbuild space. The probably most known example is the **Nolli Map** of Rome."
   ]
  },
  {
   "cell_type": "code",
   "execution_count": null,
   "metadata": {
    "colab": {
     "base_uri": "https://localhost:8080/",
     "height": 517
    },
    "id": "fU-C2V-SzzUf",
    "outputId": "e72d2707-9e91-489e-e38d-1721a828d118"
   },
   "outputs": [],
   "source": [
    "#Quering OSM by using the defined point\n",
    "bbox = ox.utils_geo.bbox_from_point(point=point, dist=dist, project_utm=True)\n",
    "fp = f\"./aachen_schwarzplan.png\"\n",
    "#Generating figure ground plan \n",
    "fig, ax = ox.plot_footprints(\n",
    "    gdf_proj,\n",
    "    bbox=bbox,\n",
    "    bgcolor=\"white\",\n",
    "    color=\"black\",\n",
    "    filepath=fp,\n",
    "    dpi=300,\n",
    "    save=True,\n",
    "    show=False,\n",
    "    close=True,\n",
    ")\n",
    "Image(fp, height=size, width=size)"
   ]
  },
  {
   "cell_type": "code",
   "execution_count": null,
   "metadata": {},
   "outputs": [],
   "source": [
    "bbox"
   ]
  },
  {
   "cell_type": "markdown",
   "metadata": {},
   "source": [
    "### Exercise\n",
    "Create a figure ground plan for your hometown or a city by choice, choose a suitable size.\n",
    "\n",
    "## Further data filtering\n",
    "Next, we analyse our information by slicing the GeoDataFrame. We take out specific information of *amenity* and *building*. We also get the geolocation (coordinates) of two specific buildings in Aachen *Reiff museum* and *Aachen central station*."
   ]
  },
  {
   "cell_type": "code",
   "execution_count": null,
   "metadata": {},
   "outputs": [],
   "source": [
    "gdf.head()"
   ]
  },
  {
   "cell_type": "code",
   "execution_count": null,
   "metadata": {
    "colab": {
     "base_uri": "https://localhost:8080/"
    },
    "id": "W4UB0LCribhW",
    "outputId": "6b156044-f115-440c-baa4-324ffd7b928f"
   },
   "outputs": [],
   "source": [
    "#Extracting and reducing data from the DataFrame by slicing\n",
    "gdf['amenity'].unique()"
   ]
  },
  {
   "cell_type": "code",
   "execution_count": null,
   "metadata": {
    "colab": {
     "base_uri": "https://localhost:8080/",
     "height": 1000
    },
    "id": "IKiTrQAROEM4",
    "outputId": "a20621c5-9f2b-45ae-8808-1efc9f4c698b"
   },
   "outputs": [],
   "source": [
    "#Extracting all elements with amenity cafe\n",
    "gdf[gdf [\"amenity\"] == \"cafe\"].head()"
   ]
  },
  {
   "cell_type": "code",
   "execution_count": null,
   "metadata": {
    "colab": {
     "base_uri": "https://localhost:8080/"
    },
    "id": "04HnSUvdn6L3",
    "outputId": "aaec0aa9-5e1d-4fc9-f42e-fdf4bbd53b86"
   },
   "outputs": [],
   "source": [
    "#Extracting and reducing data from the DataFrame by slicing\n",
    "gdf['building'].unique()"
   ]
  },
  {
   "cell_type": "code",
   "execution_count": null,
   "metadata": {
    "colab": {
     "base_uri": "https://localhost:8080/",
     "height": 283
    },
    "id": "ohJlVivAn4hT",
    "outputId": "dfd2febe-b3f0-4b1b-e8c8-64d713513f6b"
   },
   "outputs": [],
   "source": [
    "#Extracting all elements which are university buildings\n",
    "gdf[gdf['building'] == \"university\"].plot()"
   ]
  },
  {
   "cell_type": "code",
   "execution_count": null,
   "metadata": {
    "id": "umNtoCiW3d6-"
   },
   "outputs": [],
   "source": [
    "#Quering the exact geopoint of the two places in Aachen\n",
    "reiff = ox.geocode(\"reiff museum aachen\")\n",
    "hbf = ox.geocode(\"Aachen Hauptbahnhof\")\n",
    "reiff"
   ]
  },
  {
   "cell_type": "code",
   "execution_count": null,
   "metadata": {
    "colab": {
     "base_uri": "https://localhost:8080/",
     "height": 205
    },
    "id": "v1GdFM0w4MsZ",
    "outputId": "b6a6fcb0-dded-4c0a-fc3c-e2302efeb707"
   },
   "outputs": [],
   "source": [
    "#Get the geometry from buildings in a distance of 100 around the first place\n",
    "rdf = ox.geometries_from_point(reiff, tags={\"building\":True},dist=100)\n",
    "rdf.head()"
   ]
  },
  {
   "cell_type": "code",
   "execution_count": null,
   "metadata": {
    "colab": {
     "base_uri": "https://localhost:8080/",
     "height": 276
    },
    "id": "YI66R5ui-w8x",
    "outputId": "f9e6aa19-ce6a-4170-ec07-53050d3ced4b"
   },
   "outputs": [],
   "source": [
    "fig = rdf.plot()"
   ]
  },
  {
   "cell_type": "markdown",
   "metadata": {},
   "source": [
    "### Exercise\n",
    "Add another path, for example, from the Aachen university hospital to the Aachen city hall. You are welcome to choose another path, but the map must be extended and for practise do not reuse *Reiff* and *Hbf*. Print both the existing and the new path in one map, use different colours. Hint: Checkout the OSMnx documentation for functions such as plot_graph_route().  "
   ]
  },
  {
   "cell_type": "code",
   "execution_count": null,
   "metadata": {},
   "outputs": [],
   "source": []
  }
 ],
 "metadata": {
  "colab": {
   "name": "Osmnx.ipynb",
   "provenance": [],
   "toc_visible": true
  },
  "kernelspec": {
   "display_name": "Python 3 (ipykernel)",
   "language": "python",
   "name": "python3"
  },
  "language_info": {
   "codemirror_mode": {
    "name": "ipython",
    "version": 3
   },
   "file_extension": ".py",
   "mimetype": "text/x-python",
   "name": "python",
   "nbconvert_exporter": "python",
   "pygments_lexer": "ipython3",
   "version": "3.9.7"
  },
  "toc": {
   "base_numbering": 1,
   "nav_menu": {},
   "number_sections": true,
   "sideBar": true,
   "skip_h1_title": false,
   "title_cell": "Table of Contents",
   "title_sidebar": "Contents",
   "toc_cell": false,
   "toc_position": {},
   "toc_section_display": true,
   "toc_window_display": false
  }
 },
 "nbformat": 4,
 "nbformat_minor": 4
}
