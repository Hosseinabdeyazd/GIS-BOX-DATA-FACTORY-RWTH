{
 "cells": [
  {
   "cell_type": "markdown",
   "metadata": {},
   "source": [
    "# Creating maps using OSM data"
   ]
  },
  {
   "cell_type": "markdown",
   "metadata": {},
   "source": [
    "Before we get started, we need to import the necessary libraries."
   ]
  },
  {
   "cell_type": "code",
   "execution_count": null,
   "metadata": {
    "colab": {
     "base_uri": "https://localhost:8080/",
     "height": 36
    },
    "id": "2m-iCjdYLuei",
    "outputId": "b344ac5e-94de-4725-c2a3-e9cbfda32f7c"
   },
   "outputs": [],
   "source": [
    "import osmnx as ox\n",
    "from IPython.display import Image\n",
    "\n",
    "%matplotlib inline\n",
    "ox.config(log_console=True)\n",
    "ox.__version__"
   ]
  },
  {
   "cell_type": "markdown",
   "metadata": {},
   "source": [
    "## Plot Aachen street network type\n",
    "OpenStreetMap's data are useful to study urban form, networks, resilience and accessibility. [Street network](https://geoffboeing.com/2017/04/urban-form-analysis-openstreetmap/) data especially when holding these cities at the same scale providing spatial objectivity in comparing urban forms. Comparing the following city networks (all cities a part of the rheinisch revier) show essential differences and outline, the differences and their uniqueness ![Street_Network](./img/streetNetwork.png).  "
   ]
  },
  {
   "cell_type": "markdown",
   "metadata": {},
   "source": [
    "For the first plot we need to define the dpi, the size (make sure it is not too big, or it may take some time to be plotted) and of course a place. These are essential inputs for the plot_figure_ground method. But the map is not just visualized as the output here but also saved as **aachen.png**. If parameters are unclear or unknown, have a look at the documentation, every parameter is described there."
   ]
  },
  {
   "cell_type": "code",
   "execution_count": null,
   "metadata": {
    "id": "JYb5580bMJWf",
    "scrolled": true
   },
   "outputs": [],
   "source": [
    "dpi=72\n",
    "size=600\n",
    "place = \"Aachen, Germany\"\n",
    "fp = f\"./aachen.png\"\n",
    "fig, ax = ox.plot_figure_ground(\n",
    "    address=place,\n",
    "    network_type=\"walk\",\n",
    "    filepath=fp,\n",
    "    dpi=dpi,\n",
    "    save=True,\n",
    "    show=False,\n",
    "    close=True,\n",
    ")\n",
    "Image(fp, height=size, width=size)"
   ]
  },
  {
   "cell_type": "markdown",
   "metadata": {},
   "source": [
    "## Let us create a figure ground plan\n",
    "Next step, creating a figure ground plan of Aachen. Therefore, we first have to set a centre point, a distance and a tag. The function creates a GeoDataFrame of OSM with a distance to N, S, W, E. The short form gdf stands for GeoDataFrame."
   ]
  },
  {
   "cell_type": "code",
   "execution_count": null,
   "metadata": {
    "id": "-bi4SAedbfYd"
   },
   "outputs": [],
   "source": [
    "tags={\"building\":True}\n",
    "point = (50.775593, 6.082478)\n",
    "size=500\n",
    "dist = 1000\n",
    "gdf = ox.geometries_from_point(point, tags, dist=dist)\n",
    "gdf_proj = ox.project_gdf(gdf)\n"
   ]
  },
  {
   "cell_type": "code",
   "execution_count": null,
   "metadata": {
    "colab": {
     "base_uri": "https://localhost:8080/",
     "height": 568
    },
    "id": "ZjEKTAqs9a56",
    "outputId": "be4bbfaf-bad6-44f0-e8eb-dbba0f5024d1"
   },
   "outputs": [],
   "source": [
    "gdf.head()"
   ]
  },
  {
   "cell_type": "markdown",
   "metadata": {},
   "source": [
    "The output shows, that in the column geometry polygons show up. The function plot_footprints takes these polygons to create the footprints of the buildings. The figure-ground diagrams are essential when representing the relationship between the build and unbuild space. The probably most known example is the **Nolli Map** of Rome."
   ]
  },
  {
   "cell_type": "code",
   "execution_count": null,
   "metadata": {
    "colab": {
     "base_uri": "https://localhost:8080/",
     "height": 517
    },
    "id": "fU-C2V-SzzUf",
    "outputId": "e72d2707-9e91-489e-e38d-1721a828d118"
   },
   "outputs": [],
   "source": [
    "bbox = ox.utils_geo.bbox_from_point(point=point, dist=dist, project_utm=True)\n",
    "fp = f\"./aachen_schwarzplan.png\"\n",
    "fig, ax = ox.plot_footprints(\n",
    "    gdf_proj,\n",
    "    bbox=bbox,\n",
    "    bgcolor=\"white\",\n",
    "    color=\"black\",\n",
    "    filepath=fp,\n",
    "    dpi=300,\n",
    "    save=True,\n",
    "    show=False,\n",
    "    close=True,\n",
    ")\n",
    "Image(fp, height=size, width=size)"
   ]
  },
  {
   "cell_type": "markdown",
   "metadata": {},
   "source": [
    "### Exercise\n",
    "Create a figure ground plan for your hometown or a city by choice, choose a suitable size.\n",
    "\n",
    "## Analysing information \n",
    "Information as GeoDataFrame are Next we do slice the GeoDataFrame for extracting information. Let us print the Table again and decide for what t"
   ]
  },
  {
   "cell_type": "code",
   "execution_count": null,
   "metadata": {},
   "outputs": [],
   "source": [
    "gdf.head()"
   ]
  },
  {
   "cell_type": "code",
   "execution_count": null,
   "metadata": {
    "colab": {
     "base_uri": "https://localhost:8080/"
    },
    "id": "W4UB0LCribhW",
    "outputId": "6b156044-f115-440c-baa4-324ffd7b928f"
   },
   "outputs": [],
   "source": [
    "gdf['amenity'].unique()"
   ]
  },
  {
   "cell_type": "code",
   "execution_count": null,
   "metadata": {
    "colab": {
     "base_uri": "https://localhost:8080/",
     "height": 1000
    },
    "id": "IKiTrQAROEM4",
    "outputId": "a20621c5-9f2b-45ae-8808-1efc9f4c698b"
   },
   "outputs": [],
   "source": [
    "gdf[gdf [\"amenity\"] == \"cafe\"].head()"
   ]
  },
  {
   "cell_type": "code",
   "execution_count": null,
   "metadata": {
    "colab": {
     "base_uri": "https://localhost:8080/"
    },
    "id": "04HnSUvdn6L3",
    "outputId": "aaec0aa9-5e1d-4fc9-f42e-fdf4bbd53b86"
   },
   "outputs": [],
   "source": [
    "gdf['building'].unique()"
   ]
  },
  {
   "cell_type": "code",
   "execution_count": null,
   "metadata": {
    "colab": {
     "base_uri": "https://localhost:8080/",
     "height": 283
    },
    "id": "ohJlVivAn4hT",
    "outputId": "dfd2febe-b3f0-4b1b-e8c8-64d713513f6b"
   },
   "outputs": [],
   "source": [
    "gdf[gdf['building'] == \"university\"].plot()"
   ]
  },
  {
   "cell_type": "code",
   "execution_count": null,
   "metadata": {
    "id": "umNtoCiW3d6-"
   },
   "outputs": [],
   "source": [
    "reiff = ox.geocode(\"reiff museum aachen\")\n",
    "hbf = ox.geocode(\"Aachen Hauptbahnhof\")\n"
   ]
  },
  {
   "cell_type": "code",
   "execution_count": null,
   "metadata": {
    "colab": {
     "base_uri": "https://localhost:8080/",
     "height": 205
    },
    "id": "v1GdFM0w4MsZ",
    "outputId": "b6a6fcb0-dded-4c0a-fc3c-e2302efeb707"
   },
   "outputs": [],
   "source": [
    "rdf = ox.geometries_from_point(reiff, tags={\"building\":True},dist=100)\n",
    "rdf.head()\n"
   ]
  },
  {
   "cell_type": "code",
   "execution_count": null,
   "metadata": {
    "colab": {
     "base_uri": "https://localhost:8080/",
     "height": 276
    },
    "id": "YI66R5ui-w8x",
    "outputId": "f9e6aa19-ce6a-4170-ec07-53050d3ced4b"
   },
   "outputs": [],
   "source": [
    "fig = rdf.plot()"
   ]
  },
  {
   "cell_type": "markdown",
   "metadata": {},
   "source": [
    "## Let us work with graphs\n",
    "Spatial graphs can be traceable to a mathematical concept. A mathematical graph is composed of **nodes** which are linked by **edges**. Therefore, nodes can represent geographic places with specific locations and edges represent connecting paths. The composition is needed to analyse structures, such as the following example of path calculation shows."
   ]
  },
  {
   "cell_type": "code",
   "execution_count": null,
   "metadata": {
    "id": "BElApK9aoTOh"
   },
   "outputs": [],
   "source": [
    "# attention, getting the whole of Aachen takes many minutes, we will get the inner city only\n",
    "#G = ox.graph_from_place(\"Aachen, Germany\", network_type=\"walk\")\n",
    "G = ox.graph_from_point(point, dist=500, network_type=\"bike\")\n"
   ]
  },
  {
   "cell_type": "code",
   "execution_count": null,
   "metadata": {
    "id": "sD1sbDed2Mxt"
   },
   "outputs": [],
   "source": [
    "ax, fig = ox.plot_graph(G, node_color='b', node_zorder=3, bgcolor='#FFFFFF')"
   ]
  },
  {
   "cell_type": "markdown",
   "metadata": {},
   "source": [
    "In the following we are going to plot the shortest path between a start and an end point. There is one issue the actual train station is not part of the map itself, so the closest point to the train station is chosen. If you pick two nodes, then the shortest path between those two can be found, using weight = \"length\". One-way streets are correctly handled. "
   ]
  },
  {
   "cell_type": "code",
   "execution_count": null,
   "metadata": {},
   "outputs": [],
   "source": [
    "start = ox.nearest_nodes(G, reiff[1], reiff[0])\n",
    "dest  = ox.nearest_nodes(G, hbf[1], hbf[0])"
   ]
  },
  {
   "cell_type": "markdown",
   "metadata": {},
   "source": [
    "The shortes_path() function comes from the NetworX library. If the weight parameter of this function is specified the Dijkstra's algorithm is used to find the optimal route. This algorithm belongs to the class of Greedy algorithms. In graph theory these are used to solve optimiztion problems such as finding the shortest path. "
   ]
  },
  {
   "cell_type": "code",
   "execution_count": null,
   "metadata": {},
   "outputs": [],
   "source": [
    "route = ox.shortest_path(G, start, dest)\n",
    "ox.plot_graph_route(G, route)"
   ]
  },
  {
   "cell_type": "markdown",
   "metadata": {},
   "source": [
    "## Saving graphs\n",
    "Sometimes one need this picture printed as PNG or JPG or a more geo related file such as GeoPackage."
   ]
  },
  {
   "cell_type": "code",
   "execution_count": null,
   "metadata": {},
   "outputs": [],
   "source": [
    "ox.save_graph_geopackage(G, filepath=\"mynetwork.gpkg\")"
   ]
  },
  {
   "cell_type": "markdown",
   "metadata": {},
   "source": [
    "Other times you may need your graphs to be able to load in for example illustrator and therefore saved as **svg** file. When running the code below, a new file will show up in your file structure, called mynetwork.svg."
   ]
  },
  {
   "cell_type": "code",
   "execution_count": null,
   "metadata": {},
   "outputs": [],
   "source": [
    "ox.plot_graph_route(G, route, node_color='b', node_zorder=3, bgcolor='#FFFFFF', show=False, save=True, filepath='./mynetwork.svg')"
   ]
  },
  {
   "cell_type": "markdown",
   "metadata": {},
   "source": [
    "### Exercise\n",
    "Add another path, for example from the Aachen university hospital to the Aachen city hall. You are welcome to choose another path, but the map must be extended and for practise do not reuse Reiff and Hbf. Print both the existing and the new path in one map use different colours. Hint: Checkout the OSMnx documentation for functions such as plot_graph_route().  "
   ]
  }
 ],
 "metadata": {
  "colab": {
   "name": "Osmnx.ipynb",
   "provenance": [],
   "toc_visible": true
  },
  "kernelspec": {
   "display_name": "Python 3",
   "language": "python",
   "name": "python3"
  },
  "language_info": {
   "codemirror_mode": {
    "name": "ipython",
    "version": 3
   },
   "file_extension": ".py",
   "mimetype": "text/x-python",
   "name": "python",
   "nbconvert_exporter": "python",
   "pygments_lexer": "ipython3",
   "version": "3.8.8"
  },
  "toc": {
   "base_numbering": 1,
   "nav_menu": {},
   "number_sections": true,
   "sideBar": true,
   "skip_h1_title": false,
   "title_cell": "Table of Contents",
   "title_sidebar": "Contents",
   "toc_cell": false,
   "toc_position": {},
   "toc_section_display": true,
   "toc_window_display": false
  }
 },
 "nbformat": 4,
 "nbformat_minor": 4
}
