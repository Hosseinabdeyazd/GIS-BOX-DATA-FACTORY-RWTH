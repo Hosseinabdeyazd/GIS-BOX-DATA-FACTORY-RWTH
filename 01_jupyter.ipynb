{
 "cells": [
  {
   "cell_type": "markdown",
   "metadata": {},
   "source": [
    "# Introduction\n",
    "\n",
    "Hi there, this Jupyter Notebook is for you to learn interactive basics of Python programming and analysing geospatial data. You are welcome to change, manipulate or add code and keep your notebook running. There are a few exercises distributed over the notebooks for you to deal with. We recommand doing them, as they help you to practise and develop a better understanding. Additionally, they can support your preparation for the final exam. We provided lots of links for you to get further information, but feel free to do research on your own.  \n",
    "If you want to use Jupyter Notebook on your own computer, take a look at the *README.md* file.\n",
    "\n",
    "**Important**: *RWTH Jupyter Hub is not always online, sometimes there is maintenance work, for example. To store your data securely, you can create backups by downloading the notebooks regularly.*\n"
   ]
  },
  {
   "cell_type": "markdown",
   "metadata": {},
   "source": [
    "# Jupyter Notebooks and JupyterLab\n",
    "\n",
    "The Project Jupyter is a non-profit organization providing interactive working with lots of different programming languages based on open standards. What we are using here is a Jupyter Notebook, but there further exists JupyterLab and JupyterHub. This is an interactive environment, containing different cells (in- and output) for code, text or plots, to capture the hole process:\n",
    "* Developing\n",
    "* Documenting\n",
    "* Executing\n",
    "  \n",
    "For more information, use the [official website](https://jupyter.org/).\n",
    "JupyterLab is an improved, web-based interface for Project Jupyter."
   ]
  },
  {
   "cell_type": "markdown",
   "metadata": {},
   "source": [
    "## Jupyter Notebook\n",
    "### Markdown cell\n",
    "There are cells containing **Markdown markup language** such as this one here, furthermore text cells can therefore handle **Latex** notation. \n",
    "This is a Markdown cell. \n",
    "You can write and format text here.  \n",
    " \n",
    "### Headlines by using **#** symbol   \n",
    "\n",
    "### Images \n",
    "Load images by the following notation (example **Rheinisch mining area**):\n",
    "![RheinischMiningArea](./img/rheinisches-revier-neu.jpg)\n",
    "\n",
    "### Further information \n",
    "For further interest in Markdown language here the official [GitHub webpage](https://docs.github.com/en/github/writing-on-github/basic-writing-and-formatting-syntax). \n",
    "\n",
    "### Code cell"
   ]
  },
  {
   "cell_type": "code",
   "execution_count": null,
   "metadata": {},
   "outputs": [],
   "source": [
    "print (\"I am a Python!\")"
   ]
  },
  {
   "cell_type": "markdown",
   "metadata": {},
   "source": [
    "## JupyterLab\n",
    "Jupyter Lab is an interface to the Jupyter ecosystem. Here are several tools available, all covert by a user-friendly interface. The interface here is what you see, when being logged in to RWTHJupyterHub:\n",
    "\n",
    "![JupyterLab](./img/JupyterLab.png)\n",
    "\n",
    "The green marked area is a menu bar, that allows us to open, create and interact with files. Furthermore, one can modify and work with JupyterLab. The red marked area is where all your loaded files and projects are structured and displayed. There are many tabs, by default the file browser with the folder from where the session has been launched. Finally, the blue area, is the start page and your main window. Here, one can choose by default what to create and open first. One can open as many windows as needed, the workspace is designed to be flexible in use. Notebooks, consoles, terminals, and text files are displayed here for editing.\n",
    "\n",
    "## JupyterHub\n",
    "JupyterHub offers the possibility to make Jupyter Notebooks available for multiple user. It is called a multi-user-hub, that manages multiple instances of the single-user Jupyter Notebook server.  \n",
    "\n",
    "So, take a look at the following picture to see how it works. The HTTP Proxy receives requests from the clients browser and pass it to the Hub and the single user notebook server. As you can probably tell by the name the Hub is the heart of JupyterHub, it manages authentication, the user database and a spawner. For every user, a dedicated single user Jupyter Notebook server in started on the system when logging in. The hub object, that starts a single-user notebook server, is the spawner.\n",
    "<div>\n",
    "<img src=\"./img/jupyterhub.png\" width=\"500\"/>\n",
    "</div>"
   ]
  },
  {
   "cell_type": "markdown",
   "metadata": {},
   "source": [
    "# IPython\n",
    "Let us get to [IPython](https://ipython.org/). IPython is a command prompt for interactive computing developed by Fernando Perez, for the Python programming language. The **I** in IPython stands for **Interactive**, a command shell for interactive computing. So, IPython is not just an extension to the Python Shell, but a whole package containing all you need for developing and running Python programs. Therefore, some extensions for friendly use also implemented.  \n",
    "\n",
    "## ? for help and ?? for full source.\n",
    "\n",
    "First getting help. You use one **?** after the object you require help with, a documentation will be the output. Run the code below (yes, even just a question mark is some sort of code) and see what will happen.  \n",
    "Using two **??** displays to you the full source.  "
   ]
  },
  {
   "cell_type": "code",
   "execution_count": null,
   "metadata": {},
   "outputs": [],
   "source": [
    "?"
   ]
  },
  {
   "cell_type": "code",
   "execution_count": null,
   "metadata": {},
   "outputs": [],
   "source": [
    "import os\n",
    "os??"
   ]
  },
  {
   "cell_type": "markdown",
   "metadata": {},
   "source": [
    "## Searching for function\n",
    "If you are not sure about the function, and you just know a part of it, try the following code you will see, using * and question mark helps. IPython gives you everything containing your string input."
   ]
  },
  {
   "cell_type": "code",
   "execution_count": null,
   "metadata": {},
   "outputs": [],
   "source": [
    "*int*?"
   ]
  },
  {
   "cell_type": "markdown",
   "metadata": {},
   "source": [
    "## Tab completion\n",
    "Furthermore, there is **tab completion**. When typing something, IPython provides possible examples for a completion, either use or ignore them.  "
   ]
  },
  {
   "cell_type": "markdown",
   "metadata": {},
   "source": [
    "## Magic functions\n",
    "\n",
    "Well, there are magic functions (do not mix them up with the underscore functions in Python). They can make things easier and be of help, well only if you know how to use them. In generally, there are two sorts of magic functions, one is called by one % and called **line magic function**, the other one is called by two % and called **cell magic function**."
   ]
  },
  {
   "cell_type": "code",
   "execution_count": null,
   "metadata": {},
   "outputs": [],
   "source": [
    "%quickref"
   ]
  }
 ],
 "metadata": {
  "kernelspec": {
   "display_name": "Python 3 (ipykernel)",
   "language": "python",
   "name": "python3"
  },
  "language_info": {
   "codemirror_mode": {
    "name": "ipython",
    "version": 3
   },
   "file_extension": ".py",
   "mimetype": "text/x-python",
   "name": "python",
   "nbconvert_exporter": "python",
   "pygments_lexer": "ipython3",
   "version": "3.9.7"
  },
  "toc": {
   "base_numbering": 1,
   "nav_menu": {},
   "number_sections": true,
   "sideBar": true,
   "skip_h1_title": false,
   "title_cell": "Table of Contents",
   "title_sidebar": "Contents",
   "toc_cell": true,
   "toc_position": {
    "height": "668.717px",
    "left": "940px",
    "top": "171.133px",
    "width": "347.033px"
   },
   "toc_section_display": true,
   "toc_window_display": true
  }
 },
 "nbformat": 4,
 "nbformat_minor": 4
}
