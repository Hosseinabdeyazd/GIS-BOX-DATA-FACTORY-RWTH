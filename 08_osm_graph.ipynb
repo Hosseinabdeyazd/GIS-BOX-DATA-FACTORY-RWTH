{
 "cells": [
  {
   "cell_type": "markdown",
   "metadata": {},
   "source": [
    "# Open Street Map - *Graphs*\n",
    "\n",
    "## What is a graph?\n",
    "Well, before we start, let us talk about what s graph actually is, therefore we need to do some theory.  \n",
    "In general: **A graph represents a set of objects and their relationships (relation).**\n",
    "Components you require for a graph are: **vertex** and **edge**. Using these two elements one can create polygons, corners, etc. Connecting vertexes using edges creates your graph. Additionally, vertexes and edges can have a weight, to provide them a *cost* or a *weight*. This is used when different ways are existing, and you need to figure out what is the best one (for example when calculating the best way to walk from a to b and there are two ways, but one is much longer than the other, or one it less easy to walk than the other, etc.).  \n",
    "<div>\n",
    "<img src=\"./img/graph-basic.png\" width=\"500\"/>\n",
    "</div>\n",
    "\n",
    "**The formal definition**:  \n",
    "A graph G is a pair (V, E) with the following properties:\n",
    "1. V is a finite, non-empty set (elements of this set are called nodes).\n",
    "2. E ⊆ V × V describes the set of edges.\n",
    "\n",
    "## Example algorithms for graph processing and network analysis\n",
    "Well, there are some algorithms to further categorize and process a graph. The algorithms, we present here, are focusing on subgraph identification and processing. So let us start with the first one for identifying a *connected subgraph* within a graph.\n",
    "\n",
    "### Connected subgraph algorithm\n",
    "In general, on top of a network data model, more network analysis functions can be implemented. One of them is finding specific subgraphs, such as for example which nodes can be reached starting at a specific point. This subgraph, finding all reachable nodes starting from a specific point, is called *connected subgraph*. The figure below shows reachable nodes starting from node **v2**. As you can see, the node **v6** is **not reachable**.\n",
    "<div>\n",
    "<img src=\"./img/graph-subgraph.png\" width=\"700\"/>\n",
    "</div>\n",
    "\n",
    "### Minimum spanning tree algorithm\n",
    "Another network analysis operation is finding the *minimum spanning tree*, which is the spanning tree with the minimum sum of edge weights. Take a look at the following figure, each edge has a value here. **a)** is the original graph, **b)** is the minimal spanning tree, because there are not just no cycles left, but adding all costs together is **= 14**, which is the lowest possible value. **c)** is also a spanning tree, but not the minimal one, because all cost values together are 20, which is **> 14**.\n",
    "<div>\n",
    "<img src=\"./img/graph-cost.png\" width=\"1000\"/>\n",
    "</div>\n",
    "\n",
    "### Shortest path algorithm\n",
    "One of the most important network operations is called *shortest path*. Here, the path with the lowest costs between two nodes is calculated. But what means *the lowest costs*? Well, every edge can have a value, this value defines the cost. A value could be the length of an edge, for example. We just used a method for calculating the shortest path between two places, which are (in our graph) represented as points. The method we used is based on the *Dijkstra Algorithm*.  \n",
    "[Dijkstra algorithm](https://de.wikipedia.org/wiki/Dijkstra-Algorithmus#:~:text=Der%20Algorithmus%20von%20Dijkstra%20(nach,Pfade%20f%C3%BCr%20einen%20gegebenen%20Startknoten.) is better explained watching a video, search for Dijykstra on YouTube, there are a lot of tutorials. When we calculated the shorted path between *Reiff Museum* and *Aachen central station* in the method *.shorted_path()*, we actually use the Dijkstra algorithm.\n",
    "\n",
    "\n",
    "Of course. these algorithms are not the only ones, we just want to show you a selection of important algorithms for graph processing and network analysis."
   ]
  },
  {
   "cell_type": "markdown",
   "metadata": {},
   "source": [
    "## Working with graphs\n",
    "Spatial graphs can be traceable to a mathematical concept. A mathematical graph is composed of **nodes** which are linked by **edges**. Therefore, nodes can represent geographic places with specific locations and edges represent connecting paths. The composition is needed to analyse structures, such as the following example of path calculation shows."
   ]
  },
  {
   "cell_type": "code",
   "execution_count": null,
   "metadata": {},
   "outputs": [],
   "source": [
    "import sys\n",
    "import geopandas as gpd\n",
    "import matplotlib.pyplot as plt\n",
    "import networkx as nx\n",
    "import osmnx as ox\n",
    "from descartes import PolygonPatch\n",
    "from shapely.geometry import LineString\n",
    "from shapely.geometry import Point\n",
    "from shapely.geometry import Polygon\n",
    "\n",
    "%matplotlib inline\n",
    "ox.config(log_console=True)\n",
    "ox.__version__"
   ]
  },
  {
   "cell_type": "code",
   "execution_count": null,
   "metadata": {},
   "outputs": [],
   "source": [
    "point = (50.775593, 6.082478)"
   ]
  },
  {
   "cell_type": "code",
   "execution_count": null,
   "metadata": {},
   "outputs": [],
   "source": [
    "#Quering the exact geopoint of the two places in Aachen\n",
    "reiff = ox.geocode(\"reiff museum aachen\")\n",
    "hbf = ox.geocode(\"Aachen Hauptbahnhof\")"
   ]
  },
  {
   "cell_type": "code",
   "execution_count": null,
   "metadata": {},
   "outputs": [],
   "source": [
    "#Attention, getting the whole of Aachen takes many minutes, we will get the inner city only\n",
    "G = ox.graph_from_point(point, dist=500, network_type=\"walk\")"
   ]
  },
  {
   "cell_type": "code",
   "execution_count": null,
   "metadata": {},
   "outputs": [],
   "source": [
    "# Let us get out our graph from OSM first\n",
    "ax, fig = ox.plot_graph(G, node_color='b', node_zorder=3, bgcolor='#FFFFFF')"
   ]
  },
  {
   "cell_type": "markdown",
   "metadata": {},
   "source": [
    "In the following, we are going to plot the shortest path between a start and an end point. There is one issue, the actual train station is not part of the map itself, so the closest point to the train station is chosen. If you pick two nodes, then the shortest path between those two can be found, using weight = *length*. One-way streets are correctly handled."
   ]
  },
  {
   "cell_type": "code",
   "execution_count": null,
   "metadata": {},
   "outputs": [],
   "source": [
    "#Set start and end point (value)\n",
    "start = ox.nearest_nodes(G, reiff[1], reiff[0])\n",
    "dest  = ox.nearest_nodes(G, hbf[1], hbf[0])"
   ]
  },
  {
   "cell_type": "markdown",
   "metadata": {},
   "source": [
    "The **shortes_path()** function comes from the *NetworX* library. If the weight parameter of this function is specified, the Dijkstra's algorithm is used to find the optimal route. This algorithm belongs to the class of Greedy algorithms. In graph theory, these are used to solve optimization problems such as finding the shortest path."
   ]
  },
  {
   "cell_type": "code",
   "execution_count": null,
   "metadata": {},
   "outputs": [],
   "source": [
    "#Calculate the shortest path between start and end point\n",
    "route = ox.shortest_path(G, start, dest)\n",
    "ox.plot_graph_route(G, route)\n",
    "import matplotlib.pyplot as plt\n",
    "plt.savefig('world.jpg')"
   ]
  },
  {
   "cell_type": "markdown",
   "metadata": {},
   "source": [
    "# Isochrone map using OSM data\n",
    "So far so good, let us look at a more advanced example by using OSM data to analyse information about speed and travel time. The following code is mainly done by Geoff Boeing this is one of his examples, we have adapted it to Aachen. He developed *OSMnx*!  \n",
    "## Isochrone map\n",
    "This sort of map depicts the area accessible from a point within a certain time threshold (iso= equal, chrone= time). It is common in geography and urban planning, and we can create one using OSM data and Python package *OSMnx*. But let us start with importing the necessary libraries."
   ]
  },
  {
   "cell_type": "markdown",
   "metadata": {},
   "source": [
    "## Querying a places' data\n",
    "The function graph_from_place can only be used for areas where the query must be geocodable and OSM must have polygon boundaries for the result. Alternatively, use the **graph_from_address** function. Here, the geocode converts the place name to a point."
   ]
  },
  {
   "cell_type": "code",
   "execution_count": null,
   "metadata": {},
   "outputs": [],
   "source": [
    "#Set needed values for parameter\n",
    "place = \"Templergraben 55, Aachen, Germany\"\n",
    "network_type = \"walk\"\n",
    "dist = 1000\n",
    "trip_times = [5, 10, 15, 20]\n",
    "travel_speed = 4.5 #walking speed in km/hour"
   ]
  },
  {
   "cell_type": "code",
   "execution_count": null,
   "metadata": {},
   "outputs": [],
   "source": [
    "G = ox.graph_from_address(place, dist=dist, network_type=network_type)"
   ]
  },
  {
   "cell_type": "code",
   "execution_count": null,
   "metadata": {},
   "outputs": [],
   "source": [
    "#Find the centermost node and then project the graph to UTM\n",
    "gdf_nodes = ox.graph_to_gdfs(G, edges=False)\n",
    "x, y = gdf_nodes[\"geometry\"].unary_union.centroid.xy\n",
    "center_node = ox.nearest_nodes(G, x[0], y[0])\n",
    "G = ox.project_graph(G)"
   ]
  },
  {
   "cell_type": "markdown",
   "metadata": {},
   "source": [
    "## Calculations"
   ]
  },
  {
   "cell_type": "code",
   "execution_count": null,
   "metadata": {},
   "outputs": [],
   "source": [
    "#Add an edge attribute for time in minutes required to traverse each edge\n",
    "meters_per_minute = travel_speed * 1000 / 60  # km per hour to m per minute\n",
    "for _, _, _, data in G.edges(data=True, keys=True):\n",
    "    data[\"time\"] = data[\"length\"] / meters_per_minute"
   ]
  },
  {
   "cell_type": "code",
   "execution_count": null,
   "metadata": {},
   "outputs": [],
   "source": [
    "#Get the color\n",
    "iso_colors = ox.plot.get_colors(n=len(trip_times), cmap=\"plasma\", start=0, return_hex=True)"
   ]
  },
  {
   "cell_type": "code",
   "execution_count": null,
   "metadata": {},
   "outputs": [],
   "source": [
    "#Color the nodes according to isochrone then plot the street network\n",
    "node_colors = {}\n",
    "for trip_time, color in zip(sorted(trip_times, reverse=True), iso_colors):\n",
    "    subgraph = nx.ego_graph(G, center_node, radius=trip_time, distance=\"time\")\n",
    "    for node in subgraph.nodes():\n",
    "        node_colors[node] = color\n",
    "#Define node color and size\n",
    "nc = [node_colors[node] if node in node_colors else \"none\" for node in G.nodes()]\n",
    "ns = [15 if node in node_colors else 0 for node in G.nodes()]\n",
    "#Plotting the graph\n",
    "fig, ax = ox.plot_graph(\n",
    "    G,\n",
    "    node_color=nc,\n",
    "    node_size=ns,\n",
    "    node_alpha=0.8,\n",
    "    edge_linewidth=0.3,\n",
    "    edge_color=\"#ffffff\",\n",
    ")\n",
    "fig.savefig('plot.png', dpi=300)"
   ]
  },
  {
   "cell_type": "markdown",
   "metadata": {},
   "source": [
    "## Colouring: from point to area\n",
    "So until now, we have got coloured points, but we would like to have polygons in our map. So what we do is, we take the nodes and calculate the polygon."
   ]
  },
  {
   "cell_type": "code",
   "execution_count": null,
   "metadata": {},
   "outputs": [],
   "source": [
    "#Create the isochrone polygons\n",
    "isochrone_polys = []\n",
    "for trip_time in sorted(trip_times, reverse=True):\n",
    "    subgraph = nx.ego_graph(G, center_node, radius=trip_time, distance=\"time\")\n",
    "    node_points = [Point((data[\"x\"], data[\"y\"])) for node, data in subgraph.nodes(data=True)]\n",
    "    bounding_poly = gpd.GeoSeries(node_points).unary_union.convex_hull\n",
    "    isochrone_polys.append(bounding_poly)"
   ]
  },
  {
   "cell_type": "code",
   "execution_count": null,
   "metadata": {},
   "outputs": [],
   "source": [
    "#Create graph plot\n",
    "fig, ax = ox.plot_graph(\n",
    "    G, show=False, close=False, edge_color=\"#ffffff\", edge_alpha=0.2, node_size=0\n",
    ")\n",
    "#Adding polygons\n",
    "for polygon, fc in zip(isochrone_polys, iso_colors):\n",
    "    patch = PolygonPatch(polygon, fc=fc, ec=\"none\", alpha=0.6, zorder=-1)\n",
    "    ax.add_patch(patch)\n",
    "plt.show()"
   ]
  },
  {
   "cell_type": "markdown",
   "metadata": {},
   "source": [
    "## Shape the colouring\n",
    "The next part is huge and contains mathematic. It is the first time we actually create a function. We want the polygon we already got to follow the street shape, therefore we need to do some reshaping. Go through the following code and try to understand what happens."
   ]
  },
  {
   "cell_type": "code",
   "execution_count": null,
   "metadata": {},
   "outputs": [],
   "source": [
    "#Creating a function for polygon shaping\n",
    "def make_iso_polys(G, edge_buff=25, node_buff=50, infill=False):\n",
    "    isochrone_polys = []\n",
    "    for trip_time in sorted(trip_times, reverse=True):\n",
    "        subgraph = nx.ego_graph(G, center_node, radius=trip_time, distance=\"time\")\n",
    "        node_points = [Point((data[\"x\"], data[\"y\"])) for node, data in subgraph.nodes(data=True)]\n",
    "        nodes_gdf = gpd.GeoDataFrame({\"id\": list(subgraph.nodes)}, geometry=node_points)\n",
    "        nodes_gdf = nodes_gdf.set_index(\"id\")\n",
    "\n",
    "        edge_lines = []\n",
    "        for n_fr, n_to in subgraph.edges():\n",
    "            f = nodes_gdf.loc[n_fr].geometry\n",
    "            t = nodes_gdf.loc[n_to].geometry\n",
    "            edge_lookup = G.get_edge_data(n_fr, n_to)[0].get(\"geometry\", LineString([f, t]))\n",
    "            edge_lines.append(edge_lookup)\n",
    "\n",
    "        n = nodes_gdf.buffer(node_buff).geometry\n",
    "        e = gpd.GeoSeries(edge_lines).buffer(edge_buff).geometry\n",
    "        all_gs = list(n) + list(e)\n",
    "        new_iso = gpd.GeoSeries(all_gs).unary_union\n",
    "        if infill:\n",
    "            new_iso = Polygon(new_iso.exterior)\n",
    "        isochrone_polys.append(new_iso)\n",
    "    return isochrone_polys"
   ]
  },
  {
   "cell_type": "code",
   "execution_count": null,
   "metadata": {},
   "outputs": [],
   "source": [
    "isochrone_polys = make_iso_polys(G, edge_buff=25, node_buff=0, infill=True)\n",
    "#Create the graph plot\n",
    "fig, ax = ox.plot_graph(\n",
    "    G, show=False, close=False, edge_color=\"#ffffff\", edge_alpha=0.2, node_size=0\n",
    ")\n",
    "#Adding polygons\n",
    "for polygon, fc in zip(isochrone_polys, iso_colors):\n",
    "    patch = PolygonPatch(polygon, fc=fc, ec=\"none\", alpha=0.7, zorder=-1)\n",
    "    ax.add_patch(patch)\n",
    "plt.show()"
   ]
  },
  {
   "cell_type": "markdown",
   "metadata": {},
   "source": [
    "## Saving graphs to GeoPackage and SVG file\n",
    "Sometimes you need this picture printed as PNG or JPG or a more geo related file such as GeoPackage."
   ]
  },
  {
   "cell_type": "code",
   "execution_count": null,
   "metadata": {},
   "outputs": [],
   "source": [
    "ox.save_graph_geopackage(G, filepath=\"mynetwork.gpkg\")"
   ]
  },
  {
   "cell_type": "markdown",
   "metadata": {},
   "source": [
    "Or we could also save it as Shapefile:"
   ]
  },
  {
   "cell_type": "code",
   "execution_count": null,
   "metadata": {},
   "outputs": [],
   "source": [
    "ox.save_graph_shapefile(G, filepath=\"mynetwork.shp\")"
   ]
  },
  {
   "cell_type": "markdown",
   "metadata": {},
   "source": [
    "When running the code above, you get a warning. This warning is not about something using Python but rather a specification about Shapefile. Shapefile uses the *dBASE* file format to store attribute information. Just remember the character limitation of field names.\n",
    "Other times you may need your graphs to be able to load in for example illustrator and therefore saved as **svg** file. When running the code below, a new file will show up in your file structure, called mynetwork.svg."
   ]
  },
  {
   "cell_type": "code",
   "execution_count": null,
   "metadata": {},
   "outputs": [],
   "source": [
    "ox.plot_graph_route(G, route, node_color='b', node_zorder=3, bgcolor='#FFFFFF', show=False, save=True, filepath='./mynetwork.svg')"
   ]
  },
  {
   "cell_type": "markdown",
   "metadata": {},
   "source": [
    "### Exercise\n",
    "Center your own living address and find out what is reachable using only bike network. Figure out what the average speed using a bike is and assume trip times in a range from 20 to 50 and use another colour map."
   ]
  },
  {
   "cell_type": "code",
   "execution_count": null,
   "metadata": {},
   "outputs": [],
   "source": []
  }
 ],
 "metadata": {
  "kernelspec": {
   "display_name": "Python 3 (ipykernel)",
   "language": "python",
   "name": "python3"
  },
  "language_info": {
   "codemirror_mode": {
    "name": "ipython",
    "version": 3
   },
   "file_extension": ".py",
   "mimetype": "text/x-python",
   "name": "python",
   "nbconvert_exporter": "python",
   "pygments_lexer": "ipython3",
   "version": "3.9.7"
  },
  "toc": {
   "base_numbering": 1,
   "nav_menu": {},
   "number_sections": true,
   "sideBar": true,
   "skip_h1_title": false,
   "title_cell": "Table of Contents",
   "title_sidebar": "Contents",
   "toc_cell": true,
   "toc_position": {
    "height": "668.717px",
    "left": "940px",
    "top": "171.133px",
    "width": "165px"
   },
   "toc_section_display": true,
   "toc_window_display": true
  }
 },
 "nbformat": 4,
 "nbformat_minor": 4
}
