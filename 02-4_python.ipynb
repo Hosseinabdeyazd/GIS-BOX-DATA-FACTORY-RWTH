{
 "cells": [
  {
   "cell_type": "markdown",
   "metadata": {},
   "source": [
    "# Introduction to Python programming: Python libraries\n",
    "## Pandas\n",
    "[Pandas](https://pandas.pydata.org/) built on top of Python and a powerful, flexible and easy to use open source data and manipulation library.  \n",
    "![pandas](./img/pandas.png)\n",
    "### DataFrame\n",
    "A Pandas DataFrame is a tabular data structure with labelled axes. The tabular data structure is two-dimensional size-mutable and potentially heterogeneous. The three principal components are: **data, rows, columns**. A DataFrame is created when loading data from a storage, as for example from a CSV file or a SQL Database. Besides, one can create DataFrames from lists or dictionaries as well.\n",
    "### Example:"
   ]
  },
  {
   "cell_type": "code",
   "execution_count": null,
   "metadata": {},
   "outputs": [],
   "source": [
    "import pandas as pd\n",
    "grillpl = pd.read_json(r'./data/markante_bauw.json')\n",
    "grillpl.head()"
   ]
  },
  {
   "cell_type": "markdown",
   "metadata": {},
   "source": [
    "## GeoPandas\n",
    "[GeoPandas](https://geopandas.org/) extends the data types used by pandas to allow spatial operations and to make working with geospatial data in Python easier. There are more libraries for working with geoinformation, but in this course we focus on GeoPandas. GeoPandas depends on other libraries such as the already mentioned Matplotlib for plot or Fiona for file access. But for further information, have a look st the official webpage.  ![Geopandas](./img/geopandas.png)\n",
    "### GeoDataFrame\n",
    "A GeoDataFrame is a subclass of pandas DataFrame. The most important property of a GeoDataFrame is the GeoSeries column that holds a special status, as it is referred to as 'geometry'. This column can be accessed by using the geometry attribute and the name of the geometry column. If there are more columns containing geometrical objects, only one can be the active geometry at a time.\n",
    "### Example:"
   ]
  },
  {
   "cell_type": "code",
   "execution_count": null,
   "metadata": {},
   "outputs": [],
   "source": [
    "import geopandas as gpd\n",
    "new_geoj = gpd.read_file('./data/knotenpunkte-wald_ac.geojson')\n",
    "new_geoj.head()"
   ]
  },
  {
   "cell_type": "markdown",
   "metadata": {},
   "source": [
    "## OSMnx\n",
    "The first link gets you to the official GitHub page [by Geff Boeing](https://github.com/gboeing/osmnx), and the second link is the [documentation](https://osmnx.readthedocs.io/en/stable/). \n",
    "[OpenStreetMap's](https://www.openstreetmap.de/) data can be downloaded by using the *OSMnx* Python package. OSM is a 2004 founded international Project to create a world map, inspired by Wikipedia. To achieve this goal, map relevant data is collected all over the world. So everyone can get registered and add data to the collection. One can imagine that *complete* is not the right term to describe a dynamic, growing project database. Apart from that, the level of detail can change from one region to another, so it could be that some areas are still white spots. For more information, check out the official OpenStreetMap website.  \n",
    "![OpenStreetMap](./img/git_rep.png)\n",
    "## matplotlib\n",
    "[Matplotlip](https://matplotlib.org/) is a huge library for creating visualizations in Python. Data can be visualized using plotted diagrams. Have a look at the official webpage, you will find documentation, examples, and tutorial there.  \n",
    "The following code shows an example of the ground areas of Aachen 31.12.2016 as cake diagram.\n",
    "![matplotlib](./img/matplotlib.png)"
   ]
  },
  {
   "cell_type": "code",
   "execution_count": null,
   "metadata": {},
   "outputs": [],
   "source": [
    "import matplotlib.pyplot as plt\n",
    "\n",
    "labels = 'Siedlung', 'Verkehr', 'Vegetation', 'Gewässer'\n",
    "sizes = [47.37, 16.34, 96.01, 1.13]\n",
    "explode = (0.1, 0, 0, 0)\n",
    "\n",
    "fig1, ax1 = plt.subplots()\n",
    "ax1.pie(sizes, explode=explode, labels=labels, autopct='%1.1f%%',\n",
    "        shadow=True, startangle=90)\n",
    "ax1.axis('equal')\n",
    "\n",
    "plt.show()"
   ]
  },
  {
   "cell_type": "markdown",
   "metadata": {},
   "source": [
    "## ipyleaflet"
   ]
  },
  {
   "cell_type": "markdown",
   "metadata": {},
   "source": [
    "[ipyleaflet](https://ipyleaflet.readthedocs.io/en/latest/layers/geodata.html) is a library for creating interactive maps. \n",
    "The provided link leads you directly to the documentation for GeoData in *ipyleaflet*.\n",
    "![ipyleaflet](./img/ipyleaflet.PNG)"
   ]
  },
  {
   "cell_type": "code",
   "execution_count": null,
   "metadata": {},
   "outputs": [],
   "source": []
  }
 ],
 "metadata": {
  "kernelspec": {
   "display_name": "Python 3 (ipykernel)",
   "language": "python",
   "name": "python3"
  },
  "language_info": {
   "codemirror_mode": {
    "name": "ipython",
    "version": 3
   },
   "file_extension": ".py",
   "mimetype": "text/x-python",
   "name": "python",
   "nbconvert_exporter": "python",
   "pygments_lexer": "ipython3",
   "version": "3.9.7"
  },
  "toc": {
   "base_numbering": 1,
   "nav_menu": {},
   "number_sections": true,
   "sideBar": true,
   "skip_h1_title": false,
   "title_cell": "Table of Contents",
   "title_sidebar": "Contents",
   "toc_cell": true,
   "toc_position": {
    "height": "668.717px",
    "left": "940px",
    "top": "171.133px",
    "width": "165px"
   },
   "toc_section_display": true,
   "toc_window_display": true
  }
 },
 "nbformat": 4,
 "nbformat_minor": 4
}
