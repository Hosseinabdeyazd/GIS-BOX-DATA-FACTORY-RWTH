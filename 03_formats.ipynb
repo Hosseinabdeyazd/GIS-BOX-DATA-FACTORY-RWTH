{
 "cells": [
  {
   "cell_type": "markdown",
   "metadata": {
    "toc": true
   },
   "source": [
    "<h1>Table of Contents<span class=\"tocSkip\"></span></h1>\n",
    "<div class=\"toc\"><ul class=\"toc-item\"><li><span><a href=\"#Introduction-to-Serialization-formats\" data-toc-modified-id=\"Introduction-to-Serialization-formats-1\"><span class=\"toc-item-num\">1&nbsp;&nbsp;</span>Introduction to Serialization formats</a></span><ul class=\"toc-item\"><li><span><a href=\"#JSON\" data-toc-modified-id=\"JSON-1.1\"><span class=\"toc-item-num\">1.1&nbsp;&nbsp;</span>JSON</a></span><ul class=\"toc-item\"><li><span><a href=\"#Exercise\" data-toc-modified-id=\"Exercise-1.1.1\"><span class=\"toc-item-num\">1.1.1&nbsp;&nbsp;</span>Exercise</a></span></li></ul></li><li><span><a href=\"#CSV\" data-toc-modified-id=\"CSV-1.2\"><span class=\"toc-item-num\">1.2&nbsp;&nbsp;</span>CSV</a></span><ul class=\"toc-item\"><li><span><a href=\"#Exercise\" data-toc-modified-id=\"Exercise-1.2.1\"><span class=\"toc-item-num\">1.2.1&nbsp;&nbsp;</span>Exercise</a></span></li></ul></li><li><span><a href=\"#XML\" data-toc-modified-id=\"XML-1.3\"><span class=\"toc-item-num\">1.3&nbsp;&nbsp;</span>XML</a></span><ul class=\"toc-item\"><li><span><a href=\"#Exercise\" data-toc-modified-id=\"Exercise-1.3.1\"><span class=\"toc-item-num\">1.3.1&nbsp;&nbsp;</span>Exercise</a></span></li></ul></li></ul></li><li><span><a href=\"#Introduction-to-GeoData-formats:\" data-toc-modified-id=\"Introduction-to-GeoData-formats:-2\"><span class=\"toc-item-num\">2&nbsp;&nbsp;</span>Introduction to GeoData formats:</a></span><ul class=\"toc-item\"><li><span><a href=\"#GeoJSON\" data-toc-modified-id=\"GeoJSON-2.1\"><span class=\"toc-item-num\">2.1&nbsp;&nbsp;</span>GeoJSON</a></span></li><li><span><a href=\"#GeoPackage\" data-toc-modified-id=\"GeoPackage-2.2\"><span class=\"toc-item-num\">2.2&nbsp;&nbsp;</span>GeoPackage</a></span></li></ul></li></ul></div>"
   ]
  },
  {
   "cell_type": "markdown",
   "metadata": {},
   "source": [
    "# Introduction to Serialization formats "
   ]
  },
  {
   "cell_type": "markdown",
   "metadata": {},
   "source": [
    "## JSON\n",
    "Let's talk about JSON - JavaScript Object Notation. It is a syntax for storing and exchanging data as text, therefore machine and human-readable.  \n",
    "There a few packages in Python for working with JSON files.  \n",
    "\n",
    "1. One package is called [json](https://docs.python.org/3/library/json.html)  \n",
    "2. Then there is [pandas](https://pandas.pydata.org/), you will see pandas can read a lot of formats, as it is a package specialized for data analysis \n",
    "\n",
    "The following code shows how to read a JSON file (to a DataFrame) using Python:"
   ]
  },
  {
   "cell_type": "code",
   "execution_count": null,
   "metadata": {},
   "outputs": [],
   "source": [
    "import json\n",
    "import pandas as pd \n",
    "import geopandas as gpd\n",
    "from pandas.io.json import json_normalize\n",
    "#loading the file prepared in data\n",
    "grillpl = gpd.read_file(r'./data/grillplaetze.json')\n",
    "#doing some sclicing, as we just want to have specific information about the mueums\n",
    "#grillpl = grillpl['name']\n",
    "grillpl.head(10)"
   ]
  },
  {
   "cell_type": "markdown",
   "metadata": {},
   "source": [
    "We just printed the first 5 lines (grillpl.head(5)) if you change the 5 to any other number you will get the amount of lines."
   ]
  },
  {
   "cell_type": "markdown",
   "metadata": {},
   "source": [
    "### Exercise\n",
    "Now it is your turn. We provided a JSON file called \"markante_bauw.json\". Load the file and extract the building height and number of floors. After extracting the data, use the **mathplotlip** library and visualize your data in dependence as graph. "
   ]
  },
  {
   "cell_type": "markdown",
   "metadata": {},
   "source": [
    "## CSV\n",
    "\n",
    "The CSV format (comma separated values) describes a text file for the exchange of structured data. As the name already says the information are separated by a specific separator, mostly **;**. \n",
    "\n",
    "How to work with CSV in Python, well there are lots of possibilities:  \n",
    "\n",
    "1. The already integrated [csv](https://docs.python.org/3/library/csv.html) module \n",
    "2. Another package you can use to read CSV files is [numpy](https://numpy.org/doc/stable/user/how-to-io.html?highlight=csv)  \n",
    "3. The one we use here is [pandas](https://pandas.pydata.org/pandas-docs/stable/reference/api/pandas.read_csv.html)  \n",
    "\n",
    "So you see, we are not really bounded to a specific library, well at least not as long as we are using basic operations. SO let's have a look how to actually load a CSV file. If you load the file you, have got lots of options to add. To get an overview have a look in the documentation. Run the following code to see what happens."
   ]
  },
  {
   "cell_type": "code",
   "execution_count": null,
   "metadata": {},
   "outputs": [],
   "source": [
    "import pandas as pd\n",
    "import os\n",
    "import matplotlib.pyplot as plt \n",
    "bauwerk_ac = pd.read_csv(r\"./data/bauwerksliste_aachen.csv\", sep=';', engine='python')\n",
    "ort = bauwerk_ac.loc[:, 'Ort:']\n",
    "bauwerksart = bauwerk_ac.loc[:, 'Bauwersart:']\n",
    "print (bauwerksart)"
   ]
  },
  {
   "cell_type": "markdown",
   "metadata": {},
   "source": [
    "The code above not just load a CSV file but does some slicing as well. If you change the print output to **Ort** you will get the output for the **Ort** column.  \n"
   ]
  },
  {
   "cell_type": "code",
   "execution_count": null,
   "metadata": {},
   "outputs": [],
   "source": [
    "ort = bauwerk_ac.loc[:, 'Ort:']\n",
    "myset = set(ort)\n",
    "x = {}\n",
    "for elem in myset:\n",
    "    for i in ort:\n",
    "        if elem == i:\n",
    "            x[elem] = x.get(elem, 0)+1\n",
    "\n",
    "fig1, ax1 = plt.subplots()\n",
    "ax1.pie(x.values(), labels=x.keys(), autopct='%1.1f%%', startangle=90)\n",
    "ax1.axis('equal')\n",
    "plt.show()"
   ]
  },
  {
   "cell_type": "markdown",
   "metadata": {},
   "source": [
    "### Exercise\n",
    "\n",
    "1. Exercise  \n",
    "The code above reads a CSV file and filters how often a place is called. This information is visualized in a diagram. The diagram can hardly be read, check out matplotlip and try to visualize the output in different ways.\n",
    " \n",
    "2. Exercise  \n",
    "Take the CSV file **bauwerksliste_aachen.csv** slice the file and extract information about building year just for buildings with \"Ort\" = Aachen."
   ]
  },
  {
   "cell_type": "markdown",
   "metadata": {},
   "source": [
    "## XML\n",
    "\n",
    "XML the Extensible Markup Language encodes documents in a format that is readable for human and machine. At least in theory, but you are welcome to try and read a XML file containing above 10000 lines, there are much more interesting things to read. Anyway, XML files are a little harder to work with as the are based on the parent-child prinzip and contain **namespace**. \n",
    "\n",
    "As for the other two there are a few XML modules in Python as well.  \n",
    "\n",
    "1. There is an integrated package calles [xml](https://docs.python.org/3/library/xml.html)  \n",
    "2. The [ElementTree](https://docs.python.org/3/library/xml.etree.elementtree.html) package   \n",
    "3. **lxml** \"toolkit is a Pythonic binding for the C libraries libxml2 and libxslt\" and is actually compatible but superior to the ElementTree API. \n",
    "\n",
    "Well let's move on and have a look at an XML in Python using ElementTree:"
   ]
  },
  {
   "cell_type": "code",
   "execution_count": null,
   "metadata": {},
   "outputs": [],
   "source": [
    "import xml.etree.ElementTree as ET\n",
    "tree = ET.parse(\"./data/markante_bauw_wuppert.xml\")\n",
    "html = tree.getroot()\n",
    "#print(html.tag)\n",
    "html.attrib\n",
    "#print(html)\n",
    "ns = {\"gmd\": \"http://www.isotc211.org/2005/gmd\", \"gco\": \"http://www.isotc211.org/2005/gco\", \"csw\" : \"http://www.opengis.net/cat/csw/2.0.2\"}\n",
    "for child in html.findall(\".//gmd:EX_GeographicBoundingBox\", namespaces = ns):\n",
    "    point = child.find('./gmd:westBoundLongitude/gco:Decimal', namespaces = ns).text\n",
    "    print(point)\n",
    "#print(html)"
   ]
  },
  {
   "cell_type": "markdown",
   "metadata": {},
   "source": [
    "### Exercise\n",
    "1. Exercise  \n",
    "Try to get a list of the buildings mentioned in this XML file by using ElementTree. It is possible, that you will have to open the XML and read through it. \n",
    "2. Exercise  \n",
    "Try and write a XML file yourself. We already had a file with museums in Düsseldorf, let's create one for Aachen as XML by using Python. Search the museums and add for each of them a little summary of their focus."
   ]
  },
  {
   "cell_type": "markdown",
   "metadata": {},
   "source": [
    "# Introduction to GeoData formats:\n"
   ]
  },
  {
   "cell_type": "markdown",
   "metadata": {},
   "source": [
    "## GeoJSON\n",
    "GeoJSON is, after all, a JSON file, so it can be read as one. Therefore, geo-spacialized python packages such as GeoPandas are able to read GeoJSON.\n",
    "As the following example shows, sometimes files are not correct done and need to be improved. When using the following points as they are right now, one end up on the ocean."
   ]
  },
  {
   "cell_type": "code",
   "execution_count": null,
   "metadata": {
    "scrolled": true
   },
   "outputs": [],
   "source": [
    "import geopandas as gp\n",
    "import matplotlib\n",
    "import matplotlib.pyplot as plt\n",
    "new_geoj = gp.read_file('./data/knotenpunkte-wald_ac.geojson')\n",
    "#new_geoj = new_geoj.set_crs(epsg=25832)\n",
    "new_geoj = new_geoj.to_crs(epsg=4326)\n",
    "new_geoj.head()"
   ]
  },
  {
   "cell_type": "code",
   "execution_count": null,
   "metadata": {},
   "outputs": [],
   "source": [
    "for elem in new_geoj['geometry']:\n",
    "    print (elem)"
   ]
  },
  {
   "cell_type": "code",
   "execution_count": null,
   "metadata": {
    "scrolled": true
   },
   "outputs": [],
   "source": [
    "t = new_geoj.plot(figsize=(6, 6))\n",
    "plt.show()"
   ]
  },
  {
   "cell_type": "code",
   "execution_count": null,
   "metadata": {},
   "outputs": [],
   "source": [
    "type(new_geoj.geometry[0])"
   ]
  },
  {
   "cell_type": "code",
   "execution_count": null,
   "metadata": {},
   "outputs": [],
   "source": [
    "ax = new_geoj.set_geometry('geometry')\\\n",
    "                .plot('knotennr', \n",
    "                      markersize=10)"
   ]
  },
  {
   "cell_type": "code",
   "execution_count": null,
   "metadata": {},
   "outputs": [],
   "source": [
    "new_geoj.plot(\n",
    "    column='id', \n",
    "    legend=True, \n",
    "    edgecolor='none', \n",
    "    figsize=(12, 12)\n",
    ")"
   ]
  },
  {
   "cell_type": "markdown",
   "metadata": {},
   "source": [
    "## GeoPackage\n",
    "To work with special data such as GeoPackages we need geo-specialised python packages such as GeoPandas. First we could analyse the data, by checking the Indexes, Shape, and we can plot the table here. The 'aachen_network' file contains a node network and an edge network, make sure to set the layer you want correctly, by default it is 'node'."
   ]
  },
  {
   "cell_type": "code",
   "execution_count": null,
   "metadata": {},
   "outputs": [],
   "source": [
    "import geopandas as gp\n",
    "import contextily\n",
    "file_gb = gp.read_file(\"./data/aachen_network.gpkg\", layer=\"nodes\")\n",
    "file_gb.columns"
   ]
  },
  {
   "cell_type": "code",
   "execution_count": null,
   "metadata": {},
   "outputs": [],
   "source": [
    "file_gb.shape"
   ]
  },
  {
   "cell_type": "code",
   "execution_count": null,
   "metadata": {},
   "outputs": [],
   "source": [
    "file_gb.head(10)"
   ]
  },
  {
   "cell_type": "code",
   "execution_count": null,
   "metadata": {},
   "outputs": [],
   "source": [
    "file_gb.plot(markersize=0.1)"
   ]
  },
  {
   "cell_type": "code",
   "execution_count": null,
   "metadata": {},
   "outputs": [],
   "source": [
    "file_gb= file_gb.to_crs(epsg=3857)\n",
    "file_gb.head()"
   ]
  },
  {
   "cell_type": "code",
   "execution_count": null,
   "metadata": {},
   "outputs": [],
   "source": [
    "ax = file_gb.plot(figsize=(10, 10), alpha=0.5, edgecolor='k')\n",
    "contextily.add_basemap(\n",
    "    ax,\n",
    "    crs=file_gb.crs.to_string(), \n",
    "    source=contextily.providers.Stamen.Toner\n",
    ")"
   ]
  },
  {
   "cell_type": "code",
   "execution_count": null,
   "metadata": {},
   "outputs": [],
   "source": []
  }
 ],
 "metadata": {
  "kernelspec": {
   "display_name": "Python 3",
   "language": "python",
   "name": "python3"
  },
  "language_info": {
   "codemirror_mode": {
    "name": "ipython",
    "version": 3
   },
   "file_extension": ".py",
   "mimetype": "text/x-python",
   "name": "python",
   "nbconvert_exporter": "python",
   "pygments_lexer": "ipython3",
   "version": "3.8.8"
  },
  "toc": {
   "base_numbering": 1,
   "nav_menu": {},
   "number_sections": true,
   "sideBar": true,
   "skip_h1_title": false,
   "title_cell": "Table of Contents",
   "title_sidebar": "Contents",
   "toc_cell": true,
   "toc_position": {
    "height": "668.717px",
    "left": "940px",
    "top": "171.133px",
    "width": "165px"
   },
   "toc_section_display": true,
   "toc_window_display": true
  }
 },
 "nbformat": 4,
 "nbformat_minor": 2
}
