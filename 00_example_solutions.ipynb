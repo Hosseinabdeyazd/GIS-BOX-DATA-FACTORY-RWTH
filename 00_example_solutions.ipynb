{
 "cells": [
  {
   "cell_type": "markdown",
   "metadata": {},
   "source": [
    "# Solutions Jupyter Notebook exercises\n",
    "The following solution is just one of many, remember that just because your solution looks different doesn't mean it's wrong. Compare both solutions (yours and the sample solution) before making a judgement.\n",
    "## 02-2_python\n",
    "### Exercise \n",
    "1. write a loop that prints every character of the string \"Hello RWTH\". Rember that Strings are tuples.\n",
    "2. Write a **for**, that prints every second word of the sentence \"The house has to please everyone, contrary to the work of art which does not. The work is a private matter for the artist. The house is not.\" \n",
    "    - hint: strings can be split with the  [**split(' ')**](https://docs.python.org/3.8/library/stdtypes.html#str.split) funciton in single words. The length of lists can be determined with **.len()** .  Then you could either \n",
    "    -access each  nth element mit dem **[]**\n",
    "    -or use  \n",
    "    ```python\n",
    "    for element in liste:\n",
    "           print (element)`\n",
    "    ```` \n",
    "### Solution\n",
    "The following steps are important:\n",
    "* Load all necessary Python packages\n",
    "* Load the file\n",
    "* Extract the required information\n",
    "* Think of a way to plot the data (mathplotlib is only one possibility)"
   ]
  },
  {
   "cell_type": "code",
   "execution_count": null,
   "metadata": {},
   "outputs": [],
   "source": [
    "# Exercise 1\n",
    "my_str = \"Hello RWTH\"\n",
    "for elem in my_str:\n",
    "    print (elem)"
   ]
  },
  {
   "cell_type": "code",
   "execution_count": null,
   "metadata": {},
   "outputs": [],
   "source": [
    "#Exercise 2\n",
    "my_new_str = \"The house has to please everyone, contrary to the work of art which does not. The work is a private matter for the artist. The house is not.\"\n",
    "new_list = my_new_str.split(' ')\n",
    "for elem in new_list[::2]:\n",
    "    print(elem)"
   ]
  },
  {
   "cell_type": "markdown",
   "metadata": {},
   "source": [
    "## 03-1_formats: JSON\n",
    "### 3.0.1 Exercise \n",
    "Now it is your turn. We provided a JSON file called \"markante_bauw.json\". Load the file and extract the building height and number of floors. After extracting the data, use the **mathplotlip** library and visualize your data in dependence, as a graph. \n",
    "### Solution\n",
    "The following steps are important:\n",
    "* Load all necessary Python packages\n",
    "* Load the file\n",
    "* Extract the required information\n",
    "* Think of a way to plot the data (mathplotlib is only one possibility)"
   ]
  },
  {
   "cell_type": "code",
   "execution_count": 24,
   "metadata": {},
   "outputs": [
    {
     "data": {
      "text/html": [
       "<div>\n",
       "<style scoped>\n",
       "    .dataframe tbody tr th:only-of-type {\n",
       "        vertical-align: middle;\n",
       "    }\n",
       "\n",
       "    .dataframe tbody tr th {\n",
       "        vertical-align: top;\n",
       "    }\n",
       "\n",
       "    .dataframe thead th {\n",
       "        text-align: right;\n",
       "    }\n",
       "</style>\n",
       "<table border=\"1\" class=\"dataframe\">\n",
       "  <thead>\n",
       "    <tr style=\"text-align: right;\">\n",
       "      <th></th>\n",
       "      <th>help</th>\n",
       "      <th>success</th>\n",
       "      <th>result</th>\n",
       "    </tr>\n",
       "  </thead>\n",
       "  <tbody>\n",
       "    <tr>\n",
       "      <th>fields</th>\n",
       "      <td>Search a datastore table. :param resource_id: ...</td>\n",
       "      <td>True</td>\n",
       "      <td>[{'id': 'latitude', 'type': 'text'}, {'id': 'l...</td>\n",
       "    </tr>\n",
       "    <tr>\n",
       "      <th>limit</th>\n",
       "      <td>Search a datastore table. :param resource_id: ...</td>\n",
       "      <td>True</td>\n",
       "      <td>10</td>\n",
       "    </tr>\n",
       "    <tr>\n",
       "      <th>records</th>\n",
       "      <td>Search a datastore table. :param resource_id: ...</td>\n",
       "      <td>True</td>\n",
       "      <td>[{'latitude': '51.217746', 'longitude': '6.779...</td>\n",
       "    </tr>\n",
       "    <tr>\n",
       "      <th>resource_id</th>\n",
       "      <td>Search a datastore table. :param resource_id: ...</td>\n",
       "      <td>True</td>\n",
       "      <td>[a89b6c69-9046-4630-938a-c381048ed718]</td>\n",
       "    </tr>\n",
       "    <tr>\n",
       "      <th>total</th>\n",
       "      <td>Search a datastore table. :param resource_id: ...</td>\n",
       "      <td>True</td>\n",
       "      <td>37</td>\n",
       "    </tr>\n",
       "  </tbody>\n",
       "</table>\n",
       "</div>"
      ],
      "text/plain": [
       "                                                          help  success  \\\n",
       "fields       Search a datastore table. :param resource_id: ...     True   \n",
       "limit        Search a datastore table. :param resource_id: ...     True   \n",
       "records      Search a datastore table. :param resource_id: ...     True   \n",
       "resource_id  Search a datastore table. :param resource_id: ...     True   \n",
       "total        Search a datastore table. :param resource_id: ...     True   \n",
       "\n",
       "                                                        result  \n",
       "fields       [{'id': 'latitude', 'type': 'text'}, {'id': 'l...  \n",
       "limit                                                       10  \n",
       "records      [{'latitude': '51.217746', 'longitude': '6.779...  \n",
       "resource_id             [a89b6c69-9046-4630-938a-c381048ed718]  \n",
       "total                                                       37  "
      ]
     },
     "execution_count": 24,
     "metadata": {},
     "output_type": "execute_result"
    }
   ],
   "source": [
    "#Import all necessary packages/ libraries\n",
    "import pandas as pd\n",
    "import matplotlib.pyplot as plt\n",
    "#Read/ parse JSON file\n",
    "mark_bau = pd.read_json(r'./data/markante_bauw.json')\n",
    "#Print first 5 lines of table\n",
    "mark_bau.head(5)"
   ]
  },
  {
   "cell_type": "code",
   "execution_count": 33,
   "metadata": {},
   "outputs": [
    {
     "name": "stdout",
     "output_type": "stream",
     "text": [
      "<class 'pandas.core.frame.DataFrame'>\n",
      "Index: 5 entries, fields to total\n",
      "Data columns (total 3 columns):\n",
      " #   Column   Non-Null Count  Dtype \n",
      "---  ------   --------------  ----- \n",
      " 0   help     5 non-null      object\n",
      " 1   success  5 non-null      bool  \n",
      " 2   result   5 non-null      object\n",
      "dtypes: bool(1), object(2)\n",
      "memory usage: 297.0+ bytes\n"
     ]
    }
   ],
   "source": [
    "mark_bau.info()"
   ]
  },
  {
   "cell_type": "code",
   "execution_count": 34,
   "metadata": {},
   "outputs": [
    {
     "name": "stdout",
     "output_type": "stream",
     "text": [
      "<function get_info at 0x7f35c6976160>\n"
     ]
    }
   ],
   "source": [
    "#Define function for slicing table\n",
    "def get_info(info):\n",
    "    extr_info = []\n",
    "    slic_df = mark_bau['result']['records']\n",
    "    for records in slic_df:\n",
    "        new_inf = records[info]\n",
    "        extr_info.append(new_inf)\n",
    "    return extr_info\n",
    "print(get_info)"
   ]
  },
  {
   "cell_type": "code",
   "execution_count": 27,
   "metadata": {},
   "outputs": [
    {
     "name": "stdout",
     "output_type": "stream",
     "text": [
      "['Höhe 69 m', 'Höhe 124,9 m', 'Höhe 61 m', 'Höhe 59 m', 'Höhe 60 m', 'Höhe 62 m', 'Höhe 58 m', 'Höhe 60 m', 'Höhe 74 m', 'Höhe 63 m']\n"
     ]
    }
   ],
   "source": [
    "#Get information 'gebaeudehoehe'\n",
    "gebh = get_info('gebaeudehoehe')\n",
    "print(gebh)"
   ]
  },
  {
   "cell_type": "code",
   "execution_count": 28,
   "metadata": {},
   "outputs": [
    {
     "name": "stdout",
     "output_type": "stream",
     "text": [
      "['18 Stockwerke', '31 Stockwerke', '19 Stockwerke', '17 Stockwerke', '18 Stockwerke', '18 Stockwerke', '12 Stockwerke', '17 Stockwerke', '26 Stockwerke', '16 Stockwerke']\n",
      "18\n",
      "31\n",
      "19\n",
      "17\n",
      "18\n",
      "18\n",
      "12\n",
      "17\n",
      "26\n",
      "16\n"
     ]
    }
   ],
   "source": [
    "#Get information 'stockwerke' and extract integer from string\n",
    "stock = get_info('stockwerke')\n",
    "new_li = []\n",
    "print(stock)\n",
    "for elems in stock:\n",
    "    for elem in elems.split(): \n",
    "        if elem.isdigit():\n",
    "            new_li.append(elem)\n",
    "            print(elem)"
   ]
  },
  {
   "cell_type": "code",
   "execution_count": 29,
   "metadata": {},
   "outputs": [
    {
     "data": {
      "image/png": "[encoded data removed]",
      "text/plain": [
       "<Figure size 432x288 with 1 Axes>"
      ]
     },
     "metadata": {},
     "output_type": "display_data"
    }
   ],
   "source": [
    "#Create example plot\n",
    "fig1, ax1 = plt.subplots()\n",
    "ax1.pie(new_li, labels=gebh, autopct='%1.1f%%', shadow=True, startangle=90)\n",
    "ax1.axis('equal')  # Equal aspect ratio ensures that pie is drawn as a circle.\n",
    "plt.show()"
   ]
  },
  {
   "cell_type": "markdown",
   "metadata": {},
   "source": [
    "## 03-1_formats: CSV\n",
    "### 3.1.1 Exercise 1\n",
    "The code above reads a CSV file and filters how often a place is called. This information is visualized in a diagram. The diagram can hardly be read, check out matplotlip and try to visualize the output in different ways. \n",
    "### Solution\n",
    "We do not need the hole code provided in the section CSV. What we need is:\n",
    "* The necessary Python packages\n",
    "* The required CSV file\n",
    "* The slicing of the file for specific information\n",
    "* An advantageous way of presentation"
   ]
  },
  {
   "cell_type": "code",
   "execution_count": 30,
   "metadata": {},
   "outputs": [
    {
     "name": "stdout",
     "output_type": "stream",
     "text": [
      "                      Bauwerks-Nr.:        Bauwerksname:         Ort  \\\n",
      "0                              A001              Akerweg    Vetschau   \n",
      "1                              A002    Bocholtzer Straße    Vetschau   \n",
      "2                              A003  Burtscheider Straße  Burtscheid   \n",
      "3                              A003  Burtscheider Straße  Burtscheid   \n",
      "4                              A003  Burtscheider Straße  Burtscheid   \n",
      "..                              ...                  ...         ...   \n",
      "630                            S223       Benno-Levy-Weg      Haaren   \n",
      "631                            S224      Friedenstraße I      Haaren   \n",
      "632                            S225            Hexenberg      Aachen   \n",
      "633                             NaN                  NaN         NaN   \n",
      "634  Gesamtanzahl der Bauwerke: 635                  NaN         NaN   \n",
      "\n",
      "    Teilbauwerks-Nr.: Teilbauwerksname:                            Bauwersart  \\\n",
      "0                 NaN            Brücke    Bogenartige Brücke / Gewölbebrücke   \n",
      "1                 NaN            Brücke    Bogenartige Brücke / Gewölbebrücke   \n",
      "2                   A       Hauptbrücke  Bogenbrücke mit abgehängter Fahrbahn   \n",
      "3                   B       1.Vorbrücke             Brücke als offener Rahmen   \n",
      "4                   C      2. Vorbrücke             Gewölbe- bzw. Bogenbrücke   \n",
      "..                ...               ...                                   ...   \n",
      "630               NaN     Bewehrte Erde                         Bewehrte Erde   \n",
      "631               NaN         Stützwand            Stützbauwerk als Stützwand   \n",
      "632               NaN         Stützwand              Stützwand als Massivwand   \n",
      "633               NaN               NaN                                   NaN   \n",
      "634               NaN               NaN                                   NaN   \n",
      "\n",
      "                              Bauwerkskonstruktion: Baujahr:  \\\n",
      "0                      Einfeld-2-Gelenk-Bogenbrücke     1905   \n",
      "1                      Einfeld-2-Gelenk-Bogenbrücke     1903   \n",
      "2                       Zweigelenkbogen mit Zugband     1952   \n",
      "3                                 Stahlbeton-Rahmen     1964   \n",
      "4                                      Betongewölbe     1900   \n",
      "..                                              ...      ...   \n",
      "630  Böschungssicherung, geokunststoffbewehrte Erde     2020   \n",
      "631                  Winkelstützwand aus Stahlbeton     2020   \n",
      "632                            Stahlbeton-Stützwand      NaN   \n",
      "633                                             NaN      NaN   \n",
      "634                                             NaN      NaN   \n",
      "\n",
      "     Fäche:               [m²] Anderes Bauwerk nach DIN 1076:  \n",
      "0                         82.0                           Nein  \n",
      "1                         82.0                           Nein  \n",
      "2                        782.0                           Nein  \n",
      "3                        147.0                           Nein  \n",
      "4                        167.0                           Nein  \n",
      "..                         ...                            ...  \n",
      "630                       67.0                             Ja  \n",
      "631                       16.0                           Nein  \n",
      "632                      155.0                           Nein  \n",
      "633                        NaN                            NaN  \n",
      "634                        NaN                            NaN  \n",
      "\n",
      "[635 rows x 10 columns]\n"
     ]
    }
   ],
   "source": [
    "#Import all necessary packages/ libraries\n",
    "import pandas as pd\n",
    "import os\n",
    "import matplotlib.pyplot as plt \n",
    "#Read/ parse CSV file\n",
    "bauwerk_ac = pd.read_csv(r\"./data/bauwerksliste_aachen.csv\", sep=';', engine='python')\n",
    "print (bauwerk_ac)"
   ]
  },
  {
   "cell_type": "code",
   "execution_count": 31,
   "metadata": {},
   "outputs": [],
   "source": [
    "#Counting how often each name shows up\n",
    "place = bauwerk_ac.loc[:, 'Ort']\n",
    "myset = set(place)\n",
    "x = {}\n",
    "for elem in myset:\n",
    "    for i in place:\n",
    "        if elem == i:\n",
    "            x[elem] = x.get(elem, 0)+1"
   ]
  },
  {
   "cell_type": "code",
   "execution_count": 32,
   "metadata": {},
   "outputs": [
    {
     "data": {
      "image/png": "[encoded data removed]",
      "text/plain": [
       "<Figure size 432x288 with 1 Axes>"
      ]
     },
     "metadata": {
      "needs_background": "light"
     },
     "output_type": "display_data"
    }
   ],
   "source": [
    "#There are a lot of information, so we change the visualisation by using a bar diagram\n",
    "fig = plt.figure()\n",
    "ax = fig.add_axes([0,0,10,5])\n",
    "ax.bar(x.keys(), x.values())\n",
    "plt.show()"
   ]
  },
  {
   "cell_type": "markdown",
   "metadata": {},
   "source": [
    "### 3.1.1 Exercise 2\n",
    "Take the CSV file **bauwerksliste_aachen.csv** slice the file and extract information about building year just for buildings with \"Ort\" = Aachen.\n",
    "### Solution"
   ]
  },
  {
   "cell_type": "code",
   "execution_count": null,
   "metadata": {},
   "outputs": [],
   "source": [
    "#Read/ parse CSV file\n",
    "bauwerk_ac = pd.read_csv(r\"./data/bauwerksliste_aachen.csv\", sep=';', engine='python')\n",
    "#Get the needed columns\n",
    "col = ['Ort', 'Baujahr:']\n",
    "new = bauwerk_ac[col]\n",
    "#Check where information 'Ort:' equals 'Aachen'\n",
    "just_aa_bjahr = new[new[\"Ort\"] == \"Aachen\"]\n",
    "print (just_aa_bjahr)"
   ]
  },
  {
   "cell_type": "markdown",
   "metadata": {},
   "source": [
    "## 03-1_formats: XML\n",
    "### 3.2.1 Exercise 1\n",
    "Try to get a list of the buildings mentioned in this XML file by using ElementTree. It is possible, that you will have to open the XML and read through it. \n",
    "### Solution"
   ]
  },
  {
   "cell_type": "code",
   "execution_count": null,
   "metadata": {},
   "outputs": [],
   "source": [
    "import xml.etree.ElementTree as ET"
   ]
  },
  {
   "cell_type": "code",
   "execution_count": null,
   "metadata": {},
   "outputs": [],
   "source": [
    "tree = ET.parse(\"./data/markante_bauw_wuppert.xml\")\n",
    "html = tree.getroot()\n",
    "ns = {\"gmd\": \"http://www.isotc211.org/2005/gmd\", \"gco\": \"http://www.isotc211.org/2005/gco\", \"csw\" : \"http://www.opengis.net/cat/csw/2.0.2\"}\n",
    "for child in html.findall(\".//gmd:descriptiveKeywords//gmd:keyword/gco:CharacterString\", namespaces = ns):\n",
    "    print(child.text)"
   ]
  },
  {
   "cell_type": "markdown",
   "metadata": {},
   "source": [
    "### 3.2.1 Exercise 2\n",
    "Try and write a XML file yourself. We already had a file with museums in Düsseldorf, let's create one for Aachen. Search the museums and add for each of them a little summary of their focus.\n",
    "### Solution"
   ]
  },
  {
   "cell_type": "raw",
   "metadata": {},
   "source": [
    "<?xml version=\"1.0\" encoding=\"UTF-8\"?>\n",
    "<!-- A SAMPLE XML -->\n",
    "<aachenmuseum>\n",
    "    <museum>\n",
    "        <name>Ludwig Forum Aachen</name>\n",
    "        <description>The Ludwig Forum for International Art Aachen is a cross-disciplinary contemporary art institution. It is based on the collection of Peter and Irene Ludwig with key works of Pop Art, Photorealism and European art from the 1960s until today.</description>\n",
    "    </museum>\n",
    "    <museum>\n",
    "        <name>Suermondt-Ludwig-Museum</name>\n",
    "        <description>The museum stands for art from antiquity to classical modernism. The medieval sculpture collection, however, is one of the museum's highlights. The Suermondt-Ludwig-Museum owes its extensive collection to donations from Aachen citizens and many other patrons.</description>\n",
    "    </museum>\n",
    "</aachenmuseum>"
   ]
  },
  {
   "cell_type": "markdown",
   "metadata": {},
   "source": [
    "## 04_point_pattern_analysis\n",
    "### 1.6.1 Exercise \n",
    "Look at the point analysis again carefully and note which steps are taken here and why. Describe what happens whereby adding notes '#' in the code. If you are working with code, it is important that you understand the steps. Change the code and see what happens. Load the file 'nodes-forest_ac.geojson' and use the same algorithm but use different layout information.\n",
    "### Solution\n",
    "The following cells are all taken out of the 04_point_pattern_analysis file. We add comments for a better understanding."
   ]
  },
  {
   "cell_type": "code",
   "execution_count": null,
   "metadata": {},
   "outputs": [],
   "source": [
    "#Import all necessary packages/ libraries\n",
    "import numpy\n",
    "import pandas as pd\n",
    "import geopandas\n",
    "import pysal\n",
    "import seaborn\n",
    "import contextily\n",
    "import os\n",
    "import matplotlib.pyplot as plt \n",
    "#Read/ parse CSV file\n",
    "avv_halt = pd.read_csv(r\"./data/AVV_Haltestellen.csv\", sep=',', engine='python')\n",
    "avv_halt.head()"
   ]
  },
  {
   "cell_type": "code",
   "execution_count": null,
   "metadata": {},
   "outputs": [],
   "source": [
    "#when opening the csv file using a text editor one can see, that the given numbers in two columns have to be divided by 1000000. \n",
    "#We take each element of the column called 'WGS84_RW_X_1000000' and divide each element by 1000000 and save the new value in the list new.\n",
    "ort = avv_halt['WGS84_RW_X_1000000'] \n",
    "old = []\n",
    "new = []\n",
    "for elem in ort:\n",
    "    old.append(elem)\n",
    "    elem = elem / 1000000\n",
    "    new.append(elem)"
   ]
  },
  {
   "cell_type": "code",
   "execution_count": null,
   "metadata": {},
   "outputs": [],
   "source": [
    "#In the last cell we divided all the elements in the column 'WGS84_RW_X_1000000' by 1000000. And REPLACE the old value with the new one in out table.\n",
    "avv_halt['WGS84_RW_X_1000000'].replace(old, new, inplace = True)\n",
    "avv_halt.head()"
   ]
  },
  {
   "cell_type": "code",
   "execution_count": null,
   "metadata": {},
   "outputs": [],
   "source": [
    "#The same procedure again for the second column with values, that have to be divided by 1000000\n",
    "ort2 = avv_halt['WGS84_HW_X_1000000'] \n",
    "old2 = []\n",
    "new2 = []\n",
    "for elem2 in ort2:\n",
    "    old2.append(elem2)\n",
    "    elem2 = elem2 / 1000000\n",
    "    new2.append(elem2)"
   ]
  },
  {
   "cell_type": "code",
   "execution_count": null,
   "metadata": {},
   "outputs": [],
   "source": [
    "avv_halt['WGS84_HW_X_1000000'].replace(old2, new2, inplace = True)\n",
    "avv_halt.head()"
   ]
  },
  {
   "cell_type": "code",
   "execution_count": null,
   "metadata": {},
   "outputs": [],
   "source": [
    "#To make it more comfortable, we RENAME both columns as latitude and longitude\n",
    "avv_halt = avv_halt.rename(columns = {'WGS84_HW_X_1000000' : 'latitude'})\n",
    "avv_halt = avv_halt.rename(columns = {'WGS84_RW_X_1000000' : 'longitude'})\n",
    "avv_halt.head()"
   ]
  },
  {
   "cell_type": "code",
   "execution_count": null,
   "metadata": {},
   "outputs": [],
   "source": [
    "#Now we have the coordinates. Here we use the method jointplot take longitude and latitude form the datafile 'avv_halt' and plot them in a diagram.\n",
    "seaborn.jointplot(x='longitude', y='latitude', data=avv_halt, s=0.5);"
   ]
  },
  {
   "cell_type": "code",
   "execution_count": null,
   "metadata": {},
   "outputs": [],
   "source": [
    "#Even though, the plot shows both columns longitude and latitude in dependency, a basemap would be good for orientation. \n",
    "joint_axes = seaborn.jointplot(\n",
    "    x='longitude', y='latitude', data=avv_halt, s=0.5\n",
    ")\n",
    "#adding the basemap\n",
    "contextily.add_basemap(\n",
    "    joint_axes.ax_joint,\n",
    "    crs=\"EPSG:4326\",\n",
    "    source=contextily.providers.CartoDB.PositronNoLabels\n",
    ");"
   ]
  },
  {
   "cell_type": "code",
   "execution_count": null,
   "metadata": {},
   "outputs": [],
   "source": [
    "#Generating the subplot by using the subplot method to generate fig (figure) and ax (axes)\n",
    "f, ax = plt.subplots(1, figsize=(12, 9))\n",
    "#Till now we just have points but it is hard to tell their density so we use the hexbin method.\n",
    "hb = ax.hexbin(\n",
    "    avv_halt['longitude'],\n",
    "    avv_halt['latitude'], \n",
    "    gridsize=50, \n",
    "    linewidths=0,\n",
    "    alpha=0.5, \n",
    "    cmap='viridis_r'\n",
    ")\n",
    "#again we use the basemap\n",
    "contextily.add_basemap(\n",
    "    ax, \n",
    "    crs=\"EPSG:4326\",\n",
    "    source=contextily.providers.CartoDB.Positron\n",
    ")\n",
    "plt.colorbar(hb)\n",
    "ax.set_axis_off()"
   ]
  },
  {
   "cell_type": "code",
   "execution_count": null,
   "metadata": {},
   "outputs": [],
   "source": [
    "#An alternative to hexbin in kdeplot. Again, we first create a subplot using matplotlib\n",
    "f, ax = plt.subplots(1, figsize=(9, 9))\n",
    "#Next we use the kdeplot method to generate one\n",
    "seaborn.kdeplot(\n",
    "    x = avv_halt['longitude'],\n",
    "    y = avv_halt['latitude'], \n",
    "    n_levels=50, \n",
    "    shade=True,\n",
    "    alpha=0.55, \n",
    "    cmap='viridis_r'\n",
    ")\n",
    "#Next we add a basemap\n",
    "contextily.add_basemap(\n",
    "    ax,\n",
    "    crs=\"EPSG:4326\",\n",
    "    source=contextily.providers.CartoDB.Positron,\n",
    "    \n",
    ")\n",
    "ax.set_axis_off()"
   ]
  },
  {
   "cell_type": "markdown",
   "metadata": {},
   "source": [
    "### 1.6.1 Exercise \n",
    "Look at the point analysis again carefully and note which steps are taken here and why. Describe what happens whereby adding notes '#' in the code. If you are working with code, it is important that you understand the steps. Change the code and see what happens. Load the file 'nodes-forest_ac.geojson' and use the same algorithm but use different layout information.\n",
    "### Solution\n",
    "The following cells are all taken out of the 04_point_pattern_analysis file. We add comments for a better understanding."
   ]
  },
  {
   "cell_type": "code",
   "execution_count": null,
   "metadata": {},
   "outputs": [],
   "source": [
    "#import packages\n",
    "import geopandas as gpd\n",
    "from pandas.io.json import json_normalize\n",
    "import contextily\n",
    "import matplotlib.pyplot as plt \n",
    "import seaborn\n",
    "import numpy as np\n",
    "#loading the file prepared in data\n",
    "grillpl = gpd.read_file(r'./data/knotenpunkte-wald_ac.geojson')\n",
    "grillpl= grillpl.to_crs(epsg=3857)\n",
    "grillpl = grillpl['geometry']\n",
    "grillpl.head(10)"
   ]
  },
  {
   "cell_type": "code",
   "execution_count": null,
   "metadata": {},
   "outputs": [],
   "source": [
    "f, ax = plt.subplots(1, figsize=(10, 10))\n",
    "hb = ax.hexbin(\n",
    "    grillpl.x,\n",
    "    grillpl.y,\n",
    "    gridsize=50, \n",
    "    linewidths=0,\n",
    "    alpha=0.5, \n",
    "    cmap='viridis_r'\n",
    ")\n",
    "contextily.add_basemap(\n",
    "    ax, \n",
    "    crs=grillpl.crs.to_string(),\n",
    "    source=contextily.providers.Stamen.Toner\n",
    ")\n",
    "plt.colorbar(hb)\n",
    "ax.set_axis_off()"
   ]
  },
  {
   "cell_type": "markdown",
   "metadata": {},
   "source": [
    "## 06_spatial_feature_analysis\n",
    "### 1.3.1 Exercise \n",
    "Take a look at the second example. Centroid the polygon and figure out how many parking areas are within 50, 100, 150, 200 meter.\n",
    "### Solution\n",
    "The first 4 of the following cells are taken out of the second part of 06_spatial_feature_analysis file. "
   ]
  },
  {
   "cell_type": "code",
   "execution_count": null,
   "metadata": {},
   "outputs": [],
   "source": [
    "#Import all necessary packages/ libraries\n",
    "import pandas as pd\n",
    "import geopandas as gpd\n",
    "import os\n",
    "import matplotlib.pyplot as plt \n",
    "import contextily\n",
    "import osmnx as ox\n",
    "from IPython.display import Image\n",
    "\n",
    "%matplotlib inline\n",
    "ox.config(log_console=True)\n",
    "ox.__version__"
   ]
  },
  {
   "cell_type": "code",
   "execution_count": null,
   "metadata": {},
   "outputs": [],
   "source": [
    "#Read/ parse SHP file\n",
    "uz = gpd.read_file(\"./data/umweltzone.shp\")\n",
    "uz.head()\n",
    "uz.info()"
   ]
  },
  {
   "cell_type": "code",
   "execution_count": null,
   "metadata": {},
   "outputs": [],
   "source": [
    "uz = uz.to_crs(\"EPSG:4326\")\n",
    "uz.head()"
   ]
  },
  {
   "cell_type": "code",
   "execution_count": null,
   "metadata": {},
   "outputs": [],
   "source": [
    "#Create a polygon\n",
    "uz_ch = uz.unary_union.convex_hull\n",
    "uz_ch"
   ]
  },
  {
   "cell_type": "code",
   "execution_count": null,
   "metadata": {},
   "outputs": [],
   "source": [
    "#It starts here, by centering the polygon\n",
    "new = uz_ch.centroid\n",
    "#Switching points\n",
    "change_coor = (new.y, new.x)"
   ]
  },
  {
   "cell_type": "code",
   "execution_count": null,
   "metadata": {},
   "outputs": [],
   "source": [
    "#Quering OSM by using a center point, the required tags and a distance\n",
    "tags={\"amenity\": 'parking'}\n",
    "gdf = ox.geometries_from_point(change_coor, tags, dist=750)\n",
    "gdf.plot()"
   ]
  },
  {
   "cell_type": "code",
   "execution_count": null,
   "metadata": {},
   "outputs": [],
   "source": [
    "#For visualistaion, add a basemap\n",
    "gdf= gdf.to_crs(epsg=3857)\n",
    "ax = gdf.plot(figsize=(10,10), alpha=0.5, edgecolor='k')\n",
    "contextily.add_basemap(\n",
    "    ax,\n",
    "    crs=gdf.crs.to_string(), \n",
    "    source=contextily.providers.Stamen.Toner\n",
    ")"
   ]
  },
  {
   "cell_type": "markdown",
   "metadata": {},
   "source": [
    "## 07_osm_geometry_and_graph\n",
    "### 1.2.1 Exercise \n",
    "Create a figure ground plan for your hometown or a city by choice, choose a suitable size.\n",
    "### Solution"
   ]
  },
  {
   "cell_type": "code",
   "execution_count": null,
   "metadata": {},
   "outputs": [],
   "source": [
    "#Import all necessary packages/ libraries\n",
    "import osmnx as ox\n",
    "from IPython.display import Image\n",
    "\n",
    "%matplotlib inline\n",
    "ox.config(log_console=True)\n",
    "ox.__version__"
   ]
  },
  {
   "cell_type": "code",
   "execution_count": null,
   "metadata": {},
   "outputs": [],
   "source": [
    "tags={\"building\":True}\n",
    "#Change the point to the center ponit of your city (google helps here)\n",
    "point = (50.935173, 6.953101)\n",
    "size=500\n",
    "#Choose an appropriate distance here. You may need to change this one, but be carefull not to query a massiv amount of data!\n",
    "dist = 2000\n",
    "gdf = ox.geometries_from_point(point, tags, dist=dist)\n",
    "gdf_proj = ox.project_gdf(gdf)"
   ]
  },
  {
   "cell_type": "code",
   "execution_count": null,
   "metadata": {},
   "outputs": [],
   "source": [
    "bbox = ox.utils_geo.bbox_from_point(point=point, dist=dist, project_utm=True)\n",
    "#You also should change the name here, but that is just cosmetic.\n",
    "fp = f\"./koeln_schwarzplan.png\"\n",
    "fig, ax = ox.plot_footprints(\n",
    "    gdf_proj,\n",
    "    bbox=bbox,\n",
    "    bgcolor=\"white\",\n",
    "    color=\"black\",\n",
    "    filepath=fp,\n",
    "    dpi=300,\n",
    "    save=True,\n",
    "    show=False,\n",
    "    close=True,\n",
    ")\n",
    "Image(fp, height=size, width=size)"
   ]
  },
  {
   "cell_type": "markdown",
   "metadata": {},
   "source": [
    "## 07_osm_geometry_and_graph\n",
    "### 1.5.1 Exercise \n",
    "Add another path, for example from the Aachen university hospital to the Aachen city hall. You are welcome to choose another path, but the map must be extended and for practise do not reuse Reiff and Hbf. Print both the existing and the new path in one map use different colours. Hint: Checkout the OSMnx documentation for functions such as plot_graph_route().\n",
    "### Solution"
   ]
  },
  {
   "cell_type": "code",
   "execution_count": null,
   "metadata": {},
   "outputs": [],
   "source": [
    "point = (50.775593, 6.082478)\n",
    "reiff = ox.geocode(\"reiff museum aachen\")\n",
    "hbf = ox.geocode(\"Aachen Hauptbahnhof\")\n",
    "#first you need to get the other coordinates\n",
    "uk = ox.geocode(\"Uniklinik RWTH Aachen\")\n",
    "rathaus = ox.geocode(\"Aachener Rathaus\")"
   ]
  },
  {
   "cell_type": "code",
   "execution_count": null,
   "metadata": {},
   "outputs": [],
   "source": [
    "#Attention, getting the whole of Aachen takes many minutes, we will get the inner city only\n",
    "#G = ox.graph_from_place(\"Aachen, Germany\", network_type=\"walk\")\n",
    "G = ox.graph_from_point(point, dist=1000, network_type=\"bike\")"
   ]
  },
  {
   "cell_type": "code",
   "execution_count": null,
   "metadata": {},
   "outputs": [],
   "source": [
    "ax, fig = ox.plot_graph(G, node_color='b', node_zorder=3, bgcolor='#FFFFFF')"
   ]
  },
  {
   "cell_type": "code",
   "execution_count": null,
   "metadata": {},
   "outputs": [],
   "source": [
    "start = ox.nearest_nodes(G, reiff[1], reiff[0])\n",
    "dest  = ox.nearest_nodes(G, hbf[1], hbf[0])"
   ]
  },
  {
   "cell_type": "code",
   "execution_count": null,
   "metadata": {},
   "outputs": [],
   "source": [
    "start1 = ox.nearest_nodes(G, uk[1], uk[0])\n",
    "dest1  = ox.nearest_nodes(G, rathaus[1], rathaus[0])"
   ]
  },
  {
   "cell_type": "code",
   "execution_count": null,
   "metadata": {},
   "outputs": [],
   "source": [
    "route1 = ox.shortest_path(G, start, dest)\n",
    "route2 = ox.shortest_path(G, start1, dest1)\n",
    "routes = [route1, route2]\n",
    "#Sadly the colour change just works for the method plot_graph_route\n",
    "col = ['r', 'y']\n",
    "#ox.plot_graph_route(G, route1)"
   ]
  },
  {
   "cell_type": "code",
   "execution_count": null,
   "metadata": {},
   "outputs": [],
   "source": [
    "fig, ax = ox.plot_graph_routes(G, routes, route_color=col)"
   ]
  },
  {
   "cell_type": "markdown",
   "metadata": {},
   "source": [
    "## 08_osm_isochrone_map \n",
    "### 1.4.1 Exercise \n",
    "Center your own living address and find out what is reachable using only bike network. Figure out what the average speed using a bike is and assume trip times in a range from 20 to 50 and use another colour map.\n",
    "### Solution\n",
    "We do not take all code cells, because they are exactly the same as in the 08_isochrone_map."
   ]
  },
  {
   "cell_type": "code",
   "execution_count": null,
   "metadata": {},
   "outputs": [],
   "source": [
    "import sys\n",
    "import geopandas as gpd\n",
    "import matplotlib.pyplot as plt\n",
    "import networkx as nx\n",
    "import osmnx as ox\n",
    "from descartes import PolygonPatch\n",
    "from shapely.geometry import LineString\n",
    "from shapely.geometry import Point\n",
    "from shapely.geometry import Polygon\n",
    "\n",
    "%matplotlib inline\n",
    "ox.config(log_console=True)\n",
    "ox.__version__"
   ]
  },
  {
   "cell_type": "code",
   "execution_count": null,
   "metadata": {},
   "outputs": [],
   "source": [
    "#Change place/ adress\n",
    "#############################################\n",
    "place = \"Schinkelstraße 1, Aachen, Germany\"\n",
    "#############################################\n",
    "#change type\n",
    "#############################################\n",
    "network_type = \"bike\"\n",
    "#############################################\n",
    "#Maybe change distance but be careful, you will download a lot of information\n",
    "#############################################\n",
    "dist = 10000\n",
    "#############################################\n",
    "#Change trip times\n",
    "#############################################\n",
    "trip_times = [20, 30, 40, 50]\n",
    "#############################################\n",
    "#Change travel speed\n",
    "#############################################\n",
    "travel_speed = 22.1 #walking speed in km/hour\n",
    "#############################################\n",
    "#EVERYTHING ELSE REMEINS THE SAME, (one Exception)...!!!"
   ]
  },
  {
   "cell_type": "code",
   "execution_count": null,
   "metadata": {},
   "outputs": [],
   "source": [
    "G = ox.graph_from_address(place, dist=dist, network_type=network_type)"
   ]
  },
  {
   "cell_type": "code",
   "execution_count": null,
   "metadata": {},
   "outputs": [],
   "source": [
    "# find the centermost node and then project the graph to UTM\n",
    "gdf_nodes = ox.graph_to_gdfs(G, edges=False)\n",
    "x, y = gdf_nodes[\"geometry\"].unary_union.centroid.xy\n",
    "center_node = ox.nearest_nodes(G, x[0], y[0])\n",
    "G = ox.project_graph(G)"
   ]
  },
  {
   "cell_type": "code",
   "execution_count": null,
   "metadata": {},
   "outputs": [],
   "source": [
    "# add an edge attribute for time in minutes required to traverse each edge\n",
    "meters_per_minute = travel_speed * 1000 / 60  # km per hour to m per minute\n",
    "for _, _, _, data in G.edges(data=True, keys=True):\n",
    "    data[\"time\"] = data[\"length\"] / meters_per_minute"
   ]
  },
  {
   "cell_type": "code",
   "execution_count": null,
   "metadata": {},
   "outputs": [],
   "source": [
    "# get the color\n",
    "#... EXCEPT for cmap, we change cmap (matplotlib) to get another colour schema\n",
    "iso_colors = ox.plot.get_colors(n=len(trip_times), cmap=\"viridis\", start=0, return_hex=True)"
   ]
  },
  {
   "cell_type": "code",
   "execution_count": null,
   "metadata": {},
   "outputs": [],
   "source": [
    "# color the nodes according to isochrone then plot the street network\n",
    "node_colors = {}\n",
    "for trip_time, color in zip(sorted(trip_times, reverse=True), iso_colors):\n",
    "    subgraph = nx.ego_graph(G, center_node, radius=trip_time, distance=\"time\")\n",
    "    for node in subgraph.nodes():\n",
    "        node_colors[node] = color\n",
    "nc = [node_colors[node] if node in node_colors else \"none\" for node in G.nodes()]\n",
    "ns = [15 if node in node_colors else 0 for node in G.nodes()]\n",
    "fig, ax = ox.plot_graph(\n",
    "    G,\n",
    "    node_color=nc,\n",
    "    node_size=ns,\n",
    "    node_alpha=0.8,\n",
    "    edge_linewidth=0.3,\n",
    "    edge_color=\"#ffffff\",\n",
    ")"
   ]
  },
  {
   "cell_type": "code",
   "execution_count": null,
   "metadata": {},
   "outputs": [],
   "source": [
    "# make the isochrone polygons\n",
    "isochrone_polys = []\n",
    "for trip_time in sorted(trip_times, reverse=True):\n",
    "    subgraph = nx.ego_graph(G, center_node, radius=trip_time, distance=\"time\")\n",
    "    node_points = [Point((data[\"x\"], data[\"y\"])) for node, data in subgraph.nodes(data=True)]\n",
    "    bounding_poly = gpd.GeoSeries(node_points).unary_union.convex_hull\n",
    "    isochrone_polys.append(bounding_poly)"
   ]
  },
  {
   "cell_type": "code",
   "execution_count": null,
   "metadata": {},
   "outputs": [],
   "source": [
    "fig, ax = ox.plot_graph(\n",
    "    G, show=False, close=False, edge_color=\"#ffffff\", edge_alpha=0.2, node_size=0\n",
    ")\n",
    "for polygon, fc in zip(isochrone_polys, iso_colors):\n",
    "    patch = PolygonPatch(polygon, fc=fc, ec=\"none\", alpha=0.6, zorder=-1)\n",
    "    ax.add_patch(patch)\n",
    "plt.show()"
   ]
  },
  {
   "cell_type": "code",
   "execution_count": null,
   "metadata": {},
   "outputs": [],
   "source": []
  },
  {
   "cell_type": "code",
   "execution_count": null,
   "metadata": {},
   "outputs": [],
   "source": []
  }
 ],
 "metadata": {
  "kernelspec": {
   "display_name": "Python 3 (ipykernel)",
   "language": "python",
   "name": "python3"
  },
  "language_info": {
   "codemirror_mode": {
    "name": "ipython",
    "version": 3
   },
   "file_extension": ".py",
   "mimetype": "text/x-python",
   "name": "python",
   "nbconvert_exporter": "python",
   "pygments_lexer": "ipython3",
   "version": "3.9.7"
  },
  "toc": {
   "base_numbering": 1,
   "nav_menu": {},
   "number_sections": true,
   "sideBar": true,
   "skip_h1_title": false,
   "title_cell": "Table of Contents",
   "title_sidebar": "Contents",
   "toc_cell": false,
   "toc_position": {},
   "toc_section_display": true,
   "toc_window_display": false
  }
 },
 "nbformat": 4,
 "nbformat_minor": 4
}
