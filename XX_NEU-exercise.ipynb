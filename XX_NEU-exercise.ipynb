{
 "cells": [
  {
   "cell_type": "markdown",
   "metadata": {},
   "source": [
    "# Exercise SoSe 2024\n",
    "We want you to illustrate data. For questions, there are three Q and A session coming up. We recommend taking part in these Q and A sessions and be prepared.\n",
    "\n",
    "* Results must be visualized\n",
    "* Describe what you do (code)\n",
    "\n",
    "**You are not allowed to use data already used in our Jupyter Notebooks!** We provide Links in the Jupyter Notebook for help. Take a look at the resource chapter in Moodle, there you many links, that can help. \n",
    "\n",
    "Remember, this is an exam admission task. We expect short, precise implementations. Sections/distances should be chosen so that your computer does not need too long computing times.  \n",
    "\n",
    "Useful links:\n",
    "* The actual Map [Open Street Map](https://www.openstreetmap.org/search?query=Aachen#map=12/50.7597/6.0964&layers=D)\n",
    "* Open Street Map tag information for querying [Wind](https://wiki.openstreetmap.org/wiki/Tag:generator:source%3Dwind), [Water](https://wiki.openstreetmap.org/wiki/Tag:plant:source%3Dhydro), [Solar](https://wiki.openstreetmap.org/wiki/Tag:generator:source=solar?uselang=en), [Geothermal](https://wiki.openstreetmap.org/wiki/Tag:plant:source%3Dgeothermal), [Biomass](https://wiki.openstreetmap.org/wiki/DE:Tag:generator:source%3Dbiomass)\n",
    "\n",
    "\n",
    "## How to proceed\n",
    "* Select your favourite spot in Aachen and mark it on an interactive map using an icon of your choice.\n",
    "* Search for one renewable energy resource position in and around the selected city and visualize the data in your interactive map using the library Python Ipyleaflet using for example an icon. \n",
    "* Finally, calculate the shortest path between your favourite spot in Aachen and the renewable energy resource and visualize it as well in your interactive map. \n"
   ]
  },
  {
   "cell_type": "code",
   "execution_count": null,
   "metadata": {},
   "outputs": [],
   "source": [
    "#Space for your code and text, add as many cells as you need!"
   ]
  },
  {
   "cell_type": "markdown",
   "metadata": {},
   "source": [
    "## Submission\n",
    "**FINAL Submission 23.06.2024 for your Jupyter Notebook**  \n",
    "Required for exam admission.\n",
    "Please submit:  \n",
    "* **THIS** juypter notebook file filled with your code\n",
    "* All used source/ created/ data files \n",
    "\n",
    "Submit as **ZIP** file, named like: **surname_student-id_course_year** in **RWTHMoodle**.\n",
    "If you have worked in pairs, please name the file as follows: **surname1_student-id1_surname2_student-id2_course_year**"
   ]
  },
  {
   "cell_type": "code",
   "execution_count": null,
   "metadata": {},
   "outputs": [],
   "source": []
  }
 ],
 "metadata": {
  "kernelspec": {
   "display_name": "Python 3 (ipykernel)",
   "language": "python",
   "name": "python3"
  },
  "language_info": {
   "codemirror_mode": {
    "name": "ipython",
    "version": 3
   },
   "file_extension": ".py",
   "mimetype": "text/x-python",
   "name": "python",
   "nbconvert_exporter": "python",
   "pygments_lexer": "ipython3",
   "version": "3.9.7"
  },
  "toc": {
   "base_numbering": 1,
   "nav_menu": {},
   "number_sections": true,
   "sideBar": true,
   "skip_h1_title": false,
   "title_cell": "Table of Contents",
   "title_sidebar": "Contents",
   "toc_cell": false,
   "toc_position": {},
   "toc_section_display": true,
   "toc_window_display": false
  }
 },
 "nbformat": 4,
 "nbformat_minor": 4
}
